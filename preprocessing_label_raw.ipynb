{
 "cells": [
  {
   "cell_type": "code",
   "execution_count": 1,
   "id": "b1dafb96",
   "metadata": {},
   "outputs": [],
   "source": [
    "import os\n",
    "import json\n",
    "import pandas as pd\n",
    "import numpy as np"
   ]
  },
  {
   "cell_type": "code",
   "execution_count": 2,
   "id": "0916d585",
   "metadata": {},
   "outputs": [],
   "source": [
    "def convert_json_to_csv(folder_path, output_folder):\n",
    "\n",
    "    output_files = []\n",
    "    \n",
    "    try:\n",
    "        if not os.path.exists(output_folder):\n",
    "            os.makedirs(output_folder)\n",
    "            \n",
    "        for file in os.listdir(folder_path):\n",
    "            if file.endswith(\".json\"):\n",
    "                file_path = os.path.join(folder_path, file)\n",
    "\n",
    "                with open(file_path, 'r', encoding='utf-8-sig') as json_file:\n",
    "                    data = json.load(json_file)\n",
    "                    data = pd.json_normalize(data)\n",
    "\n",
    "                df = pd.DataFrame(data)\n",
    "                csv_file_path = os.path.join(output_folder, file.replace('.json', '.csv'))\n",
    "                df.to_csv(csv_file_path, index=False)\n",
    "                output_files.append(csv_file_path)\n",
    "\n",
    "        return output_files\n",
    "    except Exception as e:\n",
    "        return str(e)\n"
   ]
  },
  {
   "cell_type": "code",
   "execution_count": 3,
   "id": "e009ad75",
   "metadata": {},
   "outputs": [
    {
     "name": "stdout",
     "output_type": "stream",
     "text": [
      "['./sample_5\\\\D3_DA_0527_000042.csv', './sample_5\\\\D3_DA_0601_000001.csv', './sample_5\\\\D3_DA_0603_000001.csv', './sample_5\\\\D3_DA_0609_000001.csv', './sample_5\\\\D3_DA_0610_000001.csv']\n"
     ]
    }
   ],
   "source": [
    "folder_path = './sample_5'\n",
    "output_folder = './sample_5'\n",
    "output_files = convert_json_to_csv(folder_path, output_folder)\n",
    "print(output_files)"
   ]
  },
  {
   "cell_type": "code",
   "execution_count": 5,
   "id": "8548a7bd",
   "metadata": {},
   "outputs": [],
   "source": [
    "df = pd.read_csv('./sample_5/D3_DA_0527_000042.csv', encoding='utf-8')"
   ]
  },
  {
   "cell_type": "code",
   "execution_count": 28,
   "id": "4e6b873e",
   "metadata": {},
   "outputs": [
    {
     "data": {
      "text/html": [
       "<div>\n",
       "<style scoped>\n",
       "    .dataframe tbody tr th:only-of-type {\n",
       "        vertical-align: middle;\n",
       "    }\n",
       "\n",
       "    .dataframe tbody tr th {\n",
       "        vertical-align: top;\n",
       "    }\n",
       "\n",
       "    .dataframe thead th {\n",
       "        text-align: right;\n",
       "    }\n",
       "</style>\n",
       "<table border=\"1\" class=\"dataframe\">\n",
       "  <thead>\n",
       "    <tr style=\"text-align: right;\">\n",
       "      <th></th>\n",
       "      <th>video_name</th>\n",
       "      <th>width</th>\n",
       "      <th>height</th>\n",
       "      <th>frame_rate</th>\n",
       "      <th>duration</th>\n",
       "      <th>total_frame</th>\n",
       "      <th>film_method</th>\n",
       "      <th>filmed_date</th>\n",
       "      <th>domain_id</th>\n",
       "      <th>place</th>\n",
       "      <th>...</th>\n",
       "      <th>f1_consis_avg</th>\n",
       "      <th>annotated_date</th>\n",
       "      <th>version</th>\n",
       "      <th>revision_history</th>\n",
       "      <th>seg_annotator_id</th>\n",
       "      <th>seg_confirmer_id</th>\n",
       "      <th>distributor</th>\n",
       "      <th>describe_ko</th>\n",
       "      <th>describe_en</th>\n",
       "      <th>sentences</th>\n",
       "    </tr>\n",
       "  </thead>\n",
       "  <tbody>\n",
       "    <tr>\n",
       "      <th>0</th>\n",
       "      <td>D3_DA_0527_000042.mp4</td>\n",
       "      <td>1920</td>\n",
       "      <td>1080</td>\n",
       "      <td>30</td>\n",
       "      <td>180.0</td>\n",
       "      <td>5400.0</td>\n",
       "      <td>filmed_directly</td>\n",
       "      <td>2022-06-22</td>\n",
       "      <td>DA</td>\n",
       "      <td>indoor</td>\n",
       "      <td>...</td>\n",
       "      <td>1</td>\n",
       "      <td>2022-05-27</td>\n",
       "      <td>1</td>\n",
       "      <td>NaN</td>\n",
       "      <td>[132, 341, 548, 947, 768]</td>\n",
       "      <td>[515, 300, 679, 730, 148]</td>\n",
       "      <td>selectstar</td>\n",
       "      <td>여자가 물을 마시며 컴퓨터를 한다.</td>\n",
       "      <td>The woman drinks water and computers.</td>\n",
       "      <td>[{'timestamps': ['00:00.00000', '00:04.00000']...</td>\n",
       "    </tr>\n",
       "  </tbody>\n",
       "</table>\n",
       "<p>1 rows × 21 columns</p>\n",
       "</div>"
      ],
      "text/plain": [
       "              video_name  width  height  frame_rate  duration  total_frame  \\\n",
       "0  D3_DA_0527_000042.mp4   1920    1080          30     180.0       5400.0   \n",
       "\n",
       "       film_method filmed_date domain_id   place  ... f1_consis_avg  \\\n",
       "0  filmed_directly  2022-06-22        DA  indoor  ...             1   \n",
       "\n",
       "   annotated_date version  revision_history           seg_annotator_id  \\\n",
       "0      2022-05-27       1               NaN  [132, 341, 548, 947, 768]   \n",
       "\n",
       "            seg_confirmer_id distributor          describe_ko  \\\n",
       "0  [515, 300, 679, 730, 148]  selectstar  여자가 물을 마시며 컴퓨터를 한다.   \n",
       "\n",
       "                             describe_en  \\\n",
       "0  The woman drinks water and computers.   \n",
       "\n",
       "                                           sentences  \n",
       "0  [{'timestamps': ['00:00.00000', '00:04.00000']...  \n",
       "\n",
       "[1 rows x 21 columns]"
      ]
     },
     "execution_count": 28,
     "metadata": {},
     "output_type": "execute_result"
    }
   ],
   "source": [
    "df.head()"
   ]
  },
  {
   "cell_type": "code",
   "execution_count": null,
   "id": "64de9443",
   "metadata": {},
   "outputs": [],
   "source": []
  }
 ],
 "metadata": {
  "kernelspec": {
   "display_name": "Python 3 (ipykernel)",
   "language": "python",
   "name": "python3"
  },
  "language_info": {
   "codemirror_mode": {
    "name": "ipython",
    "version": 3
   },
   "file_extension": ".py",
   "mimetype": "text/x-python",
   "name": "python",
   "nbconvert_exporter": "python",
   "pygments_lexer": "ipython3",
   "version": "3.11.5"
  }
 },
 "nbformat": 4,
 "nbformat_minor": 5
}
