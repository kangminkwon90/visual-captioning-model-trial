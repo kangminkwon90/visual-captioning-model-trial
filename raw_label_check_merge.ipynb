{
 "cells": [
  {
   "cell_type": "code",
   "execution_count": 39,
   "id": "6f841b4d",
   "metadata": {},
   "outputs": [],
   "source": [
    "import os\n",
    "import json\n",
    "import pandas as pd\n",
    "import numpy as np"
   ]
  },
  {
   "cell_type": "code",
   "execution_count": 14,
   "id": "fb742dd4",
   "metadata": {},
   "outputs": [],
   "source": [
    "def convert_json_to_csv(folder_path, output_folder):\n",
    "\n",
    "    output_files = []\n",
    "    \n",
    "    try:\n",
    "        if not os.path.exists(output_folder):\n",
    "            os.makedirs(output_folder)\n",
    "            \n",
    "        for file in os.listdir(folder_path):\n",
    "            if file.endswith(\".json\"):\n",
    "                file_path = os.path.join(folder_path, file)\n",
    "\n",
    "                with open(file_path, 'r', encoding='utf-8-sig') as json_file:\n",
    "                    data = json.load(json_file)\n",
    "                    data = pd.json_normalize(data)\n",
    "\n",
    "                df = pd.DataFrame(data)\n",
    "                csv_file_path = os.path.join(output_folder, file.replace('.json', '.csv'))\n",
    "                df.to_csv(csv_file_path, index=False)\n",
    "                output_files.append(csv_file_path)\n",
    "\n",
    "        return output_files\n",
    "    except Exception as e:\n",
    "        return str(e)"
   ]
  },
  {
   "cell_type": "code",
   "execution_count": 15,
   "id": "22607fda",
   "metadata": {},
   "outputs": [
    {
     "name": "stdout",
     "output_type": "stream",
     "text": [
      "['./sample_check\\\\IMG_0446250_person(person)_(4_3).csv']\n"
     ]
    }
   ],
   "source": [
    "folder_path = './sample_check'\n",
    "output_folder = './sample_check'\n",
    "output_files = convert_json_to_csv(folder_path, output_folder)\n",
    "print(output_files)"
   ]
  },
  {
   "cell_type": "code",
   "execution_count": 17,
   "id": "0ebb5162",
   "metadata": {},
   "outputs": [],
   "source": [
    "df = pd.read_csv('./sample_check/IMG_0446250_person(person)_(4_3).csv', encoding='utf-8')"
   ]
  },
  {
   "cell_type": "code",
   "execution_count": 20,
   "id": "0b304f09",
   "metadata": {},
   "outputs": [
    {
     "name": "stdout",
     "output_type": "stream",
     "text": [
      "<class 'pandas.core.frame.DataFrame'>\n",
      "RangeIndex: 1 entries, 0 to 0\n",
      "Data columns (total 7 columns):\n",
      " #   Column              Non-Null Count  Dtype  \n",
      "---  ------              --------------  -----  \n",
      " 0   categories          1 non-null      object \n",
      " 1   images              1 non-null      object \n",
      " 2   annotations         1 non-null      object \n",
      " 3   info.description    1 non-null      object \n",
      " 4   info.version        1 non-null      float64\n",
      " 5   info.date_year      1 non-null      int64  \n",
      " 6   info.main_category  1 non-null      object \n",
      "dtypes: float64(1), int64(1), object(5)\n",
      "memory usage: 188.0+ bytes\n"
     ]
    }
   ],
   "source": [
    "df.info()"
   ]
  },
  {
   "cell_type": "code",
   "execution_count": 19,
   "id": "b23b47fa",
   "metadata": {},
   "outputs": [
    {
     "data": {
      "text/plain": [
       "\"[{'korean': '이 사진의 주제는 사람입니다.', 'english': 'The subject of the picture is person.'}, {'korean': '농구골대는 농구 코트에 설치되어 있습니다.', 'english': 'The basketball hoop is installed on the basketball court.'}, {'korean': '농구골대가 사진에 찍혀 있습니다.', 'english': 'The basketball hoop is pictured.'}, {'korean': '농구골대는 이 사진의 주제가 아닙니다.', 'english': 'basketball hoop is not the subject of this photo.'}, {'korean': '백팩은 물건을 담는 용도로 사용됩니다.', 'english': 'Backpacks are used to hold things.'}, {'korean': '백팩이 사진에 찍혀 있습니다.', 'english': 'The backpack1 is pictured.'}, {'korean': '백팩은 이 사진의 주제가 아닙니다.', 'english': 'backpack1 is not the subject of this photo.'}, {'korean': '이 사진은 사람이 찍혀 있으므로 인물 사진입니다.', 'english': 'This picture is a picture of a person because a person is taken.'}, {'korean': '사람이 사진에 찍혀 있습니다.', 'english': 'The person is pictured.'}, {'korean': '농구골대는 사진의 왼쪽 위에 있습니다.', 'english': 'basketball hoop is on the left side top of the picture.'}, {'korean': '백팩1은 사진의 왼쪽 중간에 있습니다.', 'english': 'backpack1 is on the left side of the picture.'}, {'korean': '사람은 사진의 오른쪽 중간에 있습니다.', 'english': 'person is on the right side of the picture.'}, {'korean': '백팩2는 사진의 중간에 있습니다.', 'english': 'backpack2 is in the center of the picture.'}, {'korean': '백팩1은 백팩들 중에서 사진의 가장 왼쪽에 있습니다.', 'english': 'backpack1 is the leftmost of the same elements.'}, {'korean': '백팩2는 백팩들 중에서 사진의 가장 오른쪽에 있습니다.', 'english': 'backpack2 is the rightmost of the same elements.'}, {'korean': '백팩1은 백팩들 중에서 사진의 가장 위쪽에 있습니다.', 'english': 'backpack1 is the upmost of the same elements.'}, {'korean': '백팩2는 백팩들 중에서 사진의 가장 아래쪽에 있습니다.', 'english': 'backpack2 is the lowermost of the same elements.'}, {'korean': '농구골대는 백팩1보다 위에 위치해 있습니다.', 'english': 'basketball hoop is above backpack1.'}, {'korean': '농구골대는 사람보다 왼쪽 위에 위치해 있습니다.', 'english': 'basketball hoop is on the left side top of person.'}, {'korean': '농구골대는 백팩2보다 왼쪽 위에 위치해 있습니다.', 'english': 'basketball hoop is on the left side top of backpack2.'}, {'korean': '백팩1은 사람보다 왼쪽에 위치해 있습니다.', 'english': 'backpack1 is on the left side of person.'}, {'korean': '백팩1은 백팩2보다 왼쪽에 위치해 있습니다.', 'english': 'backpack1 is on the left side of backpack2.'}, {'korean': '백팩2는 사람보다 아래에 위치해 있습니다.', 'english': 'backpack2 is below person.'}, {'korean': '농구골대는 백팩1보다 크게 찍혀 있습니다.', 'english': 'basketball hoop was photographed larger than backpack1.'}, {'korean': '농구골대는 사람보다 크게 찍혀 있습니다.', 'english': 'basketball hoop was photographed larger than person.'}, {'korean': '농구골대는 백팩2보다 크게 찍혀 있습니다.', 'english': 'basketball hoop was photographed larger than backpack2.'}, {'korean': '사람은 백팩1보다 크게 찍혀 있습니다.', 'english': 'person was photographed larger than backpack1.'}, {'korean': '백팩2는 백팩1보다 크게 찍혀 있습니다.', 'english': 'backpack2 was photographed larger than backpack1.'}, {'korean': '사람은 백팩2보다 크게 찍혀 있습니다.', 'english': 'person was photographed larger than backpack2.'}]\""
      ]
     },
     "execution_count": 19,
     "metadata": {},
     "output_type": "execute_result"
    }
   ],
   "source": [
    "df['annotations'][0]"
   ]
  },
  {
   "cell_type": "code",
   "execution_count": 21,
   "id": "17f83cba",
   "metadata": {},
   "outputs": [
    {
     "data": {
      "text/plain": [
       "\"[{'supercategory': 'person', 'id': '1', 'name': 'person'}]\""
      ]
     },
     "execution_count": 21,
     "metadata": {},
     "output_type": "execute_result"
    }
   ],
   "source": [
    "df['categories'][0]"
   ]
  },
  {
   "cell_type": "code",
   "execution_count": 34,
   "id": "c7920d8d",
   "metadata": {
    "scrolled": false
   },
   "outputs": [
    {
     "name": "stdout",
     "output_type": "stream",
     "text": [
      "[{'id': '0446250', 'height': 1920, 'width': 1440, 'file_name': 'IMG_0446250_person(person).jpg'}]\n"
     ]
    }
   ],
   "source": [
    "print(df['images'][0])"
   ]
  },
  {
   "cell_type": "code",
   "execution_count": 60,
   "id": "8a9aac44",
   "metadata": {
    "scrolled": true
   },
   "outputs": [],
   "source": [
    "new_data = []\n",
    "for item in df['images']:\n",
    "    if item:\n",
    "        new_data.append(item[0])\n",
    "\n",
    "new_df = pd.DataFrame(new_data)"
   ]
  },
  {
   "cell_type": "code",
   "execution_count": 61,
   "id": "f834344a",
   "metadata": {},
   "outputs": [
    {
     "data": {
      "text/html": [
       "<div>\n",
       "<style scoped>\n",
       "    .dataframe tbody tr th:only-of-type {\n",
       "        vertical-align: middle;\n",
       "    }\n",
       "\n",
       "    .dataframe tbody tr th {\n",
       "        vertical-align: top;\n",
       "    }\n",
       "\n",
       "    .dataframe thead th {\n",
       "        text-align: right;\n",
       "    }\n",
       "</style>\n",
       "<table border=\"1\" class=\"dataframe\">\n",
       "  <thead>\n",
       "    <tr style=\"text-align: right;\">\n",
       "      <th></th>\n",
       "      <th>0</th>\n",
       "    </tr>\n",
       "  </thead>\n",
       "  <tbody>\n",
       "    <tr>\n",
       "      <th>0</th>\n",
       "      <td>[</td>\n",
       "    </tr>\n",
       "  </tbody>\n",
       "</table>\n",
       "</div>"
      ],
      "text/plain": [
       "   0\n",
       "0  ["
      ]
     },
     "execution_count": 61,
     "metadata": {},
     "output_type": "execute_result"
    }
   ],
   "source": [
    "new_df"
   ]
  },
  {
   "cell_type": "code",
   "execution_count": 51,
   "id": "21904fd4",
   "metadata": {},
   "outputs": [
    {
     "data": {
      "text/plain": [
       "[{'id': '0446250',\n",
       "  'height': 1920,\n",
       "  'width': 1440,\n",
       "  'file_name': 'IMG_0446250_person(person).jpg'}]"
      ]
     },
     "execution_count": 51,
     "metadata": {},
     "output_type": "execute_result"
    }
   ],
   "source": [
    "image_info"
   ]
  },
  {
   "cell_type": "code",
   "execution_count": 44,
   "id": "ab39231b",
   "metadata": {},
   "outputs": [],
   "source": [
    "new_df = pd.DataFrame(new_data)"
   ]
  },
  {
   "cell_type": "code",
   "execution_count": 45,
   "id": "c9bd3002",
   "metadata": {},
   "outputs": [
    {
     "data": {
      "text/html": [
       "<div>\n",
       "<style scoped>\n",
       "    .dataframe tbody tr th:only-of-type {\n",
       "        vertical-align: middle;\n",
       "    }\n",
       "\n",
       "    .dataframe tbody tr th {\n",
       "        vertical-align: top;\n",
       "    }\n",
       "\n",
       "    .dataframe thead th {\n",
       "        text-align: right;\n",
       "    }\n",
       "</style>\n",
       "<table border=\"1\" class=\"dataframe\">\n",
       "  <thead>\n",
       "    <tr style=\"text-align: right;\">\n",
       "      <th></th>\n",
       "      <th>0</th>\n",
       "    </tr>\n",
       "  </thead>\n",
       "  <tbody>\n",
       "    <tr>\n",
       "      <th>0</th>\n",
       "      <td>[</td>\n",
       "    </tr>\n",
       "  </tbody>\n",
       "</table>\n",
       "</div>"
      ],
      "text/plain": [
       "   0\n",
       "0  ["
      ]
     },
     "execution_count": 45,
     "metadata": {},
     "output_type": "execute_result"
    }
   ],
   "source": [
    "new_df"
   ]
  },
  {
   "cell_type": "code",
   "execution_count": 23,
   "id": "8396cafb",
   "metadata": {
    "scrolled": true
   },
   "outputs": [
    {
     "data": {
      "text/plain": [
       "0    이미지 설명문 추출 및 생성용 한국형 비전 데이터셋\n",
       "Name: info.description, dtype: object"
      ]
     },
     "execution_count": 23,
     "metadata": {},
     "output_type": "execute_result"
    }
   ],
   "source": [
    "df['info.description']"
   ]
  },
  {
   "cell_type": "code",
   "execution_count": 26,
   "id": "de041cf2",
   "metadata": {
    "scrolled": true
   },
   "outputs": [
    {
     "data": {
      "text/plain": [
       "'person'"
      ]
     },
     "execution_count": 26,
     "metadata": {},
     "output_type": "execute_result"
    }
   ],
   "source": [
    "df['info.main_category'][0]"
   ]
  },
  {
   "cell_type": "code",
   "execution_count": null,
   "id": "4994d453",
   "metadata": {},
   "outputs": [],
   "source": [
    "## 컬럼 구성 및 분리\n",
    "    ## categories => del\n",
    "    ## images => id, width, height, fname\n",
    "    ## annotations => extract en sentences\n",
    "    ## info.description => del\n",
    "    ## info.version => del\n",
    "    ## info.date_year => del\n",
    "    ## info.main_category => rename: category\n",
    "    "
   ]
  },
  {
   "cell_type": "code",
   "execution_count": 30,
   "id": "01fb9b0c",
   "metadata": {},
   "outputs": [
    {
     "data": {
      "text/plain": [
       "Index(['categories', 'images', 'annotations', 'info.description',\n",
       "       'info.version', 'info.date_year', 'info.main_category'],\n",
       "      dtype='object')"
      ]
     },
     "execution_count": 30,
     "metadata": {},
     "output_type": "execute_result"
    }
   ],
   "source": [
    "df.columns"
   ]
  },
  {
   "cell_type": "code",
   "execution_count": 31,
   "id": "7e3648a4",
   "metadata": {},
   "outputs": [],
   "source": [
    "df_sel = df[['images', 'annotations', 'info.main_category']].copy()"
   ]
  },
  {
   "cell_type": "code",
   "execution_count": 32,
   "id": "cfe20002",
   "metadata": {},
   "outputs": [],
   "source": [
    "df_sel.rename(columns={'info.main_category' : 'category'}, inplace=True)"
   ]
  },
  {
   "cell_type": "code",
   "execution_count": 33,
   "id": "25597f97",
   "metadata": {
    "scrolled": true
   },
   "outputs": [
    {
     "data": {
      "text/html": [
       "<div>\n",
       "<style scoped>\n",
       "    .dataframe tbody tr th:only-of-type {\n",
       "        vertical-align: middle;\n",
       "    }\n",
       "\n",
       "    .dataframe tbody tr th {\n",
       "        vertical-align: top;\n",
       "    }\n",
       "\n",
       "    .dataframe thead th {\n",
       "        text-align: right;\n",
       "    }\n",
       "</style>\n",
       "<table border=\"1\" class=\"dataframe\">\n",
       "  <thead>\n",
       "    <tr style=\"text-align: right;\">\n",
       "      <th></th>\n",
       "      <th>images</th>\n",
       "      <th>annotations</th>\n",
       "      <th>category</th>\n",
       "    </tr>\n",
       "  </thead>\n",
       "  <tbody>\n",
       "    <tr>\n",
       "      <th>0</th>\n",
       "      <td>[{'id': '0446250', 'height': 1920, 'width': 14...</td>\n",
       "      <td>[{'korean': '이 사진의 주제는 사람입니다.', 'english': 'Th...</td>\n",
       "      <td>person</td>\n",
       "    </tr>\n",
       "  </tbody>\n",
       "</table>\n",
       "</div>"
      ],
      "text/plain": [
       "                                              images  \\\n",
       "0  [{'id': '0446250', 'height': 1920, 'width': 14...   \n",
       "\n",
       "                                         annotations category  \n",
       "0  [{'korean': '이 사진의 주제는 사람입니다.', 'english': 'Th...   person  "
      ]
     },
     "execution_count": 33,
     "metadata": {},
     "output_type": "execute_result"
    }
   ],
   "source": [
    "df_sel.head()"
   ]
  },
  {
   "cell_type": "code",
   "execution_count": 104,
   "id": "213b8f1f",
   "metadata": {},
   "outputs": [
    {
     "name": "stdout",
     "output_type": "stream",
     "text": [
      "                                             categories  \\\n",
      "0     [{'supercategory': 'person', 'id': '1', 'name'...   \n",
      "1     [{'supercategory': 'person', 'id': '1', 'name'...   \n",
      "2     [{'supercategory': 'person', 'id': '1', 'name'...   \n",
      "3     [{'supercategory': 'person', 'id': '1', 'name'...   \n",
      "4     [{'supercategory': 'person', 'id': '1', 'name'...   \n",
      "...                                                 ...   \n",
      "2995  [{'supercategory': 'person', 'id': '1', 'name'...   \n",
      "2996  [{'supercategory': 'person', 'id': '1', 'name'...   \n",
      "2997  [{'supercategory': 'person', 'id': '1', 'name'...   \n",
      "2998  [{'supercategory': 'person', 'id': '1', 'name'...   \n",
      "2999  [{'supercategory': 'person', 'id': '1', 'name'...   \n",
      "\n",
      "                                                 images  \\\n",
      "0     [{'id': '0446250', 'height': 1920, 'width': 14...   \n",
      "1     [{'id': '0446251', 'height': 1920, 'width': 10...   \n",
      "2     [{'id': '0446252', 'height': 1920, 'width': 10...   \n",
      "3     [{'id': '0446253', 'height': 1920, 'width': 10...   \n",
      "4     [{'id': '0446255', 'height': 1920, 'width': 10...   \n",
      "...                                                 ...   \n",
      "2995  [{'id': '0449588', 'height': 1920, 'width': 10...   \n",
      "2996  [{'id': '0449590', 'height': 1920, 'width': 10...   \n",
      "2997  [{'id': '0449591', 'height': 1920, 'width': 14...   \n",
      "2998  [{'id': '0449592', 'height': 1920, 'width': 10...   \n",
      "2999  [{'id': '0449593', 'height': 1920, 'width': 10...   \n",
      "\n",
      "                                            annotations  \\\n",
      "0     [{'korean': '이 사진의 주제는 사람입니다.', 'english': 'Th...   \n",
      "1     [{'korean': '이 사진의 주제는 사람입니다.', 'english': 'Th...   \n",
      "2     [{'korean': '이 사진의 주제는 사람입니다.', 'english': 'Th...   \n",
      "3     [{'korean': '이 사진의 주제는 사람입니다.', 'english': 'Th...   \n",
      "4     [{'korean': '이 사진의 주제는 사람입니다.', 'english': 'Th...   \n",
      "...                                                 ...   \n",
      "2995  [{'korean': '이 사진의 주제는 사람입니다.', 'english': 'Th...   \n",
      "2996  [{'korean': '이 사진의 주제는 사람입니다.', 'english': 'Th...   \n",
      "2997  [{'korean': '이 사진의 주제는 사람입니다.', 'english': 'Th...   \n",
      "2998  [{'korean': '이 사진의 주제는 사람입니다.', 'english': 'Th...   \n",
      "2999  [{'korean': '이 사진의 주제는 사람입니다.', 'english': 'Th...   \n",
      "\n",
      "                  info.description info.version info.date_year  \\\n",
      "0     이미지 설명문 추출 및 생성용 한국형 비전 데이터셋          1.0           2022   \n",
      "1     이미지 설명문 추출 및 생성용 한국형 비전 데이터셋          1.0           2022   \n",
      "2     이미지 설명문 추출 및 생성용 한국형 비전 데이터셋          1.0           2022   \n",
      "3     이미지 설명문 추출 및 생성용 한국형 비전 데이터셋          1.0           2022   \n",
      "4     이미지 설명문 추출 및 생성용 한국형 비전 데이터셋          1.0           2022   \n",
      "...                            ...          ...            ...   \n",
      "2995  이미지 설명문 추출 및 생성용 한국형 비전 데이터셋          1.0           2022   \n",
      "2996  이미지 설명문 추출 및 생성용 한국형 비전 데이터셋          1.0           2022   \n",
      "2997  이미지 설명문 추출 및 생성용 한국형 비전 데이터셋          1.0           2022   \n",
      "2998  이미지 설명문 추출 및 생성용 한국형 비전 데이터셋          1.0           2022   \n",
      "2999  이미지 설명문 추출 및 생성용 한국형 비전 데이터셋          1.0           2022   \n",
      "\n",
      "     info.main_category  \n",
      "0                person  \n",
      "1                person  \n",
      "2                person  \n",
      "3                person  \n",
      "4                person  \n",
      "...                 ...  \n",
      "2995             person  \n",
      "2996             person  \n",
      "2997             person  \n",
      "2998             person  \n",
      "2999             person  \n",
      "\n",
      "[3000 rows x 7 columns]\n"
     ]
    }
   ],
   "source": [
    "## single json => merged dataframe\n",
    "\n",
    "import os\n",
    "import json\n",
    "import pandas as pd\n",
    "import numpy as np\n",
    "\n",
    "\n",
    "folder_path = r'./sample_check'\n",
    "df_list = []\n",
    "\n",
    "for filename in os.listdir(folder_path):\n",
    "    if filename.endswith('.json'):\n",
    "        file_path = os.path.join(folder_path, filename)\n",
    "\n",
    "        try:\n",
    "            with open(file_path, 'r', encoding='utf-8') as file:\n",
    "                data = json.load(file)\n",
    "                data = pd.json_normalize(data)\n",
    "\n",
    "            df_list.append(data)\n",
    "        except json.JSONDecodeError as e:\n",
    "            print(f\"Error decoding JSON in file {filename}: {e}\")\n",
    "\n",
    "if df_list:\n",
    "    merged_df = pd.concat(df_list, ignore_index=True)\n",
    "    print(merged_df)\n",
    "else:\n",
    "    print(\"No valid JSON files found.\")"
   ]
  },
  {
   "cell_type": "code",
   "execution_count": 105,
   "id": "9d261119",
   "metadata": {},
   "outputs": [],
   "source": [
    "merged_df.to_csv('./merged_df/image_caption_label_merged.csv',encoding='utf-8', index=False)"
   ]
  },
  {
   "cell_type": "code",
   "execution_count": 106,
   "id": "46242a58",
   "metadata": {
    "scrolled": true
   },
   "outputs": [
    {
     "data": {
      "text/html": [
       "<div>\n",
       "<style scoped>\n",
       "    .dataframe tbody tr th:only-of-type {\n",
       "        vertical-align: middle;\n",
       "    }\n",
       "\n",
       "    .dataframe tbody tr th {\n",
       "        vertical-align: top;\n",
       "    }\n",
       "\n",
       "    .dataframe thead th {\n",
       "        text-align: right;\n",
       "    }\n",
       "</style>\n",
       "<table border=\"1\" class=\"dataframe\">\n",
       "  <thead>\n",
       "    <tr style=\"text-align: right;\">\n",
       "      <th></th>\n",
       "      <th>categories</th>\n",
       "      <th>images</th>\n",
       "      <th>annotations</th>\n",
       "      <th>info.description</th>\n",
       "      <th>info.version</th>\n",
       "      <th>info.date_year</th>\n",
       "      <th>info.main_category</th>\n",
       "    </tr>\n",
       "  </thead>\n",
       "  <tbody>\n",
       "    <tr>\n",
       "      <th>0</th>\n",
       "      <td>[{'supercategory': 'person', 'id': '1', 'name'...</td>\n",
       "      <td>[{'id': '0446250', 'height': 1920, 'width': 14...</td>\n",
       "      <td>[{'korean': '이 사진의 주제는 사람입니다.', 'english': 'Th...</td>\n",
       "      <td>이미지 설명문 추출 및 생성용 한국형 비전 데이터셋</td>\n",
       "      <td>1.0</td>\n",
       "      <td>2022</td>\n",
       "      <td>person</td>\n",
       "    </tr>\n",
       "    <tr>\n",
       "      <th>1</th>\n",
       "      <td>[{'supercategory': 'person', 'id': '1', 'name'...</td>\n",
       "      <td>[{'id': '0446251', 'height': 1920, 'width': 10...</td>\n",
       "      <td>[{'korean': '이 사진의 주제는 사람입니다.', 'english': 'Th...</td>\n",
       "      <td>이미지 설명문 추출 및 생성용 한국형 비전 데이터셋</td>\n",
       "      <td>1.0</td>\n",
       "      <td>2022</td>\n",
       "      <td>person</td>\n",
       "    </tr>\n",
       "  </tbody>\n",
       "</table>\n",
       "</div>"
      ],
      "text/plain": [
       "                                          categories  \\\n",
       "0  [{'supercategory': 'person', 'id': '1', 'name'...   \n",
       "1  [{'supercategory': 'person', 'id': '1', 'name'...   \n",
       "\n",
       "                                              images  \\\n",
       "0  [{'id': '0446250', 'height': 1920, 'width': 14...   \n",
       "1  [{'id': '0446251', 'height': 1920, 'width': 10...   \n",
       "\n",
       "                                         annotations  \\\n",
       "0  [{'korean': '이 사진의 주제는 사람입니다.', 'english': 'Th...   \n",
       "1  [{'korean': '이 사진의 주제는 사람입니다.', 'english': 'Th...   \n",
       "\n",
       "               info.description  info.version  info.date_year  \\\n",
       "0  이미지 설명문 추출 및 생성용 한국형 비전 데이터셋           1.0            2022   \n",
       "1  이미지 설명문 추출 및 생성용 한국형 비전 데이터셋           1.0            2022   \n",
       "\n",
       "  info.main_category  \n",
       "0             person  \n",
       "1             person  "
      ]
     },
     "execution_count": 106,
     "metadata": {},
     "output_type": "execute_result"
    }
   ],
   "source": [
    "df_check = pd.read_csv('./merged_df/image_caption_label_merged.csv', encoding='utf-8')\n",
    "df_check.head(2)"
   ]
  },
  {
   "cell_type": "code",
   "execution_count": 107,
   "id": "bf5fde48",
   "metadata": {
    "scrolled": true
   },
   "outputs": [
    {
     "name": "stdout",
     "output_type": "stream",
     "text": [
      "<class 'pandas.core.frame.DataFrame'>\n",
      "RangeIndex: 3000 entries, 0 to 2999\n",
      "Data columns (total 7 columns):\n",
      " #   Column              Non-Null Count  Dtype  \n",
      "---  ------              --------------  -----  \n",
      " 0   categories          3000 non-null   object \n",
      " 1   images              3000 non-null   object \n",
      " 2   annotations         3000 non-null   object \n",
      " 3   info.description    3000 non-null   object \n",
      " 4   info.version        3000 non-null   float64\n",
      " 5   info.date_year      3000 non-null   int64  \n",
      " 6   info.main_category  3000 non-null   object \n",
      "dtypes: float64(1), int64(1), object(5)\n",
      "memory usage: 164.2+ KB\n"
     ]
    }
   ],
   "source": [
    "df_check.info()"
   ]
  },
  {
   "cell_type": "code",
   "execution_count": 98,
   "id": "32cb31e6",
   "metadata": {},
   "outputs": [],
   "source": [
    "df_divid = df_check.iloc[1500:]"
   ]
  },
  {
   "cell_type": "code",
   "execution_count": 100,
   "id": "49a4daa1",
   "metadata": {
    "scrolled": true
   },
   "outputs": [
    {
     "data": {
      "text/html": [
       "<div>\n",
       "<style scoped>\n",
       "    .dataframe tbody tr th:only-of-type {\n",
       "        vertical-align: middle;\n",
       "    }\n",
       "\n",
       "    .dataframe tbody tr th {\n",
       "        vertical-align: top;\n",
       "    }\n",
       "\n",
       "    .dataframe thead th {\n",
       "        text-align: right;\n",
       "    }\n",
       "</style>\n",
       "<table border=\"1\" class=\"dataframe\">\n",
       "  <thead>\n",
       "    <tr style=\"text-align: right;\">\n",
       "      <th></th>\n",
       "      <th>index</th>\n",
       "      <th>categories</th>\n",
       "      <th>images</th>\n",
       "      <th>annotations</th>\n",
       "      <th>info.description</th>\n",
       "      <th>info.version</th>\n",
       "      <th>info.date_year</th>\n",
       "      <th>info.main_category</th>\n",
       "    </tr>\n",
       "  </thead>\n",
       "  <tbody>\n",
       "    <tr>\n",
       "      <th>0</th>\n",
       "      <td>1500</td>\n",
       "      <td>[{'supercategory': 'person', 'id': '1', 'name'...</td>\n",
       "      <td>[{'id': '0447937', 'height': 1920, 'width': 14...</td>\n",
       "      <td>[{'korean': '이 사진의 주제는 사람입니다.', 'english': 'Th...</td>\n",
       "      <td>이미지 설명문 추출 및 생성용 한국형 비전 데이터셋</td>\n",
       "      <td>1.0</td>\n",
       "      <td>2022</td>\n",
       "      <td>person</td>\n",
       "    </tr>\n",
       "    <tr>\n",
       "      <th>1</th>\n",
       "      <td>1501</td>\n",
       "      <td>[{'supercategory': 'person', 'id': '1', 'name'...</td>\n",
       "      <td>[{'id': '0447938', 'height': 1080, 'width': 19...</td>\n",
       "      <td>[{'korean': '이 사진의 주제는 사람입니다.', 'english': 'Th...</td>\n",
       "      <td>이미지 설명문 추출 및 생성용 한국형 비전 데이터셋</td>\n",
       "      <td>1.0</td>\n",
       "      <td>2022</td>\n",
       "      <td>person</td>\n",
       "    </tr>\n",
       "    <tr>\n",
       "      <th>2</th>\n",
       "      <td>1502</td>\n",
       "      <td>[{'supercategory': 'person', 'id': '1', 'name'...</td>\n",
       "      <td>[{'id': '0447939', 'height': 1920, 'width': 10...</td>\n",
       "      <td>[{'korean': '이 사진의 주제는 사람입니다.', 'english': 'Th...</td>\n",
       "      <td>이미지 설명문 추출 및 생성용 한국형 비전 데이터셋</td>\n",
       "      <td>1.0</td>\n",
       "      <td>2022</td>\n",
       "      <td>person</td>\n",
       "    </tr>\n",
       "    <tr>\n",
       "      <th>3</th>\n",
       "      <td>1503</td>\n",
       "      <td>[{'supercategory': 'person', 'id': '1', 'name'...</td>\n",
       "      <td>[{'id': '0447940', 'height': 1920, 'width': 14...</td>\n",
       "      <td>[{'korean': '이 사진의 주제는 사람입니다.', 'english': 'Th...</td>\n",
       "      <td>이미지 설명문 추출 및 생성용 한국형 비전 데이터셋</td>\n",
       "      <td>1.0</td>\n",
       "      <td>2022</td>\n",
       "      <td>person</td>\n",
       "    </tr>\n",
       "    <tr>\n",
       "      <th>4</th>\n",
       "      <td>1504</td>\n",
       "      <td>[{'supercategory': 'person', 'id': '1', 'name'...</td>\n",
       "      <td>[{'id': '0447941', 'height': 1920, 'width': 14...</td>\n",
       "      <td>[{'korean': '이 사진의 주제는 사람입니다.', 'english': 'Th...</td>\n",
       "      <td>이미지 설명문 추출 및 생성용 한국형 비전 데이터셋</td>\n",
       "      <td>1.0</td>\n",
       "      <td>2022</td>\n",
       "      <td>person</td>\n",
       "    </tr>\n",
       "    <tr>\n",
       "      <th>...</th>\n",
       "      <td>...</td>\n",
       "      <td>...</td>\n",
       "      <td>...</td>\n",
       "      <td>...</td>\n",
       "      <td>...</td>\n",
       "      <td>...</td>\n",
       "      <td>...</td>\n",
       "      <td>...</td>\n",
       "    </tr>\n",
       "    <tr>\n",
       "      <th>1495</th>\n",
       "      <td>2995</td>\n",
       "      <td>[{'supercategory': 'person', 'id': '1', 'name'...</td>\n",
       "      <td>[{'id': '0449588', 'height': 1920, 'width': 10...</td>\n",
       "      <td>[{'korean': '이 사진의 주제는 사람입니다.', 'english': 'Th...</td>\n",
       "      <td>이미지 설명문 추출 및 생성용 한국형 비전 데이터셋</td>\n",
       "      <td>1.0</td>\n",
       "      <td>2022</td>\n",
       "      <td>person</td>\n",
       "    </tr>\n",
       "    <tr>\n",
       "      <th>1496</th>\n",
       "      <td>2996</td>\n",
       "      <td>[{'supercategory': 'person', 'id': '1', 'name'...</td>\n",
       "      <td>[{'id': '0449590', 'height': 1920, 'width': 10...</td>\n",
       "      <td>[{'korean': '이 사진의 주제는 사람입니다.', 'english': 'Th...</td>\n",
       "      <td>이미지 설명문 추출 및 생성용 한국형 비전 데이터셋</td>\n",
       "      <td>1.0</td>\n",
       "      <td>2022</td>\n",
       "      <td>person</td>\n",
       "    </tr>\n",
       "    <tr>\n",
       "      <th>1497</th>\n",
       "      <td>2997</td>\n",
       "      <td>[{'supercategory': 'person', 'id': '1', 'name'...</td>\n",
       "      <td>[{'id': '0449591', 'height': 1920, 'width': 14...</td>\n",
       "      <td>[{'korean': '이 사진의 주제는 사람입니다.', 'english': 'Th...</td>\n",
       "      <td>이미지 설명문 추출 및 생성용 한국형 비전 데이터셋</td>\n",
       "      <td>1.0</td>\n",
       "      <td>2022</td>\n",
       "      <td>person</td>\n",
       "    </tr>\n",
       "    <tr>\n",
       "      <th>1498</th>\n",
       "      <td>2998</td>\n",
       "      <td>[{'supercategory': 'person', 'id': '1', 'name'...</td>\n",
       "      <td>[{'id': '0449592', 'height': 1920, 'width': 10...</td>\n",
       "      <td>[{'korean': '이 사진의 주제는 사람입니다.', 'english': 'Th...</td>\n",
       "      <td>이미지 설명문 추출 및 생성용 한국형 비전 데이터셋</td>\n",
       "      <td>1.0</td>\n",
       "      <td>2022</td>\n",
       "      <td>person</td>\n",
       "    </tr>\n",
       "    <tr>\n",
       "      <th>1499</th>\n",
       "      <td>2999</td>\n",
       "      <td>[{'supercategory': 'person', 'id': '1', 'name'...</td>\n",
       "      <td>[{'id': '0449593', 'height': 1920, 'width': 10...</td>\n",
       "      <td>[{'korean': '이 사진의 주제는 사람입니다.', 'english': 'Th...</td>\n",
       "      <td>이미지 설명문 추출 및 생성용 한국형 비전 데이터셋</td>\n",
       "      <td>1.0</td>\n",
       "      <td>2022</td>\n",
       "      <td>person</td>\n",
       "    </tr>\n",
       "  </tbody>\n",
       "</table>\n",
       "<p>1500 rows × 8 columns</p>\n",
       "</div>"
      ],
      "text/plain": [
       "      index                                         categories  \\\n",
       "0      1500  [{'supercategory': 'person', 'id': '1', 'name'...   \n",
       "1      1501  [{'supercategory': 'person', 'id': '1', 'name'...   \n",
       "2      1502  [{'supercategory': 'person', 'id': '1', 'name'...   \n",
       "3      1503  [{'supercategory': 'person', 'id': '1', 'name'...   \n",
       "4      1504  [{'supercategory': 'person', 'id': '1', 'name'...   \n",
       "...     ...                                                ...   \n",
       "1495   2995  [{'supercategory': 'person', 'id': '1', 'name'...   \n",
       "1496   2996  [{'supercategory': 'person', 'id': '1', 'name'...   \n",
       "1497   2997  [{'supercategory': 'person', 'id': '1', 'name'...   \n",
       "1498   2998  [{'supercategory': 'person', 'id': '1', 'name'...   \n",
       "1499   2999  [{'supercategory': 'person', 'id': '1', 'name'...   \n",
       "\n",
       "                                                 images  \\\n",
       "0     [{'id': '0447937', 'height': 1920, 'width': 14...   \n",
       "1     [{'id': '0447938', 'height': 1080, 'width': 19...   \n",
       "2     [{'id': '0447939', 'height': 1920, 'width': 10...   \n",
       "3     [{'id': '0447940', 'height': 1920, 'width': 14...   \n",
       "4     [{'id': '0447941', 'height': 1920, 'width': 14...   \n",
       "...                                                 ...   \n",
       "1495  [{'id': '0449588', 'height': 1920, 'width': 10...   \n",
       "1496  [{'id': '0449590', 'height': 1920, 'width': 10...   \n",
       "1497  [{'id': '0449591', 'height': 1920, 'width': 14...   \n",
       "1498  [{'id': '0449592', 'height': 1920, 'width': 10...   \n",
       "1499  [{'id': '0449593', 'height': 1920, 'width': 10...   \n",
       "\n",
       "                                            annotations  \\\n",
       "0     [{'korean': '이 사진의 주제는 사람입니다.', 'english': 'Th...   \n",
       "1     [{'korean': '이 사진의 주제는 사람입니다.', 'english': 'Th...   \n",
       "2     [{'korean': '이 사진의 주제는 사람입니다.', 'english': 'Th...   \n",
       "3     [{'korean': '이 사진의 주제는 사람입니다.', 'english': 'Th...   \n",
       "4     [{'korean': '이 사진의 주제는 사람입니다.', 'english': 'Th...   \n",
       "...                                                 ...   \n",
       "1495  [{'korean': '이 사진의 주제는 사람입니다.', 'english': 'Th...   \n",
       "1496  [{'korean': '이 사진의 주제는 사람입니다.', 'english': 'Th...   \n",
       "1497  [{'korean': '이 사진의 주제는 사람입니다.', 'english': 'Th...   \n",
       "1498  [{'korean': '이 사진의 주제는 사람입니다.', 'english': 'Th...   \n",
       "1499  [{'korean': '이 사진의 주제는 사람입니다.', 'english': 'Th...   \n",
       "\n",
       "                  info.description  info.version  info.date_year  \\\n",
       "0     이미지 설명문 추출 및 생성용 한국형 비전 데이터셋           1.0            2022   \n",
       "1     이미지 설명문 추출 및 생성용 한국형 비전 데이터셋           1.0            2022   \n",
       "2     이미지 설명문 추출 및 생성용 한국형 비전 데이터셋           1.0            2022   \n",
       "3     이미지 설명문 추출 및 생성용 한국형 비전 데이터셋           1.0            2022   \n",
       "4     이미지 설명문 추출 및 생성용 한국형 비전 데이터셋           1.0            2022   \n",
       "...                            ...           ...             ...   \n",
       "1495  이미지 설명문 추출 및 생성용 한국형 비전 데이터셋           1.0            2022   \n",
       "1496  이미지 설명문 추출 및 생성용 한국형 비전 데이터셋           1.0            2022   \n",
       "1497  이미지 설명문 추출 및 생성용 한국형 비전 데이터셋           1.0            2022   \n",
       "1498  이미지 설명문 추출 및 생성용 한국형 비전 데이터셋           1.0            2022   \n",
       "1499  이미지 설명문 추출 및 생성용 한국형 비전 데이터셋           1.0            2022   \n",
       "\n",
       "     info.main_category  \n",
       "0                person  \n",
       "1                person  \n",
       "2                person  \n",
       "3                person  \n",
       "4                person  \n",
       "...                 ...  \n",
       "1495             person  \n",
       "1496             person  \n",
       "1497             person  \n",
       "1498             person  \n",
       "1499             person  \n",
       "\n",
       "[1500 rows x 8 columns]"
      ]
     },
     "execution_count": 100,
     "metadata": {},
     "output_type": "execute_result"
    }
   ],
   "source": [
    "df_divid.reset_index()"
   ]
  },
  {
   "cell_type": "code",
   "execution_count": 101,
   "id": "97951ffb",
   "metadata": {},
   "outputs": [],
   "source": [
    "df_divid.to_csv('./merged_df/image_caption_label_raw_1500_3000_kim.csv', encoding='utf-8', index=False)"
   ]
  },
  {
   "cell_type": "code",
   "execution_count": 108,
   "id": "9b689fcf",
   "metadata": {
    "scrolled": true
   },
   "outputs": [
    {
     "name": "stdout",
     "output_type": "stream",
     "text": [
      "<class 'pandas.core.frame.DataFrame'>\n",
      "RangeIndex: 1500 entries, 0 to 1499\n",
      "Data columns (total 7 columns):\n",
      " #   Column              Non-Null Count  Dtype  \n",
      "---  ------              --------------  -----  \n",
      " 0   categories          1500 non-null   object \n",
      " 1   images              1500 non-null   object \n",
      " 2   annotations         1500 non-null   object \n",
      " 3   info.description    1500 non-null   object \n",
      " 4   info.version        1500 non-null   float64\n",
      " 5   info.date_year      1500 non-null   int64  \n",
      " 6   info.main_category  1500 non-null   object \n",
      "dtypes: float64(1), int64(1), object(5)\n",
      "memory usage: 82.2+ KB\n"
     ]
    }
   ],
   "source": [
    "df_kwon = df_check.iloc[0:1500]\n",
    "df_kwon.info()"
   ]
  },
  {
   "cell_type": "code",
   "execution_count": 109,
   "id": "c240f580",
   "metadata": {},
   "outputs": [],
   "source": [
    "df_kwon.to_csv('./merged_df/image_caption_label_raw_1500_kwon.csv', encoding='utf-8', index=False)"
   ]
  },
  {
   "cell_type": "code",
   "execution_count": null,
   "id": "b478cfa4",
   "metadata": {},
   "outputs": [],
   "source": [
    "## select columns and rename\n",
    "\n",
    "df_sel = merged_df[['images', 'annotations', 'info.main_category']].copy()\n",
    "df_sel.rename(columns={'info.main_category' : 'category'}, inplace=True)\n",
    "df_sel.head(2)"
   ]
  },
  {
   "cell_type": "code",
   "execution_count": null,
   "id": "784cc8ea",
   "metadata": {},
   "outputs": [],
   "source": [
    "df_sel.to_csv('./merged_df/image_caption_label_select.csv', encoding='utf-8', index=False)"
   ]
  },
  {
   "cell_type": "code",
   "execution_count": null,
   "id": "c074efba",
   "metadata": {},
   "outputs": [],
   "source": []
  },
  {
   "cell_type": "code",
   "execution_count": 64,
   "id": "976fce3b",
   "metadata": {},
   "outputs": [],
   "source": [
    "with open('./sample_check/IMG_0446250_person(person)_(4_3).json', 'r', encoding='utf-8') as file:\n",
    "    data = json.load(file)\n",
    "    data = pd.json_normalize(data)\n",
    "    \n",
    "df = pd.DataFrame(data)\n",
    "\n",
    "new_data = []\n",
    "for item in df['images']:\n",
    "    if item:\n",
    "        new_data.append(item[0])\n",
    "\n",
    "new_df = pd.DataFrame(new_data)"
   ]
  },
  {
   "cell_type": "code",
   "execution_count": 65,
   "id": "91d510f0",
   "metadata": {},
   "outputs": [
    {
     "data": {
      "text/html": [
       "<div>\n",
       "<style scoped>\n",
       "    .dataframe tbody tr th:only-of-type {\n",
       "        vertical-align: middle;\n",
       "    }\n",
       "\n",
       "    .dataframe tbody tr th {\n",
       "        vertical-align: top;\n",
       "    }\n",
       "\n",
       "    .dataframe thead th {\n",
       "        text-align: right;\n",
       "    }\n",
       "</style>\n",
       "<table border=\"1\" class=\"dataframe\">\n",
       "  <thead>\n",
       "    <tr style=\"text-align: right;\">\n",
       "      <th></th>\n",
       "      <th>id</th>\n",
       "      <th>height</th>\n",
       "      <th>width</th>\n",
       "      <th>file_name</th>\n",
       "    </tr>\n",
       "  </thead>\n",
       "  <tbody>\n",
       "    <tr>\n",
       "      <th>0</th>\n",
       "      <td>0446250</td>\n",
       "      <td>1920</td>\n",
       "      <td>1440</td>\n",
       "      <td>IMG_0446250_person(person).jpg</td>\n",
       "    </tr>\n",
       "  </tbody>\n",
       "</table>\n",
       "</div>"
      ],
      "text/plain": [
       "        id  height  width                       file_name\n",
       "0  0446250    1920   1440  IMG_0446250_person(person).jpg"
      ]
     },
     "execution_count": 65,
     "metadata": {},
     "output_type": "execute_result"
    }
   ],
   "source": [
    "new_df"
   ]
  },
  {
   "cell_type": "code",
   "execution_count": 66,
   "id": "4db12f77",
   "metadata": {
    "scrolled": true
   },
   "outputs": [
    {
     "name": "stdout",
     "output_type": "stream",
     "text": [
      "                                           categories  \\\n",
      "0   [{'supercategory': 'person', 'id': '1', 'name'...   \n",
      "1   [{'supercategory': 'person', 'id': '1', 'name'...   \n",
      "2   [{'supercategory': 'person', 'id': '1', 'name'...   \n",
      "3   [{'supercategory': 'person', 'id': '1', 'name'...   \n",
      "4   [{'supercategory': 'person', 'id': '1', 'name'...   \n",
      "..                                                ...   \n",
      "95  [{'supercategory': 'person', 'id': '1', 'name'...   \n",
      "96  [{'supercategory': 'person', 'id': '1', 'name'...   \n",
      "97  [{'supercategory': 'person', 'id': '1', 'name'...   \n",
      "98  [{'supercategory': 'person', 'id': '1', 'name'...   \n",
      "99  [{'supercategory': 'person', 'id': '1', 'name'...   \n",
      "\n",
      "                                               images  \\\n",
      "0   [{'id': '0446250', 'height': 1920, 'width': 14...   \n",
      "1   [{'id': '0446251', 'height': 1920, 'width': 10...   \n",
      "2   [{'id': '0446252', 'height': 1920, 'width': 10...   \n",
      "3   [{'id': '0446253', 'height': 1920, 'width': 10...   \n",
      "4   [{'id': '0446255', 'height': 1920, 'width': 10...   \n",
      "..                                                ...   \n",
      "95  [{'id': '0446363', 'height': 1920, 'width': 10...   \n",
      "96  [{'id': '0446364', 'height': 1920, 'width': 14...   \n",
      "97  [{'id': '0446365', 'height': 1920, 'width': 10...   \n",
      "98  [{'id': '0446366', 'height': 1920, 'width': 10...   \n",
      "99  [{'id': '0446368', 'height': 1920, 'width': 14...   \n",
      "\n",
      "                                          annotations  \\\n",
      "0   [{'korean': '이 사진의 주제는 사람입니다.', 'english': 'Th...   \n",
      "1   [{'korean': '이 사진의 주제는 사람입니다.', 'english': 'Th...   \n",
      "2   [{'korean': '이 사진의 주제는 사람입니다.', 'english': 'Th...   \n",
      "3   [{'korean': '이 사진의 주제는 사람입니다.', 'english': 'Th...   \n",
      "4   [{'korean': '이 사진의 주제는 사람입니다.', 'english': 'Th...   \n",
      "..                                                ...   \n",
      "95  [{'korean': '이 사진의 주제는 사람입니다.', 'english': 'Th...   \n",
      "96  [{'korean': '이 사진의 주제는 사람입니다.', 'english': 'Th...   \n",
      "97  [{'korean': '이 사진의 주제는 사람입니다.', 'english': 'Th...   \n",
      "98  [{'korean': '이 사진의 주제는 사람입니다.', 'english': 'Th...   \n",
      "99  [{'korean': '이 사진의 주제는 사람입니다.', 'english': 'Th...   \n",
      "\n",
      "                info.description info.version info.date_year  \\\n",
      "0   이미지 설명문 추출 및 생성용 한국형 비전 데이터셋          1.0           2022   \n",
      "1   이미지 설명문 추출 및 생성용 한국형 비전 데이터셋          1.0           2022   \n",
      "2   이미지 설명문 추출 및 생성용 한국형 비전 데이터셋          1.0           2022   \n",
      "3   이미지 설명문 추출 및 생성용 한국형 비전 데이터셋          1.0           2022   \n",
      "4   이미지 설명문 추출 및 생성용 한국형 비전 데이터셋          1.0           2022   \n",
      "..                           ...          ...            ...   \n",
      "95  이미지 설명문 추출 및 생성용 한국형 비전 데이터셋          1.0           2022   \n",
      "96  이미지 설명문 추출 및 생성용 한국형 비전 데이터셋          1.0           2022   \n",
      "97  이미지 설명문 추출 및 생성용 한국형 비전 데이터셋          1.0           2022   \n",
      "98  이미지 설명문 추출 및 생성용 한국형 비전 데이터셋          1.0           2022   \n",
      "99  이미지 설명문 추출 및 생성용 한국형 비전 데이터셋          1.0           2022   \n",
      "\n",
      "   info.main_category  \n",
      "0              person  \n",
      "1              person  \n",
      "2              person  \n",
      "3              person  \n",
      "4              person  \n",
      "..                ...  \n",
      "95             person  \n",
      "96             person  \n",
      "97             person  \n",
      "98             person  \n",
      "99             person  \n",
      "\n",
      "[100 rows x 7 columns]\n"
     ]
    }
   ],
   "source": [
    "folder_path = './sample_check'\n",
    "df_list = []\n",
    "\n",
    "for filename in os.listdir(folder_path):\n",
    "    if filename.endswith('.json'):\n",
    "        file_path = os.path.join(folder_path, filename)\n",
    "\n",
    "        try:\n",
    "            with open(file_path, 'r', encoding='utf-8') as file:\n",
    "                data = json.load(file)\n",
    "\n",
    "            df_list.append(pd.json_normalize(data))\n",
    "        except json.JSONDecodeError as e:\n",
    "            print(f\"Error decoding JSON in file {filename}: {e}\")\n",
    "\n",
    "if df_list:\n",
    "    merged_df = pd.concat(df_list, ignore_index=True)\n",
    "    print(merged_df)\n",
    "else:\n",
    "    print(\"No valid JSON files found.\")"
   ]
  },
  {
   "cell_type": "code",
   "execution_count": 68,
   "id": "f082fc71",
   "metadata": {
    "scrolled": true
   },
   "outputs": [
    {
     "name": "stdout",
     "output_type": "stream",
     "text": [
      "<class 'pandas.core.frame.DataFrame'>\n",
      "RangeIndex: 100 entries, 0 to 99\n",
      "Data columns (total 7 columns):\n",
      " #   Column              Non-Null Count  Dtype \n",
      "---  ------              --------------  ----- \n",
      " 0   categories          100 non-null    object\n",
      " 1   images              100 non-null    object\n",
      " 2   annotations         100 non-null    object\n",
      " 3   info.description    100 non-null    object\n",
      " 4   info.version        100 non-null    object\n",
      " 5   info.date_year      100 non-null    object\n",
      " 6   info.main_category  100 non-null    object\n",
      "dtypes: object(7)\n",
      "memory usage: 5.6+ KB\n"
     ]
    }
   ],
   "source": [
    "merged_df.info()"
   ]
  },
  {
   "cell_type": "code",
   "execution_count": 83,
   "id": "6cece0ed",
   "metadata": {
    "scrolled": true
   },
   "outputs": [
    {
     "name": "stdout",
     "output_type": "stream",
     "text": [
      "[{'korean': '이 사진의 주제는 사람입니다.', 'english': 'The subject of the picture is person.'}, {'korean': '이 사진은 사람이 찍혀 있으므로 인물 사진입니다.', 'english': 'This picture is a picture of a person because a person is taken.'}, {'korean': '사람이 사진에 찍혀 있습니다.', 'english': 'The person is pictured.'}, {'korean': '커틀러리는 식사를 할 때 사용합니다.', 'english': 'Cutlery is used for meals.'}, {'korean': '커틀러리가 사진에 찍혀 있습니다.', 'english': 'The cutlery is pictured.'}, {'korean': '커틀러리는 이 사진의 주제가 아닙니다.', 'english': 'cutlery is not the subject of this photo.'}, {'korean': '사람은 사진의 중간에 있습니다.', 'english': 'person is in the center of the picture.'}, {'korean': '커틀러리는 사진의 오른쪽 아래에 있습니다.', 'english': 'cutlery is on the right side bottom of the picture.'}, {'korean': '커틀러리는 사람보다 오른쪽 아래에 위치해 있습니다.', 'english': 'cutlery is on the right side bottom of person.'}, {'korean': '사람은 커틀러리보다 크게 찍혀 있습니다.', 'english': 'person was photographed larger than cutlery.'}]\n"
     ]
    }
   ],
   "source": [
    "\n",
    "print(merged_df['annotations'][2])"
   ]
  },
  {
   "cell_type": "code",
   "execution_count": 80,
   "id": "744e6638",
   "metadata": {},
   "outputs": [],
   "source": [
    "def extract_english(annotations):\n",
    "    return [d['english'] for d in annotations if 'english' in d]\n",
    "\n",
    "def list_to_string(lst):\n",
    "    return ' '.join(lst)"
   ]
  },
  {
   "cell_type": "code",
   "execution_count": 84,
   "id": "a0545178",
   "metadata": {},
   "outputs": [],
   "source": [
    "merged_df['sentence_en'] = merged_df['annotations'].apply(extract_english)"
   ]
  },
  {
   "cell_type": "code",
   "execution_count": 82,
   "id": "b5f0b0d6",
   "metadata": {},
   "outputs": [],
   "source": [
    "# merged_df['sentence_en'] = merged_df['sentence_en'].apply(list_to_string)"
   ]
  },
  {
   "cell_type": "code",
   "execution_count": 88,
   "id": "14cba498",
   "metadata": {
    "scrolled": true
   },
   "outputs": [],
   "source": [
    "subject_sent = merged_df['sentence_en'][0][0]\n",
    "merged_df['sentence_subject'] = subject_sent"
   ]
  },
  {
   "cell_type": "code",
   "execution_count": 90,
   "id": "85572b77",
   "metadata": {
    "scrolled": false
   },
   "outputs": [
    {
     "data": {
      "text/plain": [
       "[{'id': '0446250',\n",
       "  'height': 1920,\n",
       "  'width': 1440,\n",
       "  'file_name': 'IMG_0446250_person(person).jpg'}]"
      ]
     },
     "execution_count": 90,
     "metadata": {},
     "output_type": "execute_result"
    }
   ],
   "source": [
    "merged_df['images'][0]"
   ]
  },
  {
   "cell_type": "code",
   "execution_count": null,
   "id": "83107f49",
   "metadata": {},
   "outputs": [],
   "source": [
    "#################################################################################################"
   ]
  },
  {
   "cell_type": "code",
   "execution_count": null,
   "id": "76f16332",
   "metadata": {},
   "outputs": [],
   "source": [
    "## json -> df\n",
    "    ## json open\n",
    "    ## json normalize and transform(to dataframe)\n",
    "    ## dataframe preprocessing\n",
    "    ## dataframe concat\n",
    "    ## merged dataframe save(csv format)\n",
    "\n",
    "## index split(each member works 1500 instances)\n",
    "    ## kwon: index 0~14999\n",
    "    ## kim: 15000~2999"
   ]
  },
  {
   "cell_type": "code",
   "execution_count": 120,
   "id": "17930332",
   "metadata": {
    "scrolled": true
   },
   "outputs": [
    {
     "name": "stdout",
     "output_type": "stream",
     "text": [
      "           id  height  width                       file_name\n",
      "0     0446250    1920   1440  IMG_0446250_person(person).jpg\n",
      "1     0446251    1920   1080  IMG_0446251_person(person).jpg\n",
      "2     0446252    1920   1080  IMG_0446252_person(person).jpg\n",
      "3     0446253    1920   1080  IMG_0446253_person(person).jpg\n",
      "4     0446255    1920   1080  IMG_0446255_person(person).jpg\n",
      "...       ...     ...    ...                             ...\n",
      "2995  0449588    1920   1080  IMG_0449588_person(person).jpg\n",
      "2996  0449590    1920   1080  IMG_0449590_person(person).jpg\n",
      "2997  0449591    1920   1440  IMG_0449591_person(person).jpg\n",
      "2998  0449592    1920   1080  IMG_0449592_person(person).jpg\n",
      "2999  0449593    1920   1080  IMG_0449593_person(person).jpg\n",
      "\n",
      "[3000 rows x 4 columns]\n"
     ]
    }
   ],
   "source": [
    "folder_path = './sample_check'\n",
    "json_files = [file for file in os.listdir(folder_path) if file.endswith('.json')]\n",
    "\n",
    "df_list = []\n",
    "\n",
    "for json_file in json_files:\n",
    "    file_path = os.path.join(folder_path, json_file)\n",
    "    \n",
    "    with open(file_path, 'r', encoding='utf-8') as file:\n",
    "        data = json.load(file)\n",
    "        data = pd.json_normalize(data)\n",
    "    df = pd.DataFrame(data)\n",
    "    new_data = []\n",
    "    for item in df['images']:\n",
    "        if item:\n",
    "            new_data.append(item[0])\n",
    "    new_df = pd.DataFrame(new_data)\n",
    "    \n",
    "    df_list.append(new_df)\n",
    "\n",
    "if df_list:\n",
    "    merged_df = pd.concat(df_list, ignore_index=True)\n",
    "    print(merged_df)\n",
    "else:\n",
    "    print(\"No valid JSON files found.\")"
   ]
  },
  {
   "cell_type": "code",
   "execution_count": 121,
   "id": "24620129",
   "metadata": {
    "scrolled": false
   },
   "outputs": [
    {
     "data": {
      "text/html": [
       "<div>\n",
       "<style scoped>\n",
       "    .dataframe tbody tr th:only-of-type {\n",
       "        vertical-align: middle;\n",
       "    }\n",
       "\n",
       "    .dataframe tbody tr th {\n",
       "        vertical-align: top;\n",
       "    }\n",
       "\n",
       "    .dataframe thead th {\n",
       "        text-align: right;\n",
       "    }\n",
       "</style>\n",
       "<table border=\"1\" class=\"dataframe\">\n",
       "  <thead>\n",
       "    <tr style=\"text-align: right;\">\n",
       "      <th></th>\n",
       "      <th>id</th>\n",
       "      <th>height</th>\n",
       "      <th>width</th>\n",
       "      <th>file_name</th>\n",
       "      <th>category</th>\n",
       "    </tr>\n",
       "  </thead>\n",
       "  <tbody>\n",
       "    <tr>\n",
       "      <th>0</th>\n",
       "      <td>0446250</td>\n",
       "      <td>1920</td>\n",
       "      <td>1440</td>\n",
       "      <td>IMG_0446250_person(person).jpg</td>\n",
       "      <td>person</td>\n",
       "    </tr>\n",
       "    <tr>\n",
       "      <th>1</th>\n",
       "      <td>0446251</td>\n",
       "      <td>1920</td>\n",
       "      <td>1080</td>\n",
       "      <td>IMG_0446251_person(person).jpg</td>\n",
       "      <td>person</td>\n",
       "    </tr>\n",
       "    <tr>\n",
       "      <th>2</th>\n",
       "      <td>0446252</td>\n",
       "      <td>1920</td>\n",
       "      <td>1080</td>\n",
       "      <td>IMG_0446252_person(person).jpg</td>\n",
       "      <td>person</td>\n",
       "    </tr>\n",
       "    <tr>\n",
       "      <th>3</th>\n",
       "      <td>0446253</td>\n",
       "      <td>1920</td>\n",
       "      <td>1080</td>\n",
       "      <td>IMG_0446253_person(person).jpg</td>\n",
       "      <td>person</td>\n",
       "    </tr>\n",
       "    <tr>\n",
       "      <th>4</th>\n",
       "      <td>0446255</td>\n",
       "      <td>1920</td>\n",
       "      <td>1080</td>\n",
       "      <td>IMG_0446255_person(person).jpg</td>\n",
       "      <td>person</td>\n",
       "    </tr>\n",
       "  </tbody>\n",
       "</table>\n",
       "</div>"
      ],
      "text/plain": [
       "        id  height  width                       file_name category\n",
       "0  0446250    1920   1440  IMG_0446250_person(person).jpg   person\n",
       "1  0446251    1920   1080  IMG_0446251_person(person).jpg   person\n",
       "2  0446252    1920   1080  IMG_0446252_person(person).jpg   person\n",
       "3  0446253    1920   1080  IMG_0446253_person(person).jpg   person\n",
       "4  0446255    1920   1080  IMG_0446255_person(person).jpg   person"
      ]
     },
     "execution_count": 121,
     "metadata": {},
     "output_type": "execute_result"
    }
   ],
   "source": [
    "merged_df['category'] = 'person'\n",
    "merged_df.head()"
   ]
  },
  {
   "cell_type": "code",
   "execution_count": 122,
   "id": "acb82f00",
   "metadata": {
    "scrolled": true
   },
   "outputs": [
    {
     "name": "stdout",
     "output_type": "stream",
     "text": [
      "<class 'pandas.core.frame.DataFrame'>\n",
      "RangeIndex: 3000 entries, 0 to 2999\n",
      "Data columns (total 5 columns):\n",
      " #   Column     Non-Null Count  Dtype \n",
      "---  ------     --------------  ----- \n",
      " 0   id         3000 non-null   object\n",
      " 1   height     3000 non-null   int64 \n",
      " 2   width      3000 non-null   int64 \n",
      " 3   file_name  3000 non-null   object\n",
      " 4   category   3000 non-null   object\n",
      "dtypes: int64(2), object(3)\n",
      "memory usage: 117.3+ KB\n"
     ]
    }
   ],
   "source": [
    "merged_df.info()"
   ]
  },
  {
   "cell_type": "code",
   "execution_count": 123,
   "id": "c448ed5f",
   "metadata": {},
   "outputs": [],
   "source": [
    "merged_df.to_csv('./merged_df/image_caption_label_preprocessed.csv', encoding='utf-8', index=False)"
   ]
  },
  {
   "cell_type": "code",
   "execution_count": 124,
   "id": "66bb6109",
   "metadata": {},
   "outputs": [],
   "source": [
    "kwon = merged_df.iloc[:1500]\n",
    "kim = merged_df.iloc[1500:3000]"
   ]
  },
  {
   "cell_type": "code",
   "execution_count": 115,
   "id": "fc365add",
   "metadata": {
    "scrolled": true
   },
   "outputs": [
    {
     "name": "stdout",
     "output_type": "stream",
     "text": [
      "<class 'pandas.core.frame.DataFrame'>\n",
      "RangeIndex: 1500 entries, 1500 to 2999\n",
      "Data columns (total 5 columns):\n",
      " #   Column     Non-Null Count  Dtype \n",
      "---  ------     --------------  ----- \n",
      " 0   id         1500 non-null   object\n",
      " 1   height     1500 non-null   int64 \n",
      " 2   width      1500 non-null   int64 \n",
      " 3   file_name  1500 non-null   object\n",
      " 4   category   1500 non-null   object\n",
      "dtypes: int64(2), object(3)\n",
      "memory usage: 58.7+ KB\n"
     ]
    }
   ],
   "source": [
    "kim.info()"
   ]
  },
  {
   "cell_type": "code",
   "execution_count": 125,
   "id": "01f5fe02",
   "metadata": {},
   "outputs": [],
   "source": [
    "kwon.to_csv('./merged_df/image_caption_label_preprocessed_kwon_1500.csv', encoding='utf-8', index=False)\n",
    "kim.to_csv('./merged_df/image_caption_label_preprocessed_kim_3000.csv', encoding='utf-8', index=False)"
   ]
  },
  {
   "cell_type": "code",
   "execution_count": 126,
   "id": "b1f6bca7",
   "metadata": {
    "scrolled": true
   },
   "outputs": [
    {
     "data": {
      "text/html": [
       "<div>\n",
       "<style scoped>\n",
       "    .dataframe tbody tr th:only-of-type {\n",
       "        vertical-align: middle;\n",
       "    }\n",
       "\n",
       "    .dataframe tbody tr th {\n",
       "        vertical-align: top;\n",
       "    }\n",
       "\n",
       "    .dataframe thead th {\n",
       "        text-align: right;\n",
       "    }\n",
       "</style>\n",
       "<table border=\"1\" class=\"dataframe\">\n",
       "  <thead>\n",
       "    <tr style=\"text-align: right;\">\n",
       "      <th></th>\n",
       "      <th>id</th>\n",
       "      <th>height</th>\n",
       "      <th>width</th>\n",
       "      <th>file_name</th>\n",
       "      <th>category</th>\n",
       "    </tr>\n",
       "  </thead>\n",
       "  <tbody>\n",
       "    <tr>\n",
       "      <th>0</th>\n",
       "      <td>447937</td>\n",
       "      <td>1920</td>\n",
       "      <td>1440</td>\n",
       "      <td>IMG_0447937_person(person).jpg</td>\n",
       "      <td>person</td>\n",
       "    </tr>\n",
       "    <tr>\n",
       "      <th>1</th>\n",
       "      <td>447938</td>\n",
       "      <td>1080</td>\n",
       "      <td>1920</td>\n",
       "      <td>IMG_0447938_person(person).jpg</td>\n",
       "      <td>person</td>\n",
       "    </tr>\n",
       "    <tr>\n",
       "      <th>2</th>\n",
       "      <td>447939</td>\n",
       "      <td>1920</td>\n",
       "      <td>1080</td>\n",
       "      <td>IMG_0447939_person(person).jpg</td>\n",
       "      <td>person</td>\n",
       "    </tr>\n",
       "    <tr>\n",
       "      <th>3</th>\n",
       "      <td>447940</td>\n",
       "      <td>1920</td>\n",
       "      <td>1440</td>\n",
       "      <td>IMG_0447940_person(person).jpg</td>\n",
       "      <td>person</td>\n",
       "    </tr>\n",
       "    <tr>\n",
       "      <th>4</th>\n",
       "      <td>447941</td>\n",
       "      <td>1920</td>\n",
       "      <td>1440</td>\n",
       "      <td>IMG_0447941_person(person).jpg</td>\n",
       "      <td>person</td>\n",
       "    </tr>\n",
       "  </tbody>\n",
       "</table>\n",
       "</div>"
      ],
      "text/plain": [
       "       id  height  width                       file_name category\n",
       "0  447937    1920   1440  IMG_0447937_person(person).jpg   person\n",
       "1  447938    1080   1920  IMG_0447938_person(person).jpg   person\n",
       "2  447939    1920   1080  IMG_0447939_person(person).jpg   person\n",
       "3  447940    1920   1440  IMG_0447940_person(person).jpg   person\n",
       "4  447941    1920   1440  IMG_0447941_person(person).jpg   person"
      ]
     },
     "execution_count": 126,
     "metadata": {},
     "output_type": "execute_result"
    }
   ],
   "source": [
    "kim_df = pd.read_csv('./merged_df/image_caption_label_preprocessed_kim_3000.csv', encoding='utf-8')\n",
    "kim_df.head()"
   ]
  },
  {
   "cell_type": "code",
   "execution_count": null,
   "id": "4965c6e4",
   "metadata": {},
   "outputs": [],
   "source": []
  }
 ],
 "metadata": {
  "kernelspec": {
   "display_name": "Python 3 (ipykernel)",
   "language": "python",
   "name": "python3"
  },
  "language_info": {
   "codemirror_mode": {
    "name": "ipython",
    "version": 3
   },
   "file_extension": ".py",
   "mimetype": "text/x-python",
   "name": "python",
   "nbconvert_exporter": "python",
   "pygments_lexer": "ipython3",
   "version": "3.11.5"
  }
 },
 "nbformat": 4,
 "nbformat_minor": 5
}
