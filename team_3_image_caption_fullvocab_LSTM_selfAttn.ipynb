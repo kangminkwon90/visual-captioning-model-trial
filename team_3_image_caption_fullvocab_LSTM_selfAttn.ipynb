{
  "nbformat": 4,
  "nbformat_minor": 0,
  "metadata": {
    "colab": {
      "provenance": [],
      "gpuType": "T4"
    },
    "kernelspec": {
      "name": "python3",
      "display_name": "Python 3"
    },
    "language_info": {
      "name": "python"
    },
    "accelerator": "GPU"
  },
  "cells": [
    {
      "cell_type": "code",
      "execution_count": null,
      "metadata": {
        "id": "kFy5tCHU1Dre"
      },
      "outputs": [],
      "source": [
        "## 이미지 캡셔닝 1차 모델 구축\n",
        "  ## 베이스 아키텍처: Show, Attend and Tell\n",
        "  ## 추가 확보 데이터: vocab(from pre-trained model)\n",
        "  ## 프로세스\n",
        "    ## 데이터 로드, 체크\n",
        "    ## 텍스트 데이터 추가 전처리(정규화, 토큰화, 패딩)\n",
        "    ## 이미지 데이터 전처리\n",
        "    ## 모델 정의: CNN, Attention, LSTM\n",
        "    ## 기타 사용자 정의 함수 생성(손실함수 등)\n",
        "    ## 모델 컴파일 및 훈련\n",
        "    ## 모델 검증(테스트 데이터 확인, 학습결과 시각화, 매트릭스 출력)"
      ]
    },
    {
      "cell_type": "code",
      "source": [
        "!pip install nltk rouge"
      ],
      "metadata": {
        "colab": {
          "base_uri": "https://localhost:8080/"
        },
        "id": "EJrYhkpbmpC8",
        "outputId": "ec49a449-8022-49fc-d184-91332f8efe5c"
      },
      "execution_count": 1,
      "outputs": [
        {
          "output_type": "stream",
          "name": "stdout",
          "text": [
            "Requirement already satisfied: nltk in /usr/local/lib/python3.10/dist-packages (3.8.1)\n",
            "Collecting rouge\n",
            "  Downloading rouge-1.0.1-py3-none-any.whl (13 kB)\n",
            "Requirement already satisfied: click in /usr/local/lib/python3.10/dist-packages (from nltk) (8.1.7)\n",
            "Requirement already satisfied: joblib in /usr/local/lib/python3.10/dist-packages (from nltk) (1.3.2)\n",
            "Requirement already satisfied: regex>=2021.8.3 in /usr/local/lib/python3.10/dist-packages (from nltk) (2023.6.3)\n",
            "Requirement already satisfied: tqdm in /usr/local/lib/python3.10/dist-packages (from nltk) (4.66.1)\n",
            "Requirement already satisfied: six in /usr/local/lib/python3.10/dist-packages (from rouge) (1.16.0)\n",
            "Installing collected packages: rouge\n",
            "Successfully installed rouge-1.0.1\n"
          ]
        }
      ]
    },
    {
      "cell_type": "code",
      "source": [
        "## Data load\n",
        "\n",
        "from google.colab import drive\n",
        "import os\n",
        "\n",
        "drive.mount('/content/drive')\n",
        "zip_file_path = '/content/drive/My Drive/data-team3-imagecaption/train_sample_1.zip'\n",
        "%mkdir 'train_sample_1'\n",
        "\n",
        "!cp \"{zip_file_path}\" \"/content/\"\n",
        "\n",
        "!unzip -q \"/content/train_sample_1.zip\" -d \"/content/train_sample_1/\"\n",
        "\n",
        "print('unizipped files: ', os.listdir('/content/train_sample_1'))"
      ],
      "metadata": {
        "colab": {
          "base_uri": "https://localhost:8080/"
        },
        "id": "4hz4qQCm1PY1",
        "outputId": "0b9a5b7b-2edb-4edc-a7ca-3f8407a1e6ec"
      },
      "execution_count": 2,
      "outputs": [
        {
          "output_type": "stream",
          "name": "stdout",
          "text": [
            "Mounted at /content/drive\n",
            "unizipped files:  ['IMG_0446357_person(person).jpg', 'IMG_0446336_person(person).jpg', 'IMG_0446365_person(person).jpg', 'IMG_0446253_person(person).jpg', 'IMG_0446285_person(person).jpg', 'IMG_0446300_person(person).jpg', 'IMG_0447769_person(person).jpg', 'IMG_0446289_person(person).jpg', 'IMG_0447761_person(person).jpg', 'IMG_0446344_person(person).jpg', 'IMG_0447832_person(person).jpg', 'IMG_0446277_person(person).jpg', 'IMG_0447828_person(person).jpg', 'IMG_0446271_person(person).jpg', 'IMG_0446260_person(person).jpg', 'IMG_0447767_person(person).jpg', 'IMG_0447756_person(person).jpg', 'IMG_0447788_person(person).jpg', 'IMG_0447762_person(person).jpg', 'IMG_0446293_person(person).jpg', 'IMG_0446350_person(person).jpg', 'IMG_0446331_person(person).jpg', 'IMG_0447771_person(person).jpg', 'IMG_0447759_person(person).jpg', 'IMG_0446274_person(person).jpg', 'IMG_0446266_person(person).jpg', 'IMG_0447790_person(person).jpg', 'IMG_0447809_person(person).jpg', 'IMG_0446290_person(person).jpg', 'IMG_0447797_person(person).jpg', 'IMG_0447795_person(person).jpg', 'IMG_0446265_person(person).jpg', 'IMG_0447789_person(person).jpg', 'IMG_0447782_person(person).jpg', 'IMG_0447807_person(person).jpg', 'IMG_0446291_person(person).jpg', 'IMG_0446334_person(person).jpg', 'IMG_0446288_person(person).jpg', 'IMG_0447821_person(person).jpg', 'IMG_0447826_person(person).jpg', 'IMG_0447798_person(person).jpg', 'IMG_0446320_person(person).jpg', 'IMG_0446339_person(person).jpg', 'IMG_0446322_person(person).jpg', 'IMG_0446278_person(person).jpg', 'IMG_0447830_person(person).jpg', 'IMG_0447848_person(person).jpg', 'IMG_0446333_person(person).jpg', 'IMG_0447843_person(person).jpg', 'IMG_0447765_person(person).jpg', 'IMG_0446346_person(person).jpg', 'IMG_0446337_person(person).jpg', 'IMG_0447834_person(person).jpg', 'IMG_0447824_person(person).jpg', 'IMG_0447808_person(person).jpg', 'IMG_0447794_person(person).jpg', 'IMG_0447792_person(person).jpg', 'IMG_0447768_person(person).jpg', 'IMG_0446270_person(person).jpg', 'IMG_0446255_person(person).jpg', 'IMG_0446258_person(person).jpg', 'IMG_0446294_person(person).jpg', 'IMG_0446306_person(person).jpg', 'IMG_0447805_person(person).jpg', 'IMG_0447770_person(person).jpg', 'IMG_0446364_person(person).jpg', 'IMG_0446301_person(person).jpg', 'IMG_0446317_person(person).jpg', 'IMG_0447819_person(person).jpg', 'IMG_0446282_person(person).jpg', 'IMG_0447844_person(person).jpg', 'IMG_0446298_person(person).jpg', 'IMG_0446268_person(person).jpg', 'IMG_0447783_person(person).jpg', 'IMG_0447802_person(person).jpg', 'IMG_0447849_person(person).jpg', 'IMG_0447791_person(person).jpg', 'IMG_0446281_person(person).jpg', 'IMG_0446341_person(person).jpg', 'IMG_0447837_person(person).jpg', 'IMG_0446325_person(person).jpg', 'IMG_0447840_person(person).jpg', 'IMG_0446308_person(person).jpg', 'IMG_0446342_person(person).jpg', 'IMG_0446318_person(person).jpg', 'IMG_0446349_person(person).jpg', 'IMG_0447779_person(person).jpg', 'IMG_0447839_person(person).jpg', 'IMG_0447817_person(person).jpg', 'IMG_0447838_person(person).jpg', 'IMG_0446327_person(person).jpg', 'IMG_0446295_person(person).jpg', 'IMG_0447816_person(person).jpg', 'IMG_0447804_person(person).jpg', 'IMG_0446269_person(person).jpg', 'IMG_0446311_person(person).jpg', 'IMG_0447822_person(person).jpg', 'IMG_0446313_person(person).jpg', 'IMG_0447754_person(person).jpg', 'IMG_0447827_person(person).jpg', 'IMG_0447831_person(person).jpg', 'IMG_0447784_person(person).jpg', 'IMG_0446275_person(person).jpg', 'IMG_0447775_person(person).jpg', 'IMG_0447806_person(person).jpg', 'IMG_0447773_person(person).jpg', 'IMG_0447842_person(person).jpg', 'IMG_0447785_person(person).jpg', 'IMG_0446360_person(person).jpg', 'IMG_0446259_person(person).jpg', 'IMG_0446286_person(person).jpg', 'IMG_0447786_person(person).jpg', 'IMG_0447758_person(person).jpg', 'IMG_0446356_person(person).jpg', 'IMG_0446312_person(person).jpg', 'IMG_0447813_person(person).jpg', 'IMG_0446267_person(person).jpg', 'IMG_0447812_person(person).jpg', 'IMG_0446252_person(person).jpg', 'IMG_0446352_person(person).jpg', 'IMG_0447776_person(person).jpg', 'IMG_0446324_person(person).jpg', 'IMG_0446261_person(person).jpg', 'IMG_0446283_person(person).jpg', 'IMG_0447801_person(person).jpg', 'IMG_0447793_person(person).jpg', 'IMG_0446347_person(person).jpg', 'IMG_0447781_person(person).jpg', 'IMG_0447751_person(person).jpg', 'IMG_0447815_person(person).jpg', 'IMG_0446323_person(person).jpg', 'IMG_0446251_person(person).jpg', 'IMG_0446303_person(person).jpg', 'train_sample_200.csv', 'IMG_0446307_person(person).jpg', 'IMG_0447796_person(person).jpg', 'IMG_0446264_person(person).jpg', 'IMG_0446296_person(person).jpg', 'IMG_0446284_person(person).jpg', 'IMG_0447825_person(person).jpg', 'IMG_0446315_person(person).jpg', 'IMG_0446250_person(person).jpg', 'IMG_0447811_person(person).jpg', 'IMG_0447764_person(person).jpg', 'IMG_0446299_person(person).jpg', 'IMG_0446368_person(person).jpg', 'IMG_0447846_person(person).jpg', 'IMG_0447750_person(person).jpg', 'IMG_0446326_person(person).jpg', 'IMG_0447778_person(person).jpg', 'IMG_0447777_person(person).jpg', 'IMG_0446345_person(person).jpg', 'IMG_0447755_person(person).jpg', 'IMG_0447753_person(person).jpg', 'IMG_0446314_person(person).jpg', 'IMG_0446335_person(person).jpg', 'IMG_0447772_person(person).jpg', 'IMG_0446280_person(person).jpg', 'IMG_0446329_person(person).jpg', 'IMG_0447760_person(person).jpg', 'IMG_0446279_person(person).jpg', 'IMG_0447814_person(person).jpg', 'IMG_0446328_person(person).jpg', 'IMG_0447799_person(person).jpg', 'IMG_0447833_person(person).jpg', 'IMG_0446292_person(person).jpg', 'IMG_0446338_person(person).jpg', 'IMG_0446316_person(person).jpg', 'IMG_0446363_person(person).jpg', 'IMG_0447800_person(person).jpg', 'IMG_0447841_person(person).jpg', 'IMG_0446354_person(person).jpg', 'IMG_0446321_person(person).jpg', 'label_archive', 'IMG_0447818_person(person).jpg', 'IMG_0446287_person(person).jpg', 'IMG_0446305_person(person).jpg', 'IMG_0446256_person(person).jpg', 'IMG_0446366_person(person).jpg', 'IMG_0447820_person(person).jpg', 'IMG_0447774_person(person).jpg', 'IMG_0446272_person(person).jpg', 'IMG_0447810_person(person).jpg', 'IMG_0446351_person(person).jpg', 'IMG_0447845_person(person).jpg', 'IMG_0447752_person(person).jpg', 'IMG_0447803_person(person).jpg', 'IMG_0447757_person(person).jpg', 'IMG_0446319_person(person).jpg', 'IMG_0447787_person(person).jpg', 'IMG_0446358_person(person).jpg', 'IMG_0447766_person(person).jpg', 'IMG_0447835_person(person).jpg', 'IMG_0447823_person(person).jpg', 'IMG_0447829_person(person).jpg', 'IMG_0447780_person(person).jpg', 'IMG_0446359_person(person).jpg', 'IMG_0447836_person(person).jpg', 'IMG_0447847_person(person).jpg', 'IMG_0446304_person(person).jpg', 'IMG_0447763_person(person).jpg', 'IMG_0446310_person(person).jpg']\n"
          ]
        }
      ]
    },
    {
      "cell_type": "code",
      "source": [
        "## text data additional preprocessing for model train\n",
        "\n",
        "import pandas as pd\n",
        "import numpy as np\n",
        "from tensorflow.keras.preprocessing.text import Tokenizer\n",
        "from tensorflow.keras.preprocessing.sequence import pad_sequences\n",
        "from sklearn.model_selection import train_test_split\n",
        "from tensorflow.keras.utils import to_categorical\n",
        "import re"
      ],
      "metadata": {
        "id": "WELxEl8t1PbJ"
      },
      "execution_count": 4,
      "outputs": []
    },
    {
      "cell_type": "code",
      "source": [
        "df = pd.read_csv('/content/train_sample_1/train_sample_200.csv', encoding='utf-8')\n",
        "df.head(2)"
      ],
      "metadata": {
        "colab": {
          "base_uri": "https://localhost:8080/",
          "height": 112
        },
        "id": "vim8MBxX1Pde",
        "outputId": "84e8972c-c680-4068-82cb-949de8a335b3"
      },
      "execution_count": 73,
      "outputs": [
        {
          "output_type": "execute_result",
          "data": {
            "text/plain": [
              "       id  height  width                       file_name category  \\\n",
              "0  446250    1920   1440  IMG_0446250_person(person).jpg   person   \n",
              "1  446251    1920   1080  IMG_0446251_person(person).jpg   person   \n",
              "\n",
              "                       sentence_en  \n",
              "0     a man is holding an umbrella  \n",
              "1  a man is turning on a gas stove  "
            ],
            "text/html": [
              "\n",
              "  <div id=\"df-e15e2ecd-5eae-4088-a094-67f9d970e8b6\" class=\"colab-df-container\">\n",
              "    <div>\n",
              "<style scoped>\n",
              "    .dataframe tbody tr th:only-of-type {\n",
              "        vertical-align: middle;\n",
              "    }\n",
              "\n",
              "    .dataframe tbody tr th {\n",
              "        vertical-align: top;\n",
              "    }\n",
              "\n",
              "    .dataframe thead th {\n",
              "        text-align: right;\n",
              "    }\n",
              "</style>\n",
              "<table border=\"1\" class=\"dataframe\">\n",
              "  <thead>\n",
              "    <tr style=\"text-align: right;\">\n",
              "      <th></th>\n",
              "      <th>id</th>\n",
              "      <th>height</th>\n",
              "      <th>width</th>\n",
              "      <th>file_name</th>\n",
              "      <th>category</th>\n",
              "      <th>sentence_en</th>\n",
              "    </tr>\n",
              "  </thead>\n",
              "  <tbody>\n",
              "    <tr>\n",
              "      <th>0</th>\n",
              "      <td>446250</td>\n",
              "      <td>1920</td>\n",
              "      <td>1440</td>\n",
              "      <td>IMG_0446250_person(person).jpg</td>\n",
              "      <td>person</td>\n",
              "      <td>a man is holding an umbrella</td>\n",
              "    </tr>\n",
              "    <tr>\n",
              "      <th>1</th>\n",
              "      <td>446251</td>\n",
              "      <td>1920</td>\n",
              "      <td>1080</td>\n",
              "      <td>IMG_0446251_person(person).jpg</td>\n",
              "      <td>person</td>\n",
              "      <td>a man is turning on a gas stove</td>\n",
              "    </tr>\n",
              "  </tbody>\n",
              "</table>\n",
              "</div>\n",
              "    <div class=\"colab-df-buttons\">\n",
              "\n",
              "  <div class=\"colab-df-container\">\n",
              "    <button class=\"colab-df-convert\" onclick=\"convertToInteractive('df-e15e2ecd-5eae-4088-a094-67f9d970e8b6')\"\n",
              "            title=\"Convert this dataframe to an interactive table.\"\n",
              "            style=\"display:none;\">\n",
              "\n",
              "  <svg xmlns=\"http://www.w3.org/2000/svg\" height=\"24px\" viewBox=\"0 -960 960 960\">\n",
              "    <path d=\"M120-120v-720h720v720H120Zm60-500h600v-160H180v160Zm220 220h160v-160H400v160Zm0 220h160v-160H400v160ZM180-400h160v-160H180v160Zm440 0h160v-160H620v160ZM180-180h160v-160H180v160Zm440 0h160v-160H620v160Z\"/>\n",
              "  </svg>\n",
              "    </button>\n",
              "\n",
              "  <style>\n",
              "    .colab-df-container {\n",
              "      display:flex;\n",
              "      gap: 12px;\n",
              "    }\n",
              "\n",
              "    .colab-df-convert {\n",
              "      background-color: #E8F0FE;\n",
              "      border: none;\n",
              "      border-radius: 50%;\n",
              "      cursor: pointer;\n",
              "      display: none;\n",
              "      fill: #1967D2;\n",
              "      height: 32px;\n",
              "      padding: 0 0 0 0;\n",
              "      width: 32px;\n",
              "    }\n",
              "\n",
              "    .colab-df-convert:hover {\n",
              "      background-color: #E2EBFA;\n",
              "      box-shadow: 0px 1px 2px rgba(60, 64, 67, 0.3), 0px 1px 3px 1px rgba(60, 64, 67, 0.15);\n",
              "      fill: #174EA6;\n",
              "    }\n",
              "\n",
              "    .colab-df-buttons div {\n",
              "      margin-bottom: 4px;\n",
              "    }\n",
              "\n",
              "    [theme=dark] .colab-df-convert {\n",
              "      background-color: #3B4455;\n",
              "      fill: #D2E3FC;\n",
              "    }\n",
              "\n",
              "    [theme=dark] .colab-df-convert:hover {\n",
              "      background-color: #434B5C;\n",
              "      box-shadow: 0px 1px 3px 1px rgba(0, 0, 0, 0.15);\n",
              "      filter: drop-shadow(0px 1px 2px rgba(0, 0, 0, 0.3));\n",
              "      fill: #FFFFFF;\n",
              "    }\n",
              "  </style>\n",
              "\n",
              "    <script>\n",
              "      const buttonEl =\n",
              "        document.querySelector('#df-e15e2ecd-5eae-4088-a094-67f9d970e8b6 button.colab-df-convert');\n",
              "      buttonEl.style.display =\n",
              "        google.colab.kernel.accessAllowed ? 'block' : 'none';\n",
              "\n",
              "      async function convertToInteractive(key) {\n",
              "        const element = document.querySelector('#df-e15e2ecd-5eae-4088-a094-67f9d970e8b6');\n",
              "        const dataTable =\n",
              "          await google.colab.kernel.invokeFunction('convertToInteractive',\n",
              "                                                    [key], {});\n",
              "        if (!dataTable) return;\n",
              "\n",
              "        const docLinkHtml = 'Like what you see? Visit the ' +\n",
              "          '<a target=\"_blank\" href=https://colab.research.google.com/notebooks/data_table.ipynb>data table notebook</a>'\n",
              "          + ' to learn more about interactive tables.';\n",
              "        element.innerHTML = '';\n",
              "        dataTable['output_type'] = 'display_data';\n",
              "        await google.colab.output.renderOutput(dataTable, element);\n",
              "        const docLink = document.createElement('div');\n",
              "        docLink.innerHTML = docLinkHtml;\n",
              "        element.appendChild(docLink);\n",
              "      }\n",
              "    </script>\n",
              "  </div>\n",
              "\n",
              "\n",
              "<div id=\"df-618a36bc-973d-4b8b-97e0-2e5f2caefede\">\n",
              "  <button class=\"colab-df-quickchart\" onclick=\"quickchart('df-618a36bc-973d-4b8b-97e0-2e5f2caefede')\"\n",
              "            title=\"Suggest charts\"\n",
              "            style=\"display:none;\">\n",
              "\n",
              "<svg xmlns=\"http://www.w3.org/2000/svg\" height=\"24px\"viewBox=\"0 0 24 24\"\n",
              "     width=\"24px\">\n",
              "    <g>\n",
              "        <path d=\"M19 3H5c-1.1 0-2 .9-2 2v14c0 1.1.9 2 2 2h14c1.1 0 2-.9 2-2V5c0-1.1-.9-2-2-2zM9 17H7v-7h2v7zm4 0h-2V7h2v10zm4 0h-2v-4h2v4z\"/>\n",
              "    </g>\n",
              "</svg>\n",
              "  </button>\n",
              "\n",
              "<style>\n",
              "  .colab-df-quickchart {\n",
              "      --bg-color: #E8F0FE;\n",
              "      --fill-color: #1967D2;\n",
              "      --hover-bg-color: #E2EBFA;\n",
              "      --hover-fill-color: #174EA6;\n",
              "      --disabled-fill-color: #AAA;\n",
              "      --disabled-bg-color: #DDD;\n",
              "  }\n",
              "\n",
              "  [theme=dark] .colab-df-quickchart {\n",
              "      --bg-color: #3B4455;\n",
              "      --fill-color: #D2E3FC;\n",
              "      --hover-bg-color: #434B5C;\n",
              "      --hover-fill-color: #FFFFFF;\n",
              "      --disabled-bg-color: #3B4455;\n",
              "      --disabled-fill-color: #666;\n",
              "  }\n",
              "\n",
              "  .colab-df-quickchart {\n",
              "    background-color: var(--bg-color);\n",
              "    border: none;\n",
              "    border-radius: 50%;\n",
              "    cursor: pointer;\n",
              "    display: none;\n",
              "    fill: var(--fill-color);\n",
              "    height: 32px;\n",
              "    padding: 0;\n",
              "    width: 32px;\n",
              "  }\n",
              "\n",
              "  .colab-df-quickchart:hover {\n",
              "    background-color: var(--hover-bg-color);\n",
              "    box-shadow: 0 1px 2px rgba(60, 64, 67, 0.3), 0 1px 3px 1px rgba(60, 64, 67, 0.15);\n",
              "    fill: var(--button-hover-fill-color);\n",
              "  }\n",
              "\n",
              "  .colab-df-quickchart-complete:disabled,\n",
              "  .colab-df-quickchart-complete:disabled:hover {\n",
              "    background-color: var(--disabled-bg-color);\n",
              "    fill: var(--disabled-fill-color);\n",
              "    box-shadow: none;\n",
              "  }\n",
              "\n",
              "  .colab-df-spinner {\n",
              "    border: 2px solid var(--fill-color);\n",
              "    border-color: transparent;\n",
              "    border-bottom-color: var(--fill-color);\n",
              "    animation:\n",
              "      spin 1s steps(1) infinite;\n",
              "  }\n",
              "\n",
              "  @keyframes spin {\n",
              "    0% {\n",
              "      border-color: transparent;\n",
              "      border-bottom-color: var(--fill-color);\n",
              "      border-left-color: var(--fill-color);\n",
              "    }\n",
              "    20% {\n",
              "      border-color: transparent;\n",
              "      border-left-color: var(--fill-color);\n",
              "      border-top-color: var(--fill-color);\n",
              "    }\n",
              "    30% {\n",
              "      border-color: transparent;\n",
              "      border-left-color: var(--fill-color);\n",
              "      border-top-color: var(--fill-color);\n",
              "      border-right-color: var(--fill-color);\n",
              "    }\n",
              "    40% {\n",
              "      border-color: transparent;\n",
              "      border-right-color: var(--fill-color);\n",
              "      border-top-color: var(--fill-color);\n",
              "    }\n",
              "    60% {\n",
              "      border-color: transparent;\n",
              "      border-right-color: var(--fill-color);\n",
              "    }\n",
              "    80% {\n",
              "      border-color: transparent;\n",
              "      border-right-color: var(--fill-color);\n",
              "      border-bottom-color: var(--fill-color);\n",
              "    }\n",
              "    90% {\n",
              "      border-color: transparent;\n",
              "      border-bottom-color: var(--fill-color);\n",
              "    }\n",
              "  }\n",
              "</style>\n",
              "\n",
              "  <script>\n",
              "    async function quickchart(key) {\n",
              "      const quickchartButtonEl =\n",
              "        document.querySelector('#' + key + ' button');\n",
              "      quickchartButtonEl.disabled = true;  // To prevent multiple clicks.\n",
              "      quickchartButtonEl.classList.add('colab-df-spinner');\n",
              "      try {\n",
              "        const charts = await google.colab.kernel.invokeFunction(\n",
              "            'suggestCharts', [key], {});\n",
              "      } catch (error) {\n",
              "        console.error('Error during call to suggestCharts:', error);\n",
              "      }\n",
              "      quickchartButtonEl.classList.remove('colab-df-spinner');\n",
              "      quickchartButtonEl.classList.add('colab-df-quickchart-complete');\n",
              "    }\n",
              "    (() => {\n",
              "      let quickchartButtonEl =\n",
              "        document.querySelector('#df-618a36bc-973d-4b8b-97e0-2e5f2caefede button');\n",
              "      quickchartButtonEl.style.display =\n",
              "        google.colab.kernel.accessAllowed ? 'block' : 'none';\n",
              "    })();\n",
              "  </script>\n",
              "</div>\n",
              "\n",
              "    </div>\n",
              "  </div>\n"
            ]
          },
          "metadata": {},
          "execution_count": 73
        }
      ]
    },
    {
      "cell_type": "code",
      "source": [
        "## text data preprocessing\n",
        "\n",
        "from keras.preprocessing.text import Tokenizer\n",
        "from keras.preprocessing.sequence import pad_sequences\n",
        "from keras.utils import to_categorical\n",
        "import numpy as np\n",
        "\n",
        "def preprocess_and_tokenize(df, text_column='sentence_en'):\n",
        "  def clean_text(text):\n",
        "    text = text.lower()\n",
        "    text = re.sub(r\"[^a-zA-Z0-9\\s]\", \"\", text)\n",
        "    return text\n",
        "\n",
        "  start_token = '<start>'\n",
        "  end_token = '<end>'\n",
        "  pad_token = '<pad>'\n",
        "\n",
        "  df['cleaned_sentence'] = df[text_column].apply(clean_text)\n",
        "\n",
        "  tokenizer = Tokenizer(oov_token=pad_token)\n",
        "  tokenizer.fit_on_texts(df['cleaned_sentence'])\n",
        "\n",
        "  tokenizer.word_index[start_token] = len(tokenizer.word_index) + 1\n",
        "  tokenizer.word_index[end_token] = len(tokenizer.word_index) + 1\n",
        "  tokenizer.word_index[pad_token] = 0\n",
        "  tokenizer.index_word[0] = pad_token\n",
        "\n",
        "  sequences = tokenizer.texts_to_sequences(df['cleaned_sentence'])\n",
        "  sequences = [[tokenizer.word_index[start_token]] + seq + [tokenizer.word_index[end_token]] for seq in sequences]\n",
        "\n",
        "  max_length = max(len(sequence) for sequence in sequences)\n",
        "  sequences_padded = pad_sequences(sequences, maxlen=max_length, padding='post', value=tokenizer.word_index[pad_token])\n",
        "\n",
        "  vocab_size = len(tokenizer.word_index) + 1\n",
        "\n",
        "  x_data_text = sequences_padded[:, :-1]\n",
        "  y_data = sequences_padded[:, 1:]\n",
        "\n",
        "  y_data_one_hot = to_categorical(y_data, num_classes=vocab_size)\n",
        "  max_sequence_length = max_length - 1\n",
        "\n",
        "  return x_data_text, y_data_one_hot, y_data, vocab_size, tokenizer, max_sequence_length\n"
      ],
      "metadata": {
        "id": "NwUJiLDo1Pko"
      },
      "execution_count": 94,
      "outputs": []
    },
    {
      "cell_type": "code",
      "source": [
        "print(max_sequence_length)"
      ],
      "metadata": {
        "colab": {
          "base_uri": "https://localhost:8080/"
        },
        "id": "LMF0pORJm6Qc",
        "outputId": "1755ba7a-40ba-4ded-a3ea-ac6f7ea15c08"
      },
      "execution_count": 97,
      "outputs": [
        {
          "output_type": "stream",
          "name": "stdout",
          "text": [
            "20\n"
          ]
        }
      ]
    },
    {
      "cell_type": "code",
      "source": [
        "## image data preprocessing for model train\n",
        "\n",
        "from tensorflow.keras.preprocessing.image import load_img, img_to_array\n",
        "import numpy as np\n",
        "import os\n",
        "\n",
        "image_folder = '/content/train_sample_1'"
      ],
      "metadata": {
        "id": "fbfu12_E1P2d"
      },
      "execution_count": 7,
      "outputs": []
    },
    {
      "cell_type": "code",
      "source": [
        "def process_image(file_name, target_size=(299,299)):\n",
        "  image_path = os.path.join(image_folder, file_name)\n",
        "  image = load_img(image_path, target_size=target_size)\n",
        "  image = img_to_array(image)\n",
        "  image = image.astype('float32')\n",
        "  image /= 255.0\n",
        "  return image"
      ],
      "metadata": {
        "id": "-yfzTuUW1P5R"
      },
      "execution_count": 8,
      "outputs": []
    },
    {
      "cell_type": "code",
      "source": [
        "image_data = np.array([process_image(file_name) for file_name in df['file_name']])\n",
        "\n",
        "x_data_text, y_data_one_hot, y_data, vocab_size, tokenizer, max_sequence_length = preprocess_and_tokenize(df)\n",
        "x_data_image = image_data"
      ],
      "metadata": {
        "id": "FDaLzxHJ1P8E"
      },
      "execution_count": 96,
      "outputs": []
    },
    {
      "cell_type": "code",
      "source": [
        "print(image_data.shape)"
      ],
      "metadata": {
        "colab": {
          "base_uri": "https://localhost:8080/"
        },
        "id": "oiPZIrWf1P-k",
        "outputId": "bc07a960-ac8a-4dec-ce09-c709eaefc14f"
      },
      "execution_count": 81,
      "outputs": [
        {
          "output_type": "stream",
          "name": "stdout",
          "text": [
            "(200, 299, 299, 3)\n"
          ]
        }
      ]
    },
    {
      "cell_type": "code",
      "source": [
        "## train_test data split: one-hot encoding\n",
        "\n",
        "train_image_1, test_image_1, train_sequences_1,\\\n",
        " test_sequences_1, train_y_1, test_y_1 = train_test_split(x_data_image, x_data_text, y_data_one_hot, test_size=0.2, random_state=42)"
      ],
      "metadata": {
        "id": "LfJODH4Z1PxK"
      },
      "execution_count": 98,
      "outputs": []
    },
    {
      "cell_type": "code",
      "source": [
        "## train_test data split: int transformed encoding\n",
        "\n",
        "train_image_2, test_image_2, train_sequences_2,\\\n",
        " test_sequences_2, train_y_2, test_y_2 = train_test_split(x_data_image, x_data_text, y_data_int, test_size=0.2, random_state=42)"
      ],
      "metadata": {
        "id": "MyxIXuJq4dXW"
      },
      "execution_count": 27,
      "outputs": []
    },
    {
      "cell_type": "code",
      "source": [
        "print(train_image_1.shape)\n",
        "print(train_sequences_1.shape)\n",
        "print(test_image_1.shape)\n",
        "print(test_sequences_1.shape)\n",
        "print(train_y_1.shape)\n",
        "print(test_y_1.shape)"
      ],
      "metadata": {
        "colab": {
          "base_uri": "https://localhost:8080/"
        },
        "id": "KxT1lxio1Pz2",
        "outputId": "8433aded-a6e3-4be7-82b3-b9b4c8f364e7"
      },
      "execution_count": 49,
      "outputs": [
        {
          "output_type": "stream",
          "name": "stdout",
          "text": [
            "(160, 299, 299, 3)\n",
            "(160, 20)\n",
            "(40, 299, 299, 3)\n",
            "(40, 20)\n",
            "(160, 20, 273)\n",
            "(40, 20, 273)\n"
          ]
        }
      ]
    },
    {
      "cell_type": "code",
      "source": [
        "print(vocab_size)"
      ],
      "metadata": {
        "colab": {
          "base_uri": "https://localhost:8080/"
        },
        "id": "hLhsnttiUaka",
        "outputId": "af51f390-3bd4-4c83-dad7-083a743768f5"
      },
      "execution_count": 50,
      "outputs": [
        {
          "output_type": "stream",
          "name": "stdout",
          "text": [
            "273\n"
          ]
        }
      ]
    },
    {
      "cell_type": "code",
      "source": [
        "## define model(use cross-attention only)\n",
        "  ## cross-attention은 그냥 attention이랑 같은거라고 보면 됨\n",
        "\n",
        "import tensorflow as tf\n",
        "from tensorflow.keras.models import Model\n",
        "from tensorflow.keras.layers import Input, Embedding, Dense\n",
        "from tensorflow.keras.layers import LSTM, Bidirectional, Dropout\n",
        "from tensorflow.keras.layers import AdditiveAttention, MultiHeadAttention, Lambda, Masking, RepeatVector, Reshape\n",
        "from tensorflow.keras.applications.inception_resnet_v2 import InceptionResNetV2"
      ],
      "metadata": {
        "id": "FV-wD3KM1QBX"
      },
      "execution_count": 62,
      "outputs": []
    },
    {
      "cell_type": "code",
      "source": [
        "def create_padding_mask(seq):\n",
        "  seq = tf.cast(tf.math.equal(seq, 0), tf.float32)\n",
        "  return seq[:, tf.newaxis, tf.newaxis, :]\n",
        "\n",
        "inception_resnet_model = InceptionResNetV2(include_top=False,\\\n",
        "                                           weights='imagenet',\\\n",
        "                                           pooling='avg')\n",
        "inception_resnet_model.trainable = False\n",
        "\n",
        "vocab_size = vocab_size\n",
        "lstm_units = 256\n",
        "\n",
        "image_input = Input(shape=(299,299,3))\n",
        "image_features = inception_resnet_model(image_input)\n",
        "\n",
        "sequence_input = Input(shape=(None,))\n",
        "\n",
        "embedding = Embedding(input_dim=vocab_size,\\\n",
        "                      output_dim=256)(sequence_input)\n",
        "\n",
        "bidirectional_lstm = Bidirectional(LSTM(lstm_units, return_sequences=True))\n",
        "\n",
        "lstm_output = bidirectional_lstm(embedding)\n",
        "\n",
        "dropout = Dropout(0.5)\n",
        "lstm_output = dropout(lstm_output)\n",
        "\n",
        "second_lstm = LSTM(lstm_units,\\\n",
        "                   return_sequences=True,\\\n",
        "                   return_state=True)\n",
        "lstm_output, _, _ = second_lstm(lstm_output)\n",
        "\n",
        "padding_mask = Lambda(create_padding_mask)(sequence_input)\n",
        "\n",
        "image_features_dense = Dense(lstm_units)(image_features)\n",
        "image_features_dense = tf.expand_dims(image_features_dense, 1)\n",
        "\n",
        "attention = AdditiveAttention()\n",
        "context_vector, attention_weights = attention([lstm_output, image_features_dense], mask=[padding_mask, None])\n",
        "\n",
        "dense = Dense(vocab_size, activation='softmax')\n",
        "output = dense(context_vector)\n",
        "\n",
        "model = Model(inputs=[image_input, sequence_input], outputs=output)\n",
        "initial_weights = model.get_weights()\n",
        "model.summary()"
      ],
      "metadata": {
        "colab": {
          "base_uri": "https://localhost:8080/",
          "height": 387
        },
        "id": "u3GruQAE1QD6",
        "outputId": "5c04ddfa-e5db-4efd-cdb3-d93689d4521c"
      },
      "execution_count": 51,
      "outputs": [
        {
          "output_type": "error",
          "ename": "TypeError",
          "evalue": "Cannot iterate over a Tensor with unknown first dimension.",
          "traceback": [
            "\u001b[0;31m---------------------------------------------------------------------------\u001b[0m",
            "\u001b[0;31mTypeError\u001b[0m                                 Traceback (most recent call last)",
            "\u001b[0;32m<ipython-input-51-872b611cb84a>\u001b[0m in \u001b[0;36m<cell line: 39>\u001b[0;34m()\u001b[0m\n\u001b[1;32m     37\u001b[0m \u001b[0;34m\u001b[0m\u001b[0m\n\u001b[1;32m     38\u001b[0m \u001b[0mattention\u001b[0m \u001b[0;34m=\u001b[0m \u001b[0mAdditiveAttention\u001b[0m\u001b[0;34m(\u001b[0m\u001b[0;34m)\u001b[0m\u001b[0;34m\u001b[0m\u001b[0;34m\u001b[0m\u001b[0m\n\u001b[0;32m---> 39\u001b[0;31m \u001b[0mcontext_vector\u001b[0m\u001b[0;34m,\u001b[0m \u001b[0mattention_weights\u001b[0m \u001b[0;34m=\u001b[0m \u001b[0mattention\u001b[0m\u001b[0;34m(\u001b[0m\u001b[0;34m[\u001b[0m\u001b[0mlstm_output\u001b[0m\u001b[0;34m,\u001b[0m \u001b[0mimage_features_dense\u001b[0m\u001b[0;34m]\u001b[0m\u001b[0;34m,\u001b[0m \u001b[0mmask\u001b[0m\u001b[0;34m=\u001b[0m\u001b[0;34m[\u001b[0m\u001b[0mpadding_mask\u001b[0m\u001b[0;34m,\u001b[0m \u001b[0;32mNone\u001b[0m\u001b[0;34m]\u001b[0m\u001b[0;34m)\u001b[0m\u001b[0;34m\u001b[0m\u001b[0;34m\u001b[0m\u001b[0m\n\u001b[0m\u001b[1;32m     40\u001b[0m \u001b[0;34m\u001b[0m\u001b[0m\n\u001b[1;32m     41\u001b[0m \u001b[0mdense\u001b[0m \u001b[0;34m=\u001b[0m \u001b[0mDense\u001b[0m\u001b[0;34m(\u001b[0m\u001b[0mvocab_size\u001b[0m\u001b[0;34m,\u001b[0m \u001b[0mactivation\u001b[0m\u001b[0;34m=\u001b[0m\u001b[0;34m'softmax'\u001b[0m\u001b[0;34m)\u001b[0m\u001b[0;34m\u001b[0m\u001b[0;34m\u001b[0m\u001b[0m\n",
            "\u001b[0;32m/usr/local/lib/python3.10/dist-packages/keras/src/engine/keras_tensor.py\u001b[0m in \u001b[0;36m__iter__\u001b[0;34m(self)\u001b[0m\n\u001b[1;32m    408\u001b[0m             \u001b[0;32mraise\u001b[0m \u001b[0mTypeError\u001b[0m\u001b[0;34m(\u001b[0m\u001b[0;34m\"Cannot iterate over a scalar.\"\u001b[0m\u001b[0;34m)\u001b[0m\u001b[0;34m\u001b[0m\u001b[0;34m\u001b[0m\u001b[0m\n\u001b[1;32m    409\u001b[0m         \u001b[0;32mif\u001b[0m \u001b[0mshape\u001b[0m\u001b[0;34m[\u001b[0m\u001b[0;36m0\u001b[0m\u001b[0;34m]\u001b[0m \u001b[0;32mis\u001b[0m \u001b[0;32mNone\u001b[0m\u001b[0;34m:\u001b[0m\u001b[0;34m\u001b[0m\u001b[0;34m\u001b[0m\u001b[0m\n\u001b[0;32m--> 410\u001b[0;31m             raise TypeError(\n\u001b[0m\u001b[1;32m    411\u001b[0m                 \u001b[0;34m\"Cannot iterate over a Tensor with unknown first dimension.\"\u001b[0m\u001b[0;34m\u001b[0m\u001b[0;34m\u001b[0m\u001b[0m\n\u001b[1;32m    412\u001b[0m             )\n",
            "\u001b[0;31mTypeError\u001b[0m: Cannot iterate over a Tensor with unknown first dimension."
          ]
        }
      ]
    },
    {
      "cell_type": "code",
      "source": [
        "## BLEU, ROUGE score metrics function\n",
        "\n",
        "import nltk\n",
        "from nltk.translate.bleu_score import sentence_bleu\n",
        "from rouge import Rouge\n",
        "nltk.download('punkt')\n",
        "\n",
        "def calculate_bleu(references, candidates):\n",
        "  score = 0\n",
        "  for ref, cand in zip(references, candidates):\n",
        "    ref_tokens = nltk.word_tokenize(ref.lower())\n",
        "    cand_tokens = nltk.word_tokenize(cand.lower())\n",
        "    score += sentence_bleu([ref_tokens], cand_tokens, weights=(0.25, 0.25, 0.25, 0.25))\n",
        "\n",
        "  return score / len(candidates)\n",
        "\n",
        "def calculate_rouge(references, candidates):\n",
        "  rouge = Rouge()\n",
        "  scores = rouge.get_scores(candidates, references, avg=True)\n",
        "  return scores"
      ],
      "metadata": {
        "colab": {
          "base_uri": "https://localhost:8080/"
        },
        "id": "Jq8OaKtlmwVB",
        "outputId": "7d7d25ef-0997-4680-a41c-36ff3d5cd9dc"
      },
      "execution_count": 18,
      "outputs": [
        {
          "output_type": "stream",
          "name": "stderr",
          "text": [
            "[nltk_data] Downloading package punkt to /root/nltk_data...\n",
            "[nltk_data]   Unzipping tokenizers/punkt.zip.\n"
          ]
        }
      ]
    },
    {
      "cell_type": "code",
      "source": [
        "## 학습 준비: basic model compile"
      ],
      "metadata": {
        "id": "xHIyMZ2FKXSg"
      },
      "execution_count": null,
      "outputs": []
    },
    {
      "cell_type": "code",
      "source": [
        "model.compile(optimizer='adam', loss='categorical_crossentropy', metrics=['accuracy'])"
      ],
      "metadata": {
        "id": "S5IjW2z51QJN"
      },
      "execution_count": 19,
      "outputs": []
    },
    {
      "cell_type": "code",
      "source": [
        "## train basic model\n",
        "\n",
        "history_1 = model.fit([train_image_1, train_sequences_1], train_y_1,\\\n",
        "                      validation_data=([test_image_1, test_sequences_1], test_y_1),\\\n",
        "                      epochs=50, batch_size=32, verbose=1)"
      ],
      "metadata": {
        "id": "Um4bvCSX1QLj",
        "colab": {
          "base_uri": "https://localhost:8080/"
        },
        "outputId": "745166b0-9861-4ba0-a225-43374335bba5"
      },
      "execution_count": 20,
      "outputs": [
        {
          "output_type": "stream",
          "name": "stdout",
          "text": [
            "Epoch 1/50\n",
            "5/5 [==============================] - 38s 2s/step - loss: 2.1485 - accuracy: 0.0300 - val_loss: 2.1854 - val_accuracy: 0.0450\n",
            "Epoch 2/50\n",
            "5/5 [==============================] - 3s 541ms/step - loss: 1.9409 - accuracy: 0.0478 - val_loss: 2.0964 - val_accuracy: 0.0350\n",
            "Epoch 3/50\n",
            "5/5 [==============================] - 3s 545ms/step - loss: 1.8296 - accuracy: 0.0453 - val_loss: 2.0392 - val_accuracy: 0.0475\n",
            "Epoch 4/50\n",
            "5/5 [==============================] - 2s 448ms/step - loss: 1.7638 - accuracy: 0.0456 - val_loss: 2.0263 - val_accuracy: 0.0475\n",
            "Epoch 5/50\n",
            "5/5 [==============================] - 2s 438ms/step - loss: 1.7287 - accuracy: 0.0487 - val_loss: 2.0486 - val_accuracy: 0.0400\n",
            "Epoch 6/50\n",
            "5/5 [==============================] - 2s 463ms/step - loss: 1.7135 - accuracy: 0.0534 - val_loss: 1.9956 - val_accuracy: 0.0275\n",
            "Epoch 7/50\n",
            "5/5 [==============================] - 2s 512ms/step - loss: 1.7142 - accuracy: 0.0481 - val_loss: 1.9899 - val_accuracy: 0.0487\n",
            "Epoch 8/50\n",
            "5/5 [==============================] - 2s 519ms/step - loss: 1.7360 - accuracy: 0.0456 - val_loss: 2.1005 - val_accuracy: 0.0262\n",
            "Epoch 9/50\n",
            "5/5 [==============================] - 3s 570ms/step - loss: 1.8098 - accuracy: 0.0444 - val_loss: 2.1881 - val_accuracy: 0.0237\n",
            "Epoch 10/50\n",
            "5/5 [==============================] - 2s 458ms/step - loss: 1.8224 - accuracy: 0.0397 - val_loss: 2.1396 - val_accuracy: 0.0425\n",
            "Epoch 11/50\n",
            "5/5 [==============================] - 2s 454ms/step - loss: 1.8555 - accuracy: 0.0444 - val_loss: 2.3398 - val_accuracy: 0.0063\n",
            "Epoch 12/50\n",
            "5/5 [==============================] - 2s 513ms/step - loss: 1.8386 - accuracy: 0.0419 - val_loss: 2.3092 - val_accuracy: 0.0437\n",
            "Epoch 13/50\n",
            "5/5 [==============================] - 2s 499ms/step - loss: 1.8989 - accuracy: 0.0400 - val_loss: 2.3193 - val_accuracy: 0.0125\n",
            "Epoch 14/50\n",
            "5/5 [==============================] - 2s 498ms/step - loss: 1.9616 - accuracy: 0.0300 - val_loss: 2.3445 - val_accuracy: 0.0338\n",
            "Epoch 15/50\n",
            "5/5 [==============================] - 2s 524ms/step - loss: 1.9792 - accuracy: 0.0416 - val_loss: 2.4716 - val_accuracy: 0.0288\n",
            "Epoch 16/50\n",
            "5/5 [==============================] - 2s 506ms/step - loss: 2.2344 - accuracy: 0.0394 - val_loss: 2.8488 - val_accuracy: 0.0463\n",
            "Epoch 17/50\n",
            "5/5 [==============================] - 2s 506ms/step - loss: 2.7712 - accuracy: 0.0334 - val_loss: 3.5050 - val_accuracy: 0.0025\n",
            "Epoch 18/50\n",
            "5/5 [==============================] - 2s 452ms/step - loss: 3.1472 - accuracy: 0.0309 - val_loss: 4.2921 - val_accuracy: 0.0050\n",
            "Epoch 19/50\n",
            "5/5 [==============================] - 2s 500ms/step - loss: 3.9571 - accuracy: 0.0253 - val_loss: 5.1249 - val_accuracy: 0.0425\n",
            "Epoch 20/50\n",
            "5/5 [==============================] - 2s 448ms/step - loss: 4.9728 - accuracy: 0.0250 - val_loss: 6.6761 - val_accuracy: 0.0088\n",
            "Epoch 21/50\n",
            "5/5 [==============================] - 2s 519ms/step - loss: 6.0484 - accuracy: 0.0266 - val_loss: 9.5316 - val_accuracy: 0.0288\n",
            "Epoch 22/50\n",
            "5/5 [==============================] - 2s 520ms/step - loss: 8.7099 - accuracy: 0.0122 - val_loss: 11.3469 - val_accuracy: 0.0150\n",
            "Epoch 23/50\n",
            "5/5 [==============================] - 2s 496ms/step - loss: 10.3566 - accuracy: 0.0244 - val_loss: 11.5851 - val_accuracy: 0.0450\n",
            "Epoch 24/50\n",
            "5/5 [==============================] - 2s 444ms/step - loss: 13.8581 - accuracy: 0.0216 - val_loss: 15.0940 - val_accuracy: 0.0000e+00\n",
            "Epoch 25/50\n",
            "5/5 [==============================] - 2s 441ms/step - loss: 15.2791 - accuracy: 0.0106 - val_loss: 14.3220 - val_accuracy: 0.0000e+00\n",
            "Epoch 26/50\n",
            "5/5 [==============================] - 2s 491ms/step - loss: 14.9587 - accuracy: 0.0166 - val_loss: 14.8477 - val_accuracy: 0.0125\n",
            "Epoch 27/50\n",
            "5/5 [==============================] - 2s 492ms/step - loss: 16.7148 - accuracy: 0.0197 - val_loss: 20.4784 - val_accuracy: 0.0437\n",
            "Epoch 28/50\n",
            "5/5 [==============================] - 2s 465ms/step - loss: 21.2069 - accuracy: 0.0106 - val_loss: 22.4819 - val_accuracy: 0.0075\n",
            "Epoch 29/50\n",
            "5/5 [==============================] - 2s 519ms/step - loss: 21.2221 - accuracy: 0.0231 - val_loss: 22.1278 - val_accuracy: 0.0037\n",
            "Epoch 30/50\n",
            "5/5 [==============================] - 2s 440ms/step - loss: 23.9060 - accuracy: 0.0181 - val_loss: 25.7171 - val_accuracy: 0.0362\n",
            "Epoch 31/50\n",
            "5/5 [==============================] - 2s 438ms/step - loss: 29.3641 - accuracy: 0.0150 - val_loss: 31.8767 - val_accuracy: 0.0012\n",
            "Epoch 32/50\n",
            "5/5 [==============================] - 2s 490ms/step - loss: 32.8761 - accuracy: 0.0106 - val_loss: 31.8782 - val_accuracy: 0.0050\n",
            "Epoch 33/50\n",
            "5/5 [==============================] - 2s 436ms/step - loss: 31.1023 - accuracy: 0.0019 - val_loss: 28.3365 - val_accuracy: 0.0025\n",
            "Epoch 34/50\n",
            "5/5 [==============================] - 2s 496ms/step - loss: 28.5410 - accuracy: 0.0213 - val_loss: 30.3107 - val_accuracy: 0.0000e+00\n",
            "Epoch 35/50\n",
            "5/5 [==============================] - 2s 462ms/step - loss: 31.5401 - accuracy: 0.0228 - val_loss: 33.7447 - val_accuracy: 0.0025\n",
            "Epoch 36/50\n",
            "5/5 [==============================] - 2s 538ms/step - loss: 35.5702 - accuracy: 0.0019 - val_loss: 33.5266 - val_accuracy: 0.0012\n",
            "Epoch 37/50\n",
            "5/5 [==============================] - 2s 489ms/step - loss: 33.6411 - accuracy: 0.0113 - val_loss: 31.7366 - val_accuracy: 0.0037\n",
            "Epoch 38/50\n",
            "5/5 [==============================] - 2s 437ms/step - loss: 32.3739 - accuracy: 0.0191 - val_loss: 31.4520 - val_accuracy: 0.0037\n",
            "Epoch 39/50\n",
            "5/5 [==============================] - 2s 487ms/step - loss: 34.3210 - accuracy: 0.0188 - val_loss: 35.1428 - val_accuracy: 0.0088\n",
            "Epoch 40/50\n",
            "5/5 [==============================] - 2s 439ms/step - loss: 35.3707 - accuracy: 0.0037 - val_loss: 34.8859 - val_accuracy: 0.0500\n",
            "Epoch 41/50\n",
            "5/5 [==============================] - 2s 505ms/step - loss: 36.0920 - accuracy: 0.0291 - val_loss: 40.3136 - val_accuracy: 0.0000e+00\n",
            "Epoch 42/50\n",
            "5/5 [==============================] - 2s 469ms/step - loss: 40.7243 - accuracy: 0.0103 - val_loss: 42.8795 - val_accuracy: 0.0288\n",
            "Epoch 43/50\n",
            "5/5 [==============================] - 2s 492ms/step - loss: 42.8019 - accuracy: 0.0056 - val_loss: 41.4691 - val_accuracy: 0.0500\n",
            "Epoch 44/50\n",
            "5/5 [==============================] - 2s 438ms/step - loss: 40.2288 - accuracy: 0.0206 - val_loss: 39.5253 - val_accuracy: 0.0037\n",
            "Epoch 45/50\n",
            "5/5 [==============================] - 2s 490ms/step - loss: 41.4533 - accuracy: 0.0203 - val_loss: 45.6743 - val_accuracy: 0.0000e+00\n",
            "Epoch 46/50\n",
            "5/5 [==============================] - 2s 437ms/step - loss: 41.8043 - accuracy: 0.0028 - val_loss: 42.3493 - val_accuracy: 0.0500\n",
            "Epoch 47/50\n",
            "5/5 [==============================] - 2s 494ms/step - loss: 41.6654 - accuracy: 0.0209 - val_loss: 44.4743 - val_accuracy: 0.0037\n",
            "Epoch 48/50\n",
            "5/5 [==============================] - 2s 469ms/step - loss: 44.2051 - accuracy: 0.0125 - val_loss: 43.6476 - val_accuracy: 0.0075\n",
            "Epoch 49/50\n",
            "5/5 [==============================] - 2s 464ms/step - loss: 46.6694 - accuracy: 0.0162 - val_loss: 48.8118 - val_accuracy: 0.0000e+00\n",
            "Epoch 50/50\n",
            "5/5 [==============================] - 2s 496ms/step - loss: 48.8121 - accuracy: 0.0119 - val_loss: 46.4043 - val_accuracy: 0.0500\n"
          ]
        }
      ]
    },
    {
      "cell_type": "code",
      "source": [
        "print(\"eager execution: \", tf.executing_eagerly())"
      ],
      "metadata": {
        "colab": {
          "base_uri": "https://localhost:8080/"
        },
        "id": "-fTh5dcWExjk",
        "outputId": "5da6ea57-627a-49dd-9e72-213cfee8048a"
      },
      "execution_count": 37,
      "outputs": [
        {
          "output_type": "stream",
          "name": "stdout",
          "text": [
            "eager execution:  True\n"
          ]
        }
      ]
    },
    {
      "cell_type": "code",
      "source": [
        "print(max_sequence_length)"
      ],
      "metadata": {
        "colab": {
          "base_uri": "https://localhost:8080/"
        },
        "id": "G8FGbeBrXeqU",
        "outputId": "89f707ba-53d8-4789-ec40-215a9fc357fa"
      },
      "execution_count": 57,
      "outputs": [
        {
          "output_type": "stream",
          "name": "stdout",
          "text": [
            "21\n"
          ]
        }
      ]
    },
    {
      "cell_type": "code",
      "source": [
        "## model2: (cross)attention + self_attention\n",
        "\n",
        "def create_model(vocab_size, lstm_units, max_sequence_length):\n",
        "\n",
        "  inception_resnet_model = InceptionResNetV2(include_top=False,\\\n",
        "                                            weights='imagenet',\\\n",
        "                                            pooling='avg')\n",
        "  inception_resnet_model.trainable = False\n",
        "\n",
        "  image_input = Input(shape=(299,299,3))\n",
        "  image_features = inception_resnet_model(image_input)\n",
        "\n",
        "  sequence_input = Input(shape=(max_sequence_length,))\n",
        "\n",
        "  embedding = Embedding(input_dim=vocab_size,\\\n",
        "                        output_dim=256, mask_zero=True)(sequence_input)\n",
        "\n",
        "  bidirectional_lstm = Bidirectional(LSTM(lstm_units, return_sequences=True))\n",
        "\n",
        "  lstm_output = bidirectional_lstm(embedding)\n",
        "\n",
        "  dropout = Dropout(0.5)\n",
        "  lstm_output = dropout(lstm_output)\n",
        "\n",
        "  second_lstm = LSTM(lstm_units,\\\n",
        "                    return_sequences=True,\\\n",
        "                    return_state=True)\n",
        "  lstm_output, _, _ = second_lstm(lstm_output)\n",
        "\n",
        "  image_features_dense = Dense(lstm_units)(image_features)\n",
        "  image_features_dense = Reshape((1, lstm_units))(image_features_dense)\n",
        "  image_features_dense = Lambda(lambda x: tf.tile(x, [1, max_sequence_length, 1]))(image_features_dense)\n",
        "\n",
        "  print(\"LSTM output shape: \", lstm_output.shape)\n",
        "  print(\"image feature shape: \", image_features_dense.shape)\n",
        "\n",
        "  attention = AdditiveAttention()\n",
        "  context_vector, attention_weights = attention([lstm_output, image_features_dense], return_attention_scores=True)\n",
        "\n",
        "  self_attention = MultiHeadAttention(num_heads=8, key_dim=lstm_units)\n",
        "  self_attention_output = self_attention(query=lstm_output, value=lstm_output, key=lstm_output)\n",
        "\n",
        "  combined_attention_output = tf.keras.layers.Concatenate(axis=-1)([context_vector, self_attention_output])\n",
        "\n",
        "  dense = Dense(vocab_size, activation='softmax')\n",
        "  output = dense(combined_attention_output)\n",
        "\n",
        "  return Model(inputs=[image_input, sequence_input], outputs=output)\n",
        "\n",
        "\n",
        "model_2 = create_model(vocab_size, 256, max_sequence_length)\n",
        "initial_weights = model_2.get_weights()\n",
        "model_2.summary()"
      ],
      "metadata": {
        "id": "XfgspeqbQWik",
        "colab": {
          "base_uri": "https://localhost:8080/"
        },
        "outputId": "9ea65fa1-6b3d-47f2-a51e-f839e3cabc85"
      },
      "execution_count": 99,
      "outputs": [
        {
          "output_type": "stream",
          "name": "stdout",
          "text": [
            "LSTM output shape:  (None, 20, 256)\n",
            "image feature shape:  (None, 20, 256)\n",
            "Model: \"model_5\"\n",
            "__________________________________________________________________________________________________\n",
            " Layer (type)                Output Shape                 Param #   Connected to                  \n",
            "==================================================================================================\n",
            " input_45 (InputLayer)       [(None, 20)]                 0         []                            \n",
            "                                                                                                  \n",
            " input_44 (InputLayer)       [(None, 299, 299, 3)]        0         []                            \n",
            "                                                                                                  \n",
            " embedding_14 (Embedding)    (None, 20, 256)              69888     ['input_45[0][0]']            \n",
            "                                                                                                  \n",
            " inception_resnet_v2 (Funct  (None, 1536)                 5433673   ['input_44[0][0]']            \n",
            " ional)                                                   6                                       \n",
            "                                                                                                  \n",
            " bidirectional_14 (Bidirect  (None, 20, 512)              1050624   ['embedding_14[0][0]']        \n",
            " ional)                                                                                           \n",
            "                                                                                                  \n",
            " dense_19 (Dense)            (None, 256)                  393472    ['inception_resnet_v2[0][0]'] \n",
            "                                                                                                  \n",
            " dropout_14 (Dropout)        (None, 20, 512)              0         ['bidirectional_14[0][0]']    \n",
            "                                                                                                  \n",
            " reshape_3 (Reshape)         (None, 1, 256)               0         ['dense_19[0][0]']            \n",
            "                                                                                                  \n",
            " lstm_29 (LSTM)              [(None, 20, 256),            787456    ['dropout_14[0][0]']          \n",
            "                              (None, 256),                                                        \n",
            "                              (None, 256)]                                                        \n",
            "                                                                                                  \n",
            " lambda_11 (Lambda)          (None, 20, 256)              0         ['reshape_3[0][0]']           \n",
            "                                                                                                  \n",
            " additive_attention_14 (Add  ((None, 20, 256),            256       ['lstm_29[0][0]',             \n",
            " itiveAttention)              (None, 20, 20))                        'lambda_11[0][0]']           \n",
            "                                                                                                  \n",
            " multi_head_attention_5 (Mu  (None, 20, 256)              2103552   ['lstm_29[0][0]',             \n",
            " ltiHeadAttention)                                                   'lstm_29[0][0]',             \n",
            "                                                                     'lstm_29[0][0]']             \n",
            "                                                                                                  \n",
            " concatenate_4 (Concatenate  (None, 20, 512)              0         ['additive_attention_14[0][0]'\n",
            " )                                                                  , 'multi_head_attention_5[0][0\n",
            "                                                                    ]']                           \n",
            "                                                                                                  \n",
            " dense_20 (Dense)            (None, 20, 273)              140049    ['concatenate_4[0][0]']       \n",
            "                                                                                                  \n",
            "==================================================================================================\n",
            "Total params: 58882033 (224.62 MB)\n",
            "Trainable params: 4545297 (17.34 MB)\n",
            "Non-trainable params: 54336736 (207.28 MB)\n",
            "__________________________________________________________________________________________________\n"
          ]
        }
      ]
    },
    {
      "cell_type": "code",
      "source": [
        "model_2.compile(optimizer='adam', loss='categorical_crossentropy', metrics=['accuracy'])"
      ],
      "metadata": {
        "id": "4KFzS0lh10W-"
      },
      "execution_count": 100,
      "outputs": []
    },
    {
      "cell_type": "code",
      "source": [
        "print(max_sequence_length)\n",
        "print(train_sequences_1.shape)\n",
        "print(test_sequences_1.shape)"
      ],
      "metadata": {
        "colab": {
          "base_uri": "https://localhost:8080/"
        },
        "id": "Z5q1-mxYk-5G",
        "outputId": "036273d9-71fc-4d54-e368-a10595c30c29"
      },
      "execution_count": 101,
      "outputs": [
        {
          "output_type": "stream",
          "name": "stdout",
          "text": [
            "20\n",
            "(160, 20)\n",
            "(40, 20)\n"
          ]
        }
      ]
    },
    {
      "cell_type": "code",
      "source": [
        "## train model_2\n",
        "\n",
        "history_2 = model_2.fit([train_image_1, train_sequences_1], train_y_1,\\\n",
        "                      validation_data=([test_image_1, test_sequences_1], test_y_1),\\\n",
        "                      epochs=30, batch_size=32, verbose=1)"
      ],
      "metadata": {
        "colab": {
          "base_uri": "https://localhost:8080/"
        },
        "id": "NZTlng9i11BS",
        "outputId": "d638e0b2-d0aa-44a2-de65-1738f4f32089"
      },
      "execution_count": 102,
      "outputs": [
        {
          "output_type": "stream",
          "name": "stdout",
          "text": [
            "Epoch 1/30\n",
            "5/5 [==============================] - 40s 3s/step - loss: 4.9249 - accuracy: 0.0731 - val_loss: 4.8364 - val_accuracy: 0.0990\n",
            "Epoch 2/30\n",
            "5/5 [==============================] - 3s 594ms/step - loss: 4.3205 - accuracy: 0.0918 - val_loss: 4.4195 - val_accuracy: 0.0965\n",
            "Epoch 3/30\n",
            "5/5 [==============================] - 3s 654ms/step - loss: 4.0751 - accuracy: 0.1067 - val_loss: 4.3722 - val_accuracy: 0.0990\n",
            "Epoch 4/30\n",
            "5/5 [==============================] - 3s 642ms/step - loss: 3.9378 - accuracy: 0.1151 - val_loss: 4.2627 - val_accuracy: 0.1163\n",
            "Epoch 5/30\n",
            "5/5 [==============================] - 2s 498ms/step - loss: 3.7575 - accuracy: 0.1164 - val_loss: 4.2981 - val_accuracy: 0.1015\n",
            "Epoch 6/30\n",
            "5/5 [==============================] - 2s 499ms/step - loss: 3.6082 - accuracy: 0.1216 - val_loss: 4.2519 - val_accuracy: 0.1089\n",
            "Epoch 7/30\n",
            "5/5 [==============================] - 3s 550ms/step - loss: 3.4814 - accuracy: 0.1138 - val_loss: 4.1783 - val_accuracy: 0.1213\n",
            "Epoch 8/30\n",
            "5/5 [==============================] - 2s 527ms/step - loss: 3.3513 - accuracy: 0.1132 - val_loss: 4.0988 - val_accuracy: 0.1114\n",
            "Epoch 9/30\n",
            "5/5 [==============================] - 3s 567ms/step - loss: 3.2142 - accuracy: 0.1216 - val_loss: 4.1010 - val_accuracy: 0.1114\n",
            "Epoch 10/30\n",
            "5/5 [==============================] - 3s 561ms/step - loss: 3.1003 - accuracy: 0.1229 - val_loss: 4.0603 - val_accuracy: 0.1163\n",
            "Epoch 11/30\n",
            "5/5 [==============================] - 2s 511ms/step - loss: 2.9864 - accuracy: 0.1229 - val_loss: 4.1043 - val_accuracy: 0.1287\n",
            "Epoch 12/30\n",
            "5/5 [==============================] - 2s 508ms/step - loss: 2.9020 - accuracy: 0.1242 - val_loss: 4.1320 - val_accuracy: 0.1213\n",
            "Epoch 13/30\n",
            "5/5 [==============================] - 2s 462ms/step - loss: 2.8079 - accuracy: 0.1216 - val_loss: 4.1327 - val_accuracy: 0.1262\n",
            "Epoch 14/30\n",
            "5/5 [==============================] - 2s 507ms/step - loss: 2.7405 - accuracy: 0.1248 - val_loss: 4.1685 - val_accuracy: 0.1213\n",
            "Epoch 15/30\n",
            "5/5 [==============================] - 3s 544ms/step - loss: 2.6635 - accuracy: 0.1268 - val_loss: 4.2207 - val_accuracy: 0.1238\n",
            "Epoch 16/30\n",
            "5/5 [==============================] - 3s 602ms/step - loss: 2.6041 - accuracy: 0.1274 - val_loss: 4.2700 - val_accuracy: 0.1287\n",
            "Epoch 17/30\n",
            "5/5 [==============================] - 3s 537ms/step - loss: 2.5542 - accuracy: 0.1378 - val_loss: 4.2537 - val_accuracy: 0.1386\n",
            "Epoch 18/30\n",
            "5/5 [==============================] - 2s 512ms/step - loss: 2.4713 - accuracy: 0.1643 - val_loss: 4.2153 - val_accuracy: 0.1485\n",
            "Epoch 19/30\n",
            "5/5 [==============================] - 2s 471ms/step - loss: 2.3385 - accuracy: 0.1934 - val_loss: 4.0792 - val_accuracy: 0.2054\n",
            "Epoch 20/30\n",
            "5/5 [==============================] - 3s 541ms/step - loss: 2.2158 - accuracy: 0.2536 - val_loss: 3.9247 - val_accuracy: 0.2178\n",
            "Epoch 21/30\n",
            "5/5 [==============================] - 3s 543ms/step - loss: 1.9830 - accuracy: 0.3176 - val_loss: 3.5983 - val_accuracy: 0.3069\n",
            "Epoch 22/30\n",
            "5/5 [==============================] - 3s 546ms/step - loss: 1.6888 - accuracy: 0.4457 - val_loss: 3.4074 - val_accuracy: 0.4010\n",
            "Epoch 23/30\n",
            "5/5 [==============================] - 2s 515ms/step - loss: 1.4339 - accuracy: 0.5175 - val_loss: 3.2583 - val_accuracy: 0.4703\n",
            "Epoch 24/30\n",
            "5/5 [==============================] - 2s 460ms/step - loss: 1.1698 - accuracy: 0.6326 - val_loss: 3.1470 - val_accuracy: 0.5099\n",
            "Epoch 25/30\n",
            "5/5 [==============================] - 2s 459ms/step - loss: 1.0074 - accuracy: 0.6908 - val_loss: 3.0082 - val_accuracy: 0.5396\n",
            "Epoch 26/30\n",
            "5/5 [==============================] - 2s 516ms/step - loss: 0.8585 - accuracy: 0.7354 - val_loss: 3.0590 - val_accuracy: 0.5619\n",
            "Epoch 27/30\n",
            "5/5 [==============================] - 2s 472ms/step - loss: 0.7397 - accuracy: 0.7620 - val_loss: 3.1899 - val_accuracy: 0.5718\n",
            "Epoch 28/30\n",
            "5/5 [==============================] - 3s 542ms/step - loss: 0.6896 - accuracy: 0.7788 - val_loss: 3.0030 - val_accuracy: 0.5718\n",
            "Epoch 29/30\n",
            "5/5 [==============================] - 2s 478ms/step - loss: 0.6350 - accuracy: 0.7943 - val_loss: 3.0233 - val_accuracy: 0.5866\n",
            "Epoch 30/30\n",
            "5/5 [==============================] - 2s 526ms/step - loss: 0.5848 - accuracy: 0.8027 - val_loss: 3.2410 - val_accuracy: 0.5792\n"
          ]
        }
      ]
    },
    {
      "cell_type": "code",
      "source": [
        "## train model_2_2: 원-핫 인코딩 대신 정수형 인코딩 y데이터로 훈련\n",
        "initial_weights = model_2.get_weights()\n",
        "model_2.set_weights(initial_weights)\n",
        "model_2.compile(optimizer='adam', loss='sparse_categorical_crossentropy', metrics=['accuracy'])"
      ],
      "metadata": {
        "id": "uiSLxaUS5nZz"
      },
      "execution_count": 28,
      "outputs": []
    },
    {
      "cell_type": "code",
      "source": [
        "history_2 = model_2.fit([train_image_2, train_sequences_2], train_y_2,\\\n",
        "                      validation_data=([test_image_2, test_sequences_2], test_y_2),\\\n",
        "                      epochs=20, batch_size=32, verbose=1)"
      ],
      "metadata": {
        "colab": {
          "base_uri": "https://localhost:8080/",
          "height": 873
        },
        "id": "EP44hFK_5rta",
        "outputId": "a078d5c2-261b-4b44-d86b-7217b2c6599a"
      },
      "execution_count": 29,
      "outputs": [
        {
          "output_type": "stream",
          "name": "stdout",
          "text": [
            "Epoch 1/20\n",
            "5/5 [==============================] - ETA: 0s - loss: 170.3589 - accuracy: 0.0091"
          ]
        },
        {
          "output_type": "error",
          "ename": "ValueError",
          "evalue": "in user code:\n\n    File \"/usr/local/lib/python3.10/dist-packages/keras/src/engine/training.py\", line 2066, in test_function  *\n        return step_function(self, iterator)\n    File \"/usr/local/lib/python3.10/dist-packages/keras/src/engine/training.py\", line 2049, in step_function  **\n        outputs = model.distribute_strategy.run(run_step, args=(data,))\n    File \"/usr/local/lib/python3.10/dist-packages/keras/src/engine/training.py\", line 2037, in run_step  **\n        outputs = model.test_step(data)\n    File \"/usr/local/lib/python3.10/dist-packages/keras/src/engine/training.py\", line 1920, in test_step\n        return self.compute_metrics(x, y, y_pred, sample_weight)\n    File \"/usr/local/lib/python3.10/dist-packages/keras/src/engine/training.py\", line 1249, in compute_metrics\n        self.compiled_metrics.update_state(y, y_pred, sample_weight)\n    File \"/usr/local/lib/python3.10/dist-packages/keras/src/engine/compile_utils.py\", line 620, in update_state\n        metric_obj.update_state(y_t, y_p, sample_weight=mask)\n    File \"/usr/local/lib/python3.10/dist-packages/keras/src/utils/metrics_utils.py\", line 77, in decorated\n        result = update_state_fn(*args, **kwargs)\n    File \"/usr/local/lib/python3.10/dist-packages/keras/src/metrics/base_metric.py\", line 140, in update_state_fn\n        return ag_update_state(*args, **kwargs)\n    File \"/usr/local/lib/python3.10/dist-packages/keras/src/metrics/base_metric.py\", line 723, in update_state  **\n        matches = ag_fn(y_true, y_pred, **self._fn_kwargs)\n    File \"/usr/local/lib/python3.10/dist-packages/keras/src/metrics/accuracy_metrics.py\", line 459, in sparse_categorical_accuracy\n        matches = metrics_utils.sparse_categorical_matches(y_true, y_pred)\n    File \"/usr/local/lib/python3.10/dist-packages/keras/src/utils/metrics_utils.py\", line 961, in sparse_categorical_matches\n        y_true = tf.squeeze(y_true, [-1])\n\n    ValueError: Can not squeeze dim[2], expected a dimension of 1, got 273 for '{{node Squeeze}} = Squeeze[T=DT_FLOAT, squeeze_dims=[-1]](IteratorGetNext:2)' with input shapes: [?,20,273].\n",
          "traceback": [
            "\u001b[0;31m---------------------------------------------------------------------------\u001b[0m",
            "\u001b[0;31mValueError\u001b[0m                                Traceback (most recent call last)",
            "\u001b[0;32m<ipython-input-29-39ffd0774cd1>\u001b[0m in \u001b[0;36m<cell line: 1>\u001b[0;34m()\u001b[0m\n\u001b[0;32m----> 1\u001b[0;31m history_2 = model_2.fit([train_image_2, train_sequences_2], train_y_2,\\\n\u001b[0m\u001b[1;32m      2\u001b[0m                       \u001b[0mvalidation_data\u001b[0m\u001b[0;34m=\u001b[0m\u001b[0;34m(\u001b[0m\u001b[0;34m[\u001b[0m\u001b[0mtest_image_2\u001b[0m\u001b[0;34m,\u001b[0m \u001b[0mtest_sequences_2\u001b[0m\u001b[0;34m]\u001b[0m\u001b[0;34m,\u001b[0m \u001b[0mtest_y_2\u001b[0m\u001b[0;34m)\u001b[0m\u001b[0;34m,\u001b[0m\u001b[0;31m\\\u001b[0m\u001b[0;34m\u001b[0m\u001b[0;34m\u001b[0m\u001b[0m\n\u001b[1;32m      3\u001b[0m                       epochs=20, batch_size=32, verbose=1)\n",
            "\u001b[0;32m/usr/local/lib/python3.10/dist-packages/keras/src/utils/traceback_utils.py\u001b[0m in \u001b[0;36merror_handler\u001b[0;34m(*args, **kwargs)\u001b[0m\n\u001b[1;32m     68\u001b[0m             \u001b[0;31m# To get the full stack trace, call:\u001b[0m\u001b[0;34m\u001b[0m\u001b[0;34m\u001b[0m\u001b[0m\n\u001b[1;32m     69\u001b[0m             \u001b[0;31m# `tf.debugging.disable_traceback_filtering()`\u001b[0m\u001b[0;34m\u001b[0m\u001b[0;34m\u001b[0m\u001b[0m\n\u001b[0;32m---> 70\u001b[0;31m             \u001b[0;32mraise\u001b[0m \u001b[0me\u001b[0m\u001b[0;34m.\u001b[0m\u001b[0mwith_traceback\u001b[0m\u001b[0;34m(\u001b[0m\u001b[0mfiltered_tb\u001b[0m\u001b[0;34m)\u001b[0m \u001b[0;32mfrom\u001b[0m \u001b[0;32mNone\u001b[0m\u001b[0;34m\u001b[0m\u001b[0;34m\u001b[0m\u001b[0m\n\u001b[0m\u001b[1;32m     71\u001b[0m         \u001b[0;32mfinally\u001b[0m\u001b[0;34m:\u001b[0m\u001b[0;34m\u001b[0m\u001b[0;34m\u001b[0m\u001b[0m\n\u001b[1;32m     72\u001b[0m             \u001b[0;32mdel\u001b[0m \u001b[0mfiltered_tb\u001b[0m\u001b[0;34m\u001b[0m\u001b[0;34m\u001b[0m\u001b[0m\n",
            "\u001b[0;32m/usr/local/lib/python3.10/dist-packages/keras/src/engine/training.py\u001b[0m in \u001b[0;36mtf__test_function\u001b[0;34m(iterator)\u001b[0m\n\u001b[1;32m     13\u001b[0m                 \u001b[0;32mtry\u001b[0m\u001b[0;34m:\u001b[0m\u001b[0;34m\u001b[0m\u001b[0;34m\u001b[0m\u001b[0m\n\u001b[1;32m     14\u001b[0m                     \u001b[0mdo_return\u001b[0m \u001b[0;34m=\u001b[0m \u001b[0;32mTrue\u001b[0m\u001b[0;34m\u001b[0m\u001b[0;34m\u001b[0m\u001b[0m\n\u001b[0;32m---> 15\u001b[0;31m                     \u001b[0mretval_\u001b[0m \u001b[0;34m=\u001b[0m \u001b[0mag__\u001b[0m\u001b[0;34m.\u001b[0m\u001b[0mconverted_call\u001b[0m\u001b[0;34m(\u001b[0m\u001b[0mag__\u001b[0m\u001b[0;34m.\u001b[0m\u001b[0mld\u001b[0m\u001b[0;34m(\u001b[0m\u001b[0mstep_function\u001b[0m\u001b[0;34m)\u001b[0m\u001b[0;34m,\u001b[0m \u001b[0;34m(\u001b[0m\u001b[0mag__\u001b[0m\u001b[0;34m.\u001b[0m\u001b[0mld\u001b[0m\u001b[0;34m(\u001b[0m\u001b[0mself\u001b[0m\u001b[0;34m)\u001b[0m\u001b[0;34m,\u001b[0m \u001b[0mag__\u001b[0m\u001b[0;34m.\u001b[0m\u001b[0mld\u001b[0m\u001b[0;34m(\u001b[0m\u001b[0miterator\u001b[0m\u001b[0;34m)\u001b[0m\u001b[0;34m)\u001b[0m\u001b[0;34m,\u001b[0m \u001b[0;32mNone\u001b[0m\u001b[0;34m,\u001b[0m \u001b[0mfscope\u001b[0m\u001b[0;34m)\u001b[0m\u001b[0;34m\u001b[0m\u001b[0;34m\u001b[0m\u001b[0m\n\u001b[0m\u001b[1;32m     16\u001b[0m                 \u001b[0;32mexcept\u001b[0m\u001b[0;34m:\u001b[0m\u001b[0;34m\u001b[0m\u001b[0;34m\u001b[0m\u001b[0m\n\u001b[1;32m     17\u001b[0m                     \u001b[0mdo_return\u001b[0m \u001b[0;34m=\u001b[0m \u001b[0;32mFalse\u001b[0m\u001b[0;34m\u001b[0m\u001b[0;34m\u001b[0m\u001b[0m\n",
            "\u001b[0;31mValueError\u001b[0m: in user code:\n\n    File \"/usr/local/lib/python3.10/dist-packages/keras/src/engine/training.py\", line 2066, in test_function  *\n        return step_function(self, iterator)\n    File \"/usr/local/lib/python3.10/dist-packages/keras/src/engine/training.py\", line 2049, in step_function  **\n        outputs = model.distribute_strategy.run(run_step, args=(data,))\n    File \"/usr/local/lib/python3.10/dist-packages/keras/src/engine/training.py\", line 2037, in run_step  **\n        outputs = model.test_step(data)\n    File \"/usr/local/lib/python3.10/dist-packages/keras/src/engine/training.py\", line 1920, in test_step\n        return self.compute_metrics(x, y, y_pred, sample_weight)\n    File \"/usr/local/lib/python3.10/dist-packages/keras/src/engine/training.py\", line 1249, in compute_metrics\n        self.compiled_metrics.update_state(y, y_pred, sample_weight)\n    File \"/usr/local/lib/python3.10/dist-packages/keras/src/engine/compile_utils.py\", line 620, in update_state\n        metric_obj.update_state(y_t, y_p, sample_weight=mask)\n    File \"/usr/local/lib/python3.10/dist-packages/keras/src/utils/metrics_utils.py\", line 77, in decorated\n        result = update_state_fn(*args, **kwargs)\n    File \"/usr/local/lib/python3.10/dist-packages/keras/src/metrics/base_metric.py\", line 140, in update_state_fn\n        return ag_update_state(*args, **kwargs)\n    File \"/usr/local/lib/python3.10/dist-packages/keras/src/metrics/base_metric.py\", line 723, in update_state  **\n        matches = ag_fn(y_true, y_pred, **self._fn_kwargs)\n    File \"/usr/local/lib/python3.10/dist-packages/keras/src/metrics/accuracy_metrics.py\", line 459, in sparse_categorical_accuracy\n        matches = metrics_utils.sparse_categorical_matches(y_true, y_pred)\n    File \"/usr/local/lib/python3.10/dist-packages/keras/src/utils/metrics_utils.py\", line 961, in sparse_categorical_matches\n        y_true = tf.squeeze(y_true, [-1])\n\n    ValueError: Can not squeeze dim[2], expected a dimension of 1, got 273 for '{{node Squeeze}} = Squeeze[T=DT_FLOAT, squeeze_dims=[-1]](IteratorGetNext:2)' with input shapes: [?,20,273].\n"
          ]
        }
      ]
    },
    {
      "cell_type": "code",
      "source": [
        "## 1차 훈련 결과 해석\n",
        "  ## loss값은 처음에는 3.6이라는 높은 수치였다가, 학습 횟수를 반복할수록 감소가 됨(최종 0.1754)\n",
        "  ## accuracy값은 처음에는 0.5대였다가 마지막에는 0.945로 지속적 증가\n",
        "  ## val_loss값은 처음에는 2.9이고 학습이 진행될수록 감소하면서 20회차에 1.6으로 최소값, 이후 다시 증가하면서 50회차에는 2.29로 종료\n",
        "    ## 왜 높게 나왔냐? 과적합 가능성이 큼; 현재는 200개 데이터로만 학습을 진행하였으므로, 학습 데이터에 과적합이 발생하여 검증 데이터를 제대로 예측하지 못했을 가능성이 큼\n",
        "    ## 문장을 예측하는 모델들에서는 일반적으로 val_loss값이 비교적 클 수 밖에 없음. 라벨 1개 값만 예측하는 것이 아니기 때문에, 5개중에 2~3개는 제대로 예측했어도, 나머지 값을 예측실패하면 val_loss값이 커지므로, 애초에 불리한 구조\n",
        "    ## 텍스트 생성 모델의 경우에는 BLEU 또는 ROUGE 점수를 산출하여 metrics로 사용하는 것을 추천함"
      ],
      "metadata": {
        "id": "-W_xAHzmQWq3"
      },
      "execution_count": null,
      "outputs": []
    },
    {
      "cell_type": "code",
      "source": [
        "## BLEU, ROUGE score check\n",
        "\n",
        "predicted_sequences = model.predict([test_image_1, test_sequences_1])"
      ],
      "metadata": {
        "colab": {
          "base_uri": "https://localhost:8080/"
        },
        "id": "1XlG2dSvoVtm",
        "outputId": "efd9b0f8-5893-4190-90a8-b0f5fc358118"
      },
      "execution_count": null,
      "outputs": [
        {
          "output_type": "stream",
          "name": "stdout",
          "text": [
            "2/2 [==============================] - 6s 101ms/step\n"
          ]
        }
      ]
    },
    {
      "cell_type": "code",
      "source": [
        "index_to_word = {index: word for word, index in tokenizer.word_index.items()}\n",
        "\n",
        "def sequences_to_text(sequences):\n",
        "  text_output = []\n",
        "  for sequence in sequences:\n",
        "    sequence_text = []\n",
        "    for word_idx in sequences:\n",
        "      max_idx = np.argmax(word_idx)\n",
        "      sequence_text.append(index_to_word.get(max_idx, ''))\n",
        "    text_output.append(' '.join(sequence_text))\n",
        "  return text_output\n",
        "\n",
        "predicted_texts = sequences_to_text(predicted_sequences)"
      ],
      "metadata": {
        "id": "i69DEzVkpAhY"
      },
      "execution_count": null,
      "outputs": []
    },
    {
      "cell_type": "code",
      "source": [
        "## 원-핫 인코딩된 텍스트를 다시 문장으로 변환 function\n",
        "\n",
        "def one_hot_to_text(one_hot_sequences, index_to_word):\n",
        "  text_output = []\n",
        "  for sequence in one_hot_sequences:\n",
        "    sequence_text = []\n",
        "    for word_vec in sequence:\n",
        "      max_idx = np.argmax(word_vec)\n",
        "      word = index_to_word.get(max_idx, '')\n",
        "      if word:\n",
        "        sequence_text.append(word)\n",
        "    text_output.append(' '.join(sequence_text))\n",
        "  return text_output"
      ],
      "metadata": {
        "id": "owkFKlerrOs-"
      },
      "execution_count": null,
      "outputs": []
    },
    {
      "cell_type": "code",
      "source": [
        "test_y_texts = one_hot_to_text(test_y_1, index_to_word)\n",
        "\n",
        "bleu_score = calculate_bleu(test_y_texts, predicted_texts)\n",
        "rouge_score = calculate_rouge(test_y_texts, predicted_texts)\n",
        "\n",
        "print(\"BLEU Score: \", bleu_score)\n",
        "print(\"ROUGE Score: \", rouge_score)"
      ],
      "metadata": {
        "colab": {
          "base_uri": "https://localhost:8080/"
        },
        "id": "YlN5XFc0pAjs",
        "outputId": "f4bc46fd-42bb-4a77-d505-652e8fbcdf33"
      },
      "execution_count": null,
      "outputs": [
        {
          "output_type": "stream",
          "name": "stdout",
          "text": [
            "BLEU Score:  2.578518641947444e-233\n",
            "ROUGE Score:  {'rouge-1': {'r': 0.09896915584415586, 'p': 0.575, 'f': 0.16495962232847056}, 'rouge-2': {'r': 0.0, 'p': 0.0, 'f': 0.0}, 'rouge-l': {'r': 0.09896915584415586, 'p': 0.575, 'f': 0.16495962232847056}}\n"
          ]
        },
        {
          "output_type": "stream",
          "name": "stderr",
          "text": [
            "/usr/local/lib/python3.10/dist-packages/nltk/translate/bleu_score.py:552: UserWarning: \n",
            "The hypothesis contains 0 counts of 2-gram overlaps.\n",
            "Therefore the BLEU score evaluates to 0, independently of\n",
            "how many N-gram overlaps of lower order it contains.\n",
            "Consider using lower n-gram order or use SmoothingFunction()\n",
            "  warnings.warn(_msg)\n",
            "/usr/local/lib/python3.10/dist-packages/nltk/translate/bleu_score.py:552: UserWarning: \n",
            "The hypothesis contains 0 counts of 3-gram overlaps.\n",
            "Therefore the BLEU score evaluates to 0, independently of\n",
            "how many N-gram overlaps of lower order it contains.\n",
            "Consider using lower n-gram order or use SmoothingFunction()\n",
            "  warnings.warn(_msg)\n",
            "/usr/local/lib/python3.10/dist-packages/nltk/translate/bleu_score.py:552: UserWarning: \n",
            "The hypothesis contains 0 counts of 4-gram overlaps.\n",
            "Therefore the BLEU score evaluates to 0, independently of\n",
            "how many N-gram overlaps of lower order it contains.\n",
            "Consider using lower n-gram order or use SmoothingFunction()\n",
            "  warnings.warn(_msg)\n"
          ]
        }
      ]
    },
    {
      "cell_type": "code",
      "source": [
        "print(test_y_texts)"
      ],
      "metadata": {
        "colab": {
          "base_uri": "https://localhost:8080/"
        },
        "id": "ANsoFIgypAmb",
        "outputId": "096637ac-5fa5-4520-9649-f9007591458b"
      },
      "execution_count": null,
      "outputs": [
        {
          "output_type": "stream",
          "name": "stdout",
          "text": [
            "['man is looking at the blue doll on the red table', 'girl has just left the electric scooter', 'man is cutting the eggplant', 'woman is holding a egg plant', 'woman is playing with a ball', 'man is cooking', 'man lying on a bench is reading a book', 'woman is holding a book', 'are playing billiards', 'man is looking at billiard balls', 'girl prepares to catch the baseball with her left hand which is held in her right hand', 'man is searching in a bag', 'man is riding a electric scooter', 'man is sitting outdoors in a chair and using a portable fan', 'woman is holding a fan', 'woman is playing with a baseball', 'man is holding a big doll and looking at it', 'man is cooking', 'man is looking at a small frying pan', 'woman is eating something with chopsticks', 'man is playing billiards', 'man is looking at the measuring instrument to check the temperature or humidity', 'woman is playing screen golf', 'man is folding the yellow umbrella', 'man who grabs the cutting board with is left hand is looks something', 'man puts a big doll on the table', 'man is sitting and wiping the sweat from his forehead', 'girl sitting on a stair is reading a book', 'man is holding a mirror and a fan', 'man is cleaning a table', 'girl is looking at the side of her laptop', 'woman orders something while cooking', 'man is slicing a radish', 'man has just finished flour sifting', 'man is holding a basketball', 'woman is looking in a mirror', 'woman is sitting and holding a basketball', 'woman is sitting and holding a basketball', 'man is cooking', 'woman is reading a magazine while she waits for toilet']\n"
          ]
        }
      ]
    },
    {
      "cell_type": "code",
      "source": [
        "## visualization for train process\n",
        "\n",
        "import matplotlib.pyplot as plt\n",
        "\n",
        "plt.plot(history_1.history['accuracy'])\n",
        "plt.plot(history_1.history['loss'])\n",
        "plt.title('model accuracy and loss')\n",
        "plt.ylabel('accuracy/loss')\n",
        "plt.xlabel('epoch')\n",
        "plt.legend(['Accuracy', 'Loss'], loc='upper left')\n",
        "plt.show()"
      ],
      "metadata": {
        "id": "rxczhaeB1QQS",
        "colab": {
          "base_uri": "https://localhost:8080/",
          "height": 472
        },
        "outputId": "d11fd880-2f91-4146-b829-e408467ce6a3"
      },
      "execution_count": null,
      "outputs": [
        {
          "output_type": "display_data",
          "data": {
            "text/plain": [
              "<Figure size 640x480 with 1 Axes>"
            ],
            "image/png": "[encoded data removed]"
          },
          "metadata": {}
        }
      ]
    },
    {
      "cell_type": "code",
      "source": [
        "plt.plot(history_1.history['val_loss'])\n",
        "plt.plot(history_1.history['val_accuracy'])\n",
        "plt.title('model val_accuracy and val_loss')\n",
        "plt.ylabel('val_accuracy/val_loss')\n",
        "plt.xlabel('epoch')\n",
        "plt.legend(['val_Accuracy', 'val_Loss'], loc='upper left')\n",
        "plt.show()"
      ],
      "metadata": {
        "colab": {
          "base_uri": "https://localhost:8080/",
          "height": 472
        },
        "id": "9Zd_4pGxtS1J",
        "outputId": "1d323138-adeb-4324-d457-9c1fadade5ed"
      },
      "execution_count": null,
      "outputs": [
        {
          "output_type": "display_data",
          "data": {
            "text/plain": [
              "<Figure size 640x480 with 1 Axes>"
            ],
            "image/png": "[encoded data removed]"
          },
          "metadata": {}
        }
      ]
    },
    {
      "cell_type": "code",
      "source": [
        "plt.plot(history_2.history['accuracy'])\n",
        "plt.plot(history_2.history['loss'])\n",
        "plt.title('model accuracy and loss')\n",
        "plt.ylabel('accuracy/loss')\n",
        "plt.xlabel('epoch')\n",
        "plt.legend(['Accuracy', 'Loss'], loc='upper left')\n",
        "plt.show()"
      ],
      "metadata": {
        "colab": {
          "base_uri": "https://localhost:8080/",
          "height": 472
        },
        "id": "HWj06IH2epKD",
        "outputId": "33cc131b-d45b-4868-d933-28e022156a66"
      },
      "execution_count": null,
      "outputs": [
        {
          "output_type": "display_data",
          "data": {
            "text/plain": [
              "<Figure size 640x480 with 1 Axes>"
            ],
            "image/png": "[encoded data removed]"
          },
          "metadata": {}
        }
      ]
    },
    {
      "cell_type": "code",
      "source": [
        "## fine tuining 1: end with '0'token sequence for y_data"
      ],
      "metadata": {
        "id": "l7PQlOKAYN8V"
      },
      "execution_count": null,
      "outputs": []
    },
    {
      "cell_type": "code",
      "source": [
        "sequences_offset_0 = np.hstack([sequences_padded[:, 1:], np.zeros((sequences_padded.shape[0], 1))])\n",
        "\n",
        "x_data_image = image_data\n",
        "x_data_text = sequences_padded\n",
        "y_data_offset_0 = sequences_offset_0\n",
        "\n",
        "train_image_2, test_image_2, train_sequences_2,\\\n",
        " test_sequences_2, train_y_2, test_y_2 = train_test_split(x_data_image, x_data_text, y_data_offset_0, test_size=0.2, random_state=42)\n",
        "\n",
        "print(train_image_2.shape)\n",
        "print(train_sequences_2.shape)\n",
        "print(test_image_2.shape)\n",
        "print(test_sequences_2.shape)\n",
        "print(train_y_2.shape)\n",
        "print(test_y_2.shape)"
      ],
      "metadata": {
        "id": "X9Um4S9JYUoH"
      },
      "execution_count": null,
      "outputs": []
    },
    {
      "cell_type": "code",
      "source": [
        "model.compile(optimizer='adam', loss='sparse_categorical_crossentropy', metrics=['accuracy'])\n",
        "model.set_weights(initial_weights)"
      ],
      "metadata": {
        "id": "gdwPMpvxbuBg"
      },
      "execution_count": null,
      "outputs": []
    },
    {
      "cell_type": "code",
      "source": [
        "history_case2_1 = model.fit([train_image_1, train_sequences_1], train_y_1,\\\n",
        "                      validation_data=([test_image_1, test_sequences_1], test_y_1),\\\n",
        "                      epochs=30, batch_size=32, verbose=1)"
      ],
      "metadata": {
        "id": "4MvmosKtbzJH"
      },
      "execution_count": null,
      "outputs": []
    },
    {
      "cell_type": "code",
      "source": [],
      "metadata": {
        "id": "Go52ONkvbzXP"
      },
      "execution_count": null,
      "outputs": []
    },
    {
      "cell_type": "code",
      "source": [
        "## fine tuning 2: end with '<end>' token sequence for y_data\n",
        "\n",
        "df['with_end_token'] = df['cleaned_sentence'].apply(lambda x: x + ' <end>')\n",
        "\n",
        "max_length = max(len(sequence) for sequence in sequences)\n",
        "sequences_padded = pad_sequences(sequences, maxlen=max_length, padding='post')\n",
        "\n",
        "vocab_size = len(tokenizer.word_index) + 1\n",
        "print(vocab_size)\n",
        "\n",
        "tokenizer.fit_on_texts(df['with_end_token'])\n",
        "sequences = tokenizer.texts_to_sequences(df['with_end_token'])\n",
        "sequences_padded = pad_sequences(sequences, maxlen=max_length, padding='post')\n",
        "\n",
        "x_data_image = image_data\n",
        "x_data_text = sequences_padded[:, :-1]\n",
        "y_data_offset_end = np.hstack([sequences_padded[:, 1:], np.zeros((sequences_padded.shape[0], 1))])\n",
        "\n",
        "\n",
        "train_image_3, test_image_3, train_sequences_3,\\\n",
        " test_sequences_3, train_y_3, test_y_3 = train_test_split(x_data_image, x_data_text, y_data_offset_end, test_size=0.2, random_state=42)\n",
        "\n",
        "print(train_image_3.shape)\n",
        "print(train_sequences_3.shape)\n",
        "print(test_image_3.shape)\n",
        "print(test_sequences_3.shape)\n",
        "print(train_y_3.shape)\n",
        "print(test_y_3.shape)"
      ],
      "metadata": {
        "id": "LHwDbZZdYU-V"
      },
      "execution_count": null,
      "outputs": []
    },
    {
      "cell_type": "code",
      "source": [
        "model.compile(optimizer='adam', loss='sparse_categorical_crossentropy', metrics=['accuracy'])\n",
        "model.set_weights(initial_weights)"
      ],
      "metadata": {
        "id": "osHL8DQ2bz_K"
      },
      "execution_count": null,
      "outputs": []
    },
    {
      "cell_type": "code",
      "source": [
        "history_case3_1 = model.fit([train_image_1, train_sequences_1], train_y_1,\\\n",
        "                      validation_data=([test_image_1, test_sequences_1], test_y_1),\\\n",
        "                      epochs=30, batch_size=32, verbose=1)"
      ],
      "metadata": {
        "id": "wWLMoBZXgBx8"
      },
      "execution_count": null,
      "outputs": []
    }
  ]
}