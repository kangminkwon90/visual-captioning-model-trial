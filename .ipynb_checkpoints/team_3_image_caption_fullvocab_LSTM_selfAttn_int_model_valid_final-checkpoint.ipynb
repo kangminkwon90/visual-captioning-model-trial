{
 "cells": [
  {
   "cell_type": "code",
   "execution_count": null,
   "metadata": {
    "id": "kFy5tCHU1Dre"
   },
   "outputs": [],
   "source": [
    "## 이미지 캡셔닝 1차 모델 구축\n",
    "  ## 베이스 아키텍처: Show, Attend and Tell\n",
    "  ## 추가 확보 데이터: vocab(from pre-trained model)\n",
    "  ## 프로세스\n",
    "    ## 데이터 로드, 체크\n",
    "    ## 텍스트 데이터 추가 전처리(정규화, 토큰화, 패딩)\n",
    "    ## 이미지 데이터 전처리\n",
    "    ## 모델 정의: CNN, Attention, LSTM\n",
    "    ## 기타 사용자 정의 함수 생성(손실함수 등)\n",
    "    ## 모델 컴파일 및 훈련\n",
    "    ## 모델 검증(테스트 데이터 확인, 학습결과 시각화, 매트릭스 출력)"
   ]
  },
  {
   "cell_type": "code",
   "execution_count": null,
   "metadata": {},
   "outputs": [],
   "source": [
    "\"\"\"\n",
    "Notice: about ignoring Warning log and Error log message\n",
    "\n",
    "when importing tensorflow packages and using them with absl, there might be several warning, error messages.\n",
    "1) NUMA warning: NUMA is a tool for optimizing memory allocation.\n",
    "    It is normally used in massive server group, therefore, if you use personal device, just ignore it\n",
    "\n",
    "2) Type Inference failed: It can be caused by type differences between X_data and Y_data.\n",
    "    In this model, X_data(image features, text sequences) type is float32 and Y_data(text label) type is int32.\n",
    "    For this differences, the system might be confused becasue it is ordered to predict int values but it received float type values.\n",
    "    This confilict can be solved by chaning value type of Y_data before train(tf.cast(y, tf.float32)).\n",
    "    However, when you use \"sparse-categorical-crossentropy\" as loss function, Y_data must be type int32.\n",
    "    Therefore, if model train goes well, this error cam be ingnored. Otherwise, it is caused by other problems such as model structure and you must fix this.\n",
    "\n",
    "3) In conclusion, if model training goes well, you can ignore them. They are just matter of system optimization.\n",
    "\n",
    "4) If you want them not to be printed. Use this configuration code.\n",
    "[tensorflow]\n",
    "    import os\n",
    "    import tensorflow as tf\n",
    "    tf.get_logger().setLevel('ERROR')\n",
    "[absl]\n",
    "    from absl import logging\n",
    "    logging.set_verbosity(logging.ERROR)\n",
    "\"\"\""
   ]
  },
  {
   "cell_type": "code",
   "execution_count": 1,
   "metadata": {},
   "outputs": [
    {
     "name": "stderr",
     "output_type": "stream",
     "text": [
      "2024-01-26 17:57:22.774011: I tensorflow/core/util/port.cc:113] oneDNN custom operations are on. You may see slightly different numerical results due to floating-point round-off errors from different computation orders. To turn them off, set the environment variable `TF_ENABLE_ONEDNN_OPTS=0`.\n",
      "2024-01-26 17:57:22.996797: E external/local_xla/xla/stream_executor/cuda/cuda_dnn.cc:9261] Unable to register cuDNN factory: Attempting to register factory for plugin cuDNN when one has already been registered\n",
      "2024-01-26 17:57:22.996829: E external/local_xla/xla/stream_executor/cuda/cuda_fft.cc:607] Unable to register cuFFT factory: Attempting to register factory for plugin cuFFT when one has already been registered\n",
      "2024-01-26 17:57:23.013426: E external/local_xla/xla/stream_executor/cuda/cuda_blas.cc:1515] Unable to register cuBLAS factory: Attempting to register factory for plugin cuBLAS when one has already been registered\n",
      "2024-01-26 17:57:23.092954: I tensorflow/core/platform/cpu_feature_guard.cc:182] This TensorFlow binary is optimized to use available CPU instructions in performance-critical operations.\n",
      "To enable the following instructions: AVX2 AVX_VNNI FMA, in other operations, rebuild TensorFlow with the appropriate compiler flags.\n",
      "2024-01-26 17:57:23.912250: W tensorflow/compiler/tf2tensorrt/utils/py_utils.cc:38] TF-TRT Warning: Could not find TensorRT\n"
     ]
    }
   ],
   "source": [
    "import tensorflow as tf\n",
    "from absl import logging\n",
    "\n",
    "tf.get_logger().setLevel('ERROR')\n",
    "logging.set_verbosity(logging.ERROR)"
   ]
  },
  {
   "cell_type": "code",
   "execution_count": null,
   "metadata": {
    "colab": {
     "base_uri": "https://localhost:8080/"
    },
    "id": "4hz4qQCm1PY1",
    "outputId": "51492b93-d531-4a4a-e325-e88ff97ddc72"
   },
   "outputs": [],
   "source": [
    "## Data load(in case working in colab)\n",
    "\"\"\"\n",
    "from google.colab import drive\n",
    "import os\n",
    "\n",
    "drive.mount('/content/drive')\n",
    "zip_file_path = '/content/drive/My Drive/pjt_3_data/train_sample_2.zip'\n",
    "%mkdir 'train_sample_2'\n",
    "\n",
    "!cp \"{zip_file_path}\" \"/content/\"\n",
    "\n",
    "!unzip -q \"/content/train_sample_2.zip\" -d \"/content/train_sample_2/\"\n",
    "\n",
    "print('unizipped files: ', os.listdir('/content/train_sample_2'))\n",
    "\"\"\""
   ]
  },
  {
   "cell_type": "code",
   "execution_count": 2,
   "metadata": {
    "id": "WELxEl8t1PbJ"
   },
   "outputs": [],
   "source": [
    "## text data additional preprocessing for model train\n",
    "\n",
    "import pandas as pd\n",
    "import numpy as np\n",
    "from tensorflow.keras.preprocessing.text import Tokenizer\n",
    "from tensorflow.keras.preprocessing.sequence import pad_sequences\n",
    "from sklearn.model_selection import train_test_split\n",
    "from tensorflow.keras.utils import to_categorical\n",
    "import re"
   ]
  },
  {
   "cell_type": "code",
   "execution_count": 3,
   "metadata": {
    "colab": {
     "base_uri": "https://localhost:8080/",
     "height": 112
    },
    "id": "vim8MBxX1Pde",
    "outputId": "63202c49-2a7e-48e5-c316-1396edd1547f"
   },
   "outputs": [
    {
     "data": {
      "text/html": [
       "<div>\n",
       "<style scoped>\n",
       "    .dataframe tbody tr th:only-of-type {\n",
       "        vertical-align: middle;\n",
       "    }\n",
       "\n",
       "    .dataframe tbody tr th {\n",
       "        vertical-align: top;\n",
       "    }\n",
       "\n",
       "    .dataframe thead th {\n",
       "        text-align: right;\n",
       "    }\n",
       "</style>\n",
       "<table border=\"1\" class=\"dataframe\">\n",
       "  <thead>\n",
       "    <tr style=\"text-align: right;\">\n",
       "      <th></th>\n",
       "      <th>id</th>\n",
       "      <th>height</th>\n",
       "      <th>width</th>\n",
       "      <th>file_name</th>\n",
       "      <th>category</th>\n",
       "      <th>sentence_en</th>\n",
       "    </tr>\n",
       "  </thead>\n",
       "  <tbody>\n",
       "    <tr>\n",
       "      <th>0</th>\n",
       "      <td>446250</td>\n",
       "      <td>1920</td>\n",
       "      <td>1440</td>\n",
       "      <td>IMG_0446250_person(person).jpg</td>\n",
       "      <td>person</td>\n",
       "      <td>a man is holding an umbrella</td>\n",
       "    </tr>\n",
       "    <tr>\n",
       "      <th>1</th>\n",
       "      <td>446251</td>\n",
       "      <td>1920</td>\n",
       "      <td>1080</td>\n",
       "      <td>IMG_0446251_person(person).jpg</td>\n",
       "      <td>person</td>\n",
       "      <td>a man is turning on a gas stove</td>\n",
       "    </tr>\n",
       "  </tbody>\n",
       "</table>\n",
       "</div>"
      ],
      "text/plain": [
       "       id  height  width                       file_name category  \\\n",
       "0  446250    1920   1440  IMG_0446250_person(person).jpg   person   \n",
       "1  446251    1920   1080  IMG_0446251_person(person).jpg   person   \n",
       "\n",
       "                       sentence_en  \n",
       "0     a man is holding an umbrella  \n",
       "1  a man is turning on a gas stove  "
      ]
     },
     "execution_count": 3,
     "metadata": {},
     "output_type": "execute_result"
    }
   ],
   "source": [
    "df = pd.read_csv('./train_sample_2000.csv', encoding='utf-8')\n",
    "df.head(2)"
   ]
  },
  {
   "cell_type": "code",
   "execution_count": 4,
   "metadata": {
    "id": "NwUJiLDo1Pko"
   },
   "outputs": [],
   "source": [
    "## text data preprocessing\n",
    "\n",
    "from keras.preprocessing.text import Tokenizer\n",
    "from keras.preprocessing.sequence import pad_sequences\n",
    "from keras.utils import to_categorical\n",
    "import numpy as np\n",
    "\n",
    "def preprocess_and_tokenize(df, text_column='sentence_en'):\n",
    "  def clean_text(text):\n",
    "    text = text.lower()\n",
    "    text = re.sub(r\"[^a-zA-Z0-9\\s]\", \"\", text)\n",
    "    return text\n",
    "\n",
    "  start_token = '<start>'\n",
    "  end_token = '<end>'\n",
    "  pad_token = '<pad>'\n",
    "  unk_token = '<unk>'\n",
    "\n",
    "  df['cleaned_sentence'] = df[text_column].apply(clean_text)\n",
    "\n",
    "  tokenizer = Tokenizer(oov_token=unk_token)\n",
    "  tokenizer.fit_on_texts(df['cleaned_sentence'])\n",
    "\n",
    "  tokenizer.word_index[start_token] = len(tokenizer.word_index) + 1\n",
    "  tokenizer.word_index[end_token] = len(tokenizer.word_index) + 1\n",
    "  tokenizer.word_index[pad_token] = 0\n",
    "  tokenizer.word_index[unk_token] = len(tokenizer.word_index) + 1\n",
    "  tokenizer.index_word[0] = pad_token\n",
    "  tokenizer.index_word[len(tokenizer.word_index)] = unk_token\n",
    "  start_token_id = tokenizer.word_index[start_token]\n",
    "  end_token_id = tokenizer.word_index[end_token]\n",
    "\n",
    "  sequences = tokenizer.texts_to_sequences(df['cleaned_sentence'])\n",
    "  sequences = [[tokenizer.word_index[start_token]] + seq + [tokenizer.word_index[end_token]] for seq in sequences]\n",
    "\n",
    "  max_length = max(len(sequence) for sequence in sequences)\n",
    "  sequences_padded = pad_sequences(sequences, maxlen=max_length, padding='post', value=tokenizer.word_index[pad_token])\n",
    "\n",
    "  vocab_size = len(tokenizer.word_index) + 1\n",
    "\n",
    "  x_data_text = sequences_padded[:, :-1]\n",
    "  y_data = sequences_padded[:, 1:]\n",
    "\n",
    "  max_sequence_length = max_length - 1\n",
    "\n",
    "  return x_data_text, y_data, vocab_size, tokenizer, max_sequence_length, start_token_id, end_token_id\n"
   ]
  },
  {
   "cell_type": "code",
   "execution_count": 5,
   "metadata": {
    "id": "fbfu12_E1P2d"
   },
   "outputs": [],
   "source": [
    "## image data preprocessing for model train\n",
    "\n",
    "from tensorflow.keras.preprocessing.image import load_img, img_to_array\n",
    "import numpy as np\n",
    "import os\n",
    "\n",
    "image_folder = './image'"
   ]
  },
  {
   "cell_type": "code",
   "execution_count": 6,
   "metadata": {
    "id": "-yfzTuUW1P5R"
   },
   "outputs": [],
   "source": [
    "def process_image(file_name, target_size=(299,299)):\n",
    "  image_path = os.path.join(image_folder, file_name)\n",
    "  image = load_img(image_path, target_size=target_size)\n",
    "  image = img_to_array(image)\n",
    "  image = image.astype('float32')\n",
    "  image /= 255.0\n",
    "  return image"
   ]
  },
  {
   "cell_type": "code",
   "execution_count": 7,
   "metadata": {
    "id": "FDaLzxHJ1P8E"
   },
   "outputs": [],
   "source": [
    "image_data = np.array([process_image(file_name) for file_name in df['file_name']])\n",
    "\n",
    "x_data_text, y_data, vocab_size, tokenizer, max_sequence_length, start_token_id, end_token_id = preprocess_and_tokenize(df)\n",
    "x_data_image = image_data"
   ]
  },
  {
   "cell_type": "code",
   "execution_count": null,
   "metadata": {
    "colab": {
     "base_uri": "https://localhost:8080/"
    },
    "id": "oiPZIrWf1P-k",
    "outputId": "177e31ff-aa13-44f3-c748-7b3a6d49ad6c"
   },
   "outputs": [],
   "source": [
    "print(image_data.shape)"
   ]
  },
  {
   "cell_type": "code",
   "execution_count": 8,
   "metadata": {
    "id": "pXlZz-UJCueE"
   },
   "outputs": [],
   "source": [
    "## train data: 2000 instances all\n",
    "\n",
    "x_train_image = x_data_image\n",
    "x_train_text = x_data_text\n",
    "y_train = y_data"
   ]
  },
  {
   "cell_type": "code",
   "execution_count": 9,
   "metadata": {
    "id": "LfJODH4Z1PxK"
   },
   "outputs": [],
   "source": [
    "## train_test data split: int encoding\n",
    "\n",
    "train_image, test_image, train_sequences,\\\n",
    " test_sequences, train_label, test_label = train_test_split(x_train_image, x_train_text, y_train, test_size=0.05, random_state=42)"
   ]
  },
  {
   "cell_type": "code",
   "execution_count": 10,
   "metadata": {
    "colab": {
     "base_uri": "https://localhost:8080/"
    },
    "id": "KxT1lxio1Pz2",
    "outputId": "248163a5-b7f7-4216-88d1-0662885ac4a3"
   },
   "outputs": [
    {
     "name": "stdout",
     "output_type": "stream",
     "text": [
      "(1901, 299, 299, 3)\n",
      "(1901, 39)\n",
      "(101, 299, 299, 3)\n",
      "(101, 39)\n",
      "(1901, 39)\n",
      "(101, 39)\n"
     ]
    }
   ],
   "source": [
    "print(train_image.shape)\n",
    "print(train_sequences.shape)\n",
    "print(test_image.shape)\n",
    "print(test_sequences.shape)\n",
    "print(train_label.shape)\n",
    "print(test_label.shape)"
   ]
  },
  {
   "cell_type": "code",
   "execution_count": 11,
   "metadata": {
    "colab": {
     "base_uri": "https://localhost:8080/"
    },
    "id": "hLhsnttiUaka",
    "outputId": "30fe41db-bbfc-4a65-dcc6-8d70f908a681"
   },
   "outputs": [
    {
     "name": "stdout",
     "output_type": "stream",
     "text": [
      "1061\n"
     ]
    }
   ],
   "source": [
    "print(vocab_size)"
   ]
  },
  {
   "cell_type": "code",
   "execution_count": 12,
   "metadata": {
    "colab": {
     "base_uri": "https://localhost:8080/"
    },
    "id": "Jq8OaKtlmwVB",
    "outputId": "50591c2a-7f23-427e-e203-4ceb3fc11ab8"
   },
   "outputs": [
    {
     "name": "stderr",
     "output_type": "stream",
     "text": [
      "[nltk_data] Downloading package punkt to /home/kkm_lnx22/nltk_data...\n",
      "[nltk_data]   Package punkt is already up-to-date!\n"
     ]
    },
    {
     "data": {
      "text/plain": [
       "True"
      ]
     },
     "execution_count": 12,
     "metadata": {},
     "output_type": "execute_result"
    }
   ],
   "source": [
    "## BLEU, ROUGE score metrics function\n",
    "\n",
    "import nltk\n",
    "from nltk.translate.bleu_score import sentence_bleu, SmoothingFunction\n",
    "from rouge import Rouge\n",
    "nltk.download('punkt')\n",
    "\n",
    "# def calculate_bleu(references, candidates):\n",
    "#   score = 0\n",
    "#   smoothie = SmoothingFunction().method4\n",
    "#   for ref, cand in zip(references, candidates):\n",
    "#     ref_tokens = nltk.word_tokenize(ref.lower())\n",
    "#     cand_tokens = nltk.word_tokenize(cand.lower())\n",
    "#     score += sentence_bleu([ref_tokens], cand_tokens, weights=(0.25, 0.25, 0.25, 0.25),\\\n",
    "#                            smoothing_function=smoothie)\n",
    "\n",
    "#   return round((score / len(candidates)), 3)\n",
    "\n",
    "# def calculate_rouge(references, candidates):\n",
    "#   rouge = Rouge()\n",
    "#   scores = rouge.get_scores(candidates, references, avg=True)\n",
    "#   for metric, metric_scores in scores.items():\n",
    "#     for key in metric_scores:\n",
    "#       metric_scores[key] = round(metric_scores[key], 3)\n",
    "#   return scores\n",
    "\n",
    "# def print_rouge_scores(rouge_scores):\n",
    "#   for key, values in rouge_scores.items():\n",
    "#     print(f\"{key}: \")\n",
    "#     for metric, score in values.items():\n",
    "#       print(f\"  {metric}: {score}\")\n",
    "#     print()"
   ]
  },
  {
   "cell_type": "code",
   "execution_count": 13,
   "metadata": {
    "id": "FV-wD3KM1QBX"
   },
   "outputs": [],
   "source": [
    "## define model(use cross-attention only)\n",
    "  ## cross-attention은 그냥 attention이랑 같은거라고 보면 됨\n",
    "\n",
    "import tensorflow as tf\n",
    "from tensorflow.keras.models import Model\n",
    "from tensorflow.keras.layers import Input, Embedding, Dense\n",
    "from tensorflow.keras.layers import LSTM, Bidirectional, Dropout\n",
    "from tensorflow.keras.layers import AdditiveAttention, MultiHeadAttention, Lambda, Masking, RepeatVector, Reshape\n",
    "from tensorflow.keras.applications.inception_resnet_v2 import InceptionResNetV2\n",
    "from keras.optimizers import Adam\n",
    "import time"
   ]
  },
  {
   "cell_type": "code",
   "execution_count": 14,
   "metadata": {
    "colab": {
     "base_uri": "https://localhost:8080/"
    },
    "id": "XfgspeqbQWik",
    "outputId": "da2e8785-1d31-48d0-cc61-1b529b2974e2"
   },
   "outputs": [
    {
     "name": "stderr",
     "output_type": "stream",
     "text": [
      "2024-01-26 17:58:23.138754: I external/local_xla/xla/stream_executor/cuda/cuda_executor.cc:887] could not open file to read NUMA node: /sys/bus/pci/devices/0000:01:00.0/numa_node\n",
      "Your kernel may have been built without NUMA support.\n",
      "2024-01-26 17:58:23.173460: I external/local_xla/xla/stream_executor/cuda/cuda_executor.cc:887] could not open file to read NUMA node: /sys/bus/pci/devices/0000:01:00.0/numa_node\n",
      "Your kernel may have been built without NUMA support.\n",
      "2024-01-26 17:58:23.173509: I external/local_xla/xla/stream_executor/cuda/cuda_executor.cc:887] could not open file to read NUMA node: /sys/bus/pci/devices/0000:01:00.0/numa_node\n",
      "Your kernel may have been built without NUMA support.\n",
      "2024-01-26 17:58:23.175180: I external/local_xla/xla/stream_executor/cuda/cuda_executor.cc:887] could not open file to read NUMA node: /sys/bus/pci/devices/0000:01:00.0/numa_node\n",
      "Your kernel may have been built without NUMA support.\n",
      "2024-01-26 17:58:23.175220: I external/local_xla/xla/stream_executor/cuda/cuda_executor.cc:887] could not open file to read NUMA node: /sys/bus/pci/devices/0000:01:00.0/numa_node\n",
      "Your kernel may have been built without NUMA support.\n",
      "2024-01-26 17:58:23.175241: I external/local_xla/xla/stream_executor/cuda/cuda_executor.cc:887] could not open file to read NUMA node: /sys/bus/pci/devices/0000:01:00.0/numa_node\n",
      "Your kernel may have been built without NUMA support.\n",
      "2024-01-26 17:58:24.491950: I external/local_xla/xla/stream_executor/cuda/cuda_executor.cc:887] could not open file to read NUMA node: /sys/bus/pci/devices/0000:01:00.0/numa_node\n",
      "Your kernel may have been built without NUMA support.\n",
      "2024-01-26 17:58:24.492169: I external/local_xla/xla/stream_executor/cuda/cuda_executor.cc:887] could not open file to read NUMA node: /sys/bus/pci/devices/0000:01:00.0/numa_node\n",
      "Your kernel may have been built without NUMA support.\n",
      "2024-01-26 17:58:24.492178: I tensorflow/core/common_runtime/gpu/gpu_device.cc:2022] Could not identify NUMA node of platform GPU id 0, defaulting to 0.  Your kernel may not have been built with NUMA support.\n",
      "2024-01-26 17:58:24.492220: I external/local_xla/xla/stream_executor/cuda/cuda_executor.cc:887] could not open file to read NUMA node: /sys/bus/pci/devices/0000:01:00.0/numa_node\n",
      "Your kernel may have been built without NUMA support.\n",
      "2024-01-26 17:58:24.492243: I tensorflow/core/common_runtime/gpu/gpu_device.cc:1929] Created device /job:localhost/replica:0/task:0/device:GPU:0 with 13515 MB memory:  -> device: 0, name: NVIDIA GeForce RTX 4060 Ti, pci bus id: 0000:01:00.0, compute capability: 8.9\n",
      "2024-01-26 17:58:28.588084: I external/local_tsl/tsl/platform/default/subprocess.cc:304] Start cannot spawn child process: No such file or directory\n"
     ]
    },
    {
     "name": "stdout",
     "output_type": "stream",
     "text": [
      "LSTM output shape:  (None, 39, 256)\n",
      "image feature shape:  (None, 39, 256)\n",
      "Model: \"model\"\n",
      "__________________________________________________________________________________________________\n",
      " Layer (type)                Output Shape                 Param #   Connected to                  \n",
      "==================================================================================================\n",
      " input_3 (InputLayer)        [(None, 39)]                 0         []                            \n",
      "                                                                                                  \n",
      " input_2 (InputLayer)        [(None, 299, 299, 3)]        0         []                            \n",
      "                                                                                                  \n",
      " embedding (Embedding)       (None, 39, 256)              271616    ['input_3[0][0]']             \n",
      "                                                                                                  \n",
      " inception_resnet_v2 (Funct  (None, 1536)                 5433673   ['input_2[0][0]']             \n",
      " ional)                                                   6                                       \n",
      "                                                                                                  \n",
      " bidirectional (Bidirection  (None, 39, 512)              1050624   ['embedding[0][0]']           \n",
      " al)                                                                                              \n",
      "                                                                                                  \n",
      " dense (Dense)               (None, 256)                  393472    ['inception_resnet_v2[0][0]'] \n",
      "                                                                                                  \n",
      " dropout (Dropout)           (None, 39, 512)              0         ['bidirectional[0][0]']       \n",
      "                                                                                                  \n",
      " reshape (Reshape)           (None, 1, 256)               0         ['dense[0][0]']               \n",
      "                                                                                                  \n",
      " lstm_1 (LSTM)               [(None, 39, 256),            787456    ['dropout[0][0]']             \n",
      "                              (None, 256),                                                        \n",
      "                              (None, 256)]                                                        \n",
      "                                                                                                  \n",
      " lambda (Lambda)             (None, 39, 256)              0         ['reshape[0][0]']             \n",
      "                                                                                                  \n",
      " additive_attention (Additi  ((None, 39, 256),            256       ['lstm_1[0][0]',              \n",
      " veAttention)                 (None, 39, 39))                        'lambda[0][0]']              \n",
      "                                                                                                  \n",
      " multi_head_attention (Mult  (None, 39, 256)              2103552   ['lstm_1[0][0]',              \n",
      " iHeadAttention)                                                     'lstm_1[0][0]',              \n",
      "                                                                     'lstm_1[0][0]']              \n",
      "                                                                                                  \n",
      " concatenate (Concatenate)   (None, 39, 512)              0         ['additive_attention[0][0]',  \n",
      "                                                                     'multi_head_attention[0][0]']\n",
      "                                                                                                  \n",
      " dense_1 (Dense)             (None, 39, 1061)             544293    ['concatenate[0][0]']         \n",
      "                                                                                                  \n",
      "==================================================================================================\n",
      "Total params: 59488005 (226.93 MB)\n",
      "Trainable params: 5151269 (19.65 MB)\n",
      "Non-trainable params: 54336736 (207.28 MB)\n",
      "__________________________________________________________________________________________________\n"
     ]
    }
   ],
   "source": [
    "## model2: (cross)attention + self_attention\n",
    "\n",
    "def create_model(vocab_size, lstm_units, max_sequence_length):\n",
    "\n",
    "  inception_resnet_model = InceptionResNetV2(include_top=False,\\\n",
    "                                            weights='imagenet',\\\n",
    "                                            pooling='avg')\n",
    "  inception_resnet_model.trainable = False\n",
    "\n",
    "  image_input = Input(shape=(299,299,3))\n",
    "  image_features = inception_resnet_model(image_input)\n",
    "\n",
    "  sequence_input = Input(shape=(max_sequence_length,))\n",
    "\n",
    "  embedding = Embedding(input_dim=vocab_size,\\\n",
    "                        output_dim=256, mask_zero=True)(sequence_input)\n",
    "\n",
    "  bidirectional_lstm = Bidirectional(LSTM(lstm_units, return_sequences=True))\n",
    "\n",
    "  lstm_output = bidirectional_lstm(embedding)\n",
    "\n",
    "  dropout = Dropout(0.5)\n",
    "  lstm_output = dropout(lstm_output)\n",
    "\n",
    "  second_lstm = LSTM(lstm_units,\\\n",
    "                    return_sequences=True,\\\n",
    "                    return_state=True)\n",
    "  lstm_output, _, _ = second_lstm(lstm_output)\n",
    "\n",
    "  image_features_dense = Dense(lstm_units)(image_features)\n",
    "  image_features_dense = Reshape((1, lstm_units))(image_features_dense)\n",
    "  image_features_dense = Lambda(lambda x: tf.tile(x, [1, max_sequence_length, 1]))(image_features_dense)\n",
    "\n",
    "  print(\"LSTM output shape: \", lstm_output.shape)\n",
    "  print(\"image feature shape: \", image_features_dense.shape)\n",
    "\n",
    "  attention = AdditiveAttention()\n",
    "  context_vector, attention_weights = attention([lstm_output, image_features_dense], return_attention_scores=True)\n",
    "\n",
    "  self_attention = MultiHeadAttention(num_heads=8, key_dim=lstm_units)\n",
    "  self_attention_output = self_attention(query=lstm_output, value=lstm_output, key=lstm_output)\n",
    "\n",
    "  combined_attention_output = tf.keras.layers.Concatenate(axis=-1)([context_vector, self_attention_output])\n",
    "\n",
    "  dense = Dense(vocab_size, activation='softmax')\n",
    "  output = dense(combined_attention_output)\n",
    "\n",
    "  return Model(inputs=[image_input, sequence_input], outputs=output)\n",
    "\n",
    "\n",
    "model = create_model(vocab_size, 256, max_sequence_length)\n",
    "initial_weights = model.get_weights()\n",
    "model.summary()"
   ]
  },
  {
   "cell_type": "code",
   "execution_count": null,
   "metadata": {},
   "outputs": [],
   "source": [
    "# data preperation for train loop\n",
    "\n",
    "## train data list: 200~1000 per 200 data\n",
    "\n",
    "## epochs list: 10 ~ 100 per 10 epochs"
   ]
  },
  {
   "cell_type": "code",
   "execution_count": 15,
   "metadata": {
    "id": "Dng1r8f8MpN7"
   },
   "outputs": [],
   "source": [
    "index_to_word = {index: word for word, index in tokenizer.word_index.items()}\n",
    "\n",
    "# def convert_label_to_text(int_sequences):\n",
    "#   end_token = tokenizer.word_index['<end>']  \n",
    "#   text_output = []\n",
    "#   for sequence in int_sequences:\n",
    "#     sequence_text = []\n",
    "#     for idx in sequence:\n",
    "#       if idx == end_token:\n",
    "#           break\n",
    "#       if idx > 0:\n",
    "#         sequence_text.append(index_to_word.get(idx, ''))\n",
    "#     text_output.append(' '.join(sequence_text))\n",
    "#   return text_output\n",
    "\n",
    "# def convert_predictions_to_text(predicted_sequences):\n",
    "\n",
    "#   end_token = tokenizer.word_index['<end>']\n",
    "#   text_output = []\n",
    "\n",
    "#   for sequence in predicted_sequences:\n",
    "#     sequence_text = []\n",
    "#     for word_probabilities in sequence:\n",
    "#       idx = np.argmax(word_probabilities)\n",
    "#       if idx == end_token_id:\n",
    "#         break\n",
    "#       word = tokenizer.index_word.get(idx, '')\n",
    "#       if word:\n",
    "#         sequence_text.append(word)\n",
    "#     text_output.append(' '.join(sequence_text))\n",
    "#   return text_output"
   ]
  },
  {
   "cell_type": "code",
   "execution_count": 16,
   "metadata": {},
   "outputs": [],
   "source": [
    "# model = create_model(vocab_size, 256, max_sequence_length)\n",
    "\n",
    "def create_and_compile_model():\n",
    "    model = create_model(vocab_size, 256, max_sequence_length)\n",
    "    adam = Adam(learning_rate=0.001)\n",
    "    model.compile(optimizer='adam', loss='sparse_categorical_crossentropy', metrics=['accuracy'])\n",
    "    return model\n",
    "\n",
    "class ModelTrainer:\n",
    "    def __init__(self, model,\\\n",
    "                 train_image, train_sequences, train_label,\\\n",
    "                 test_image, test_sequences, test_label,\\\n",
    "                 epochs_list, train_data_volume, tokenizer):\n",
    "        \n",
    "        self.model = model\n",
    "        self.initial_weights = model.get_weights()\n",
    "\n",
    "        self.train_image = train_image\n",
    "        self.train_sequences = train_sequences\n",
    "        self.train_label = train_label\n",
    "        self.test_image = test_image\n",
    "        self.test_sequences = test_sequences\n",
    "        self.test_label = test_label\n",
    "        self.epochs_list = epochs_list\n",
    "        self.train_data_volume = train_data_volume\n",
    "        self.tokenizer = tokenizer\n",
    "        self.index_to_word = {index: word for word, index in self.tokenizer.word_index.items()}\n",
    "        self.end_token_id = tokenizer.word_index.get('<end>')\n",
    "\n",
    "        self.history_dict = {}\n",
    "        self.predictions_dict = {}\n",
    "        self.predictions_text_dict = {}\n",
    "        self.bleu_score_dict = {}\n",
    "\n",
    "    class CustomCallback(tf.keras.callbacks.Callback):\n",
    "        def __init__(self, epochs):\n",
    "            super().__init__()\n",
    "            self.epochs = epochs\n",
    "            self.start_time = 0\n",
    "\n",
    "        def on_epoch_begin(self, epoch, logs=None):\n",
    "            self.start_time = time.time()\n",
    "\n",
    "        def on_epoch_end(self, epoch, logs=None):\n",
    "            end_time = time.time()\n",
    "            epoch_duration = end_time - self.start_time\n",
    "            if epoch == 0 or epoch == self.epochs - 1:\n",
    "                print(f\"Epoch {epoch + 1}/{self.epochs} - {epoch_duration: .2f} sec\", logs)\n",
    "\n",
    "    def convert_label_to_text(self, test_label):\n",
    "      end_token_id = tokenizer.word_index['<end>']  \n",
    "      text_output = []\n",
    "      for sequence in test_label:\n",
    "        sequence_text = []\n",
    "        for idx in sequence:\n",
    "          if idx == end_token_id:\n",
    "              break\n",
    "          if idx > 0:\n",
    "            sequence_text.append(index_to_word.get(idx, ''))\n",
    "    \n",
    "        text_output.append(' '.join(sequence_text))\n",
    "      return text_output\n",
    "\n",
    "    def convert_predictions_to_text(self, predicted_sequences):\n",
    "        end_token_id = tokenizer.word_index['<end>']\n",
    "        predicted_text_output = []\n",
    "    \n",
    "        for sequence in predicted_sequences:\n",
    "            sequence_text = []\n",
    "            for word_probabilities in sequence:\n",
    "              idx = np.argmax(word_probabilities)\n",
    "              if idx == end_token_id:\n",
    "                break\n",
    "              word = self.tokenizer.index_word.get(idx, '')\n",
    "              if word:\n",
    "                sequence_text.append(word)\n",
    "            predicted_text_output.append(' '.join(sequence_text))\n",
    "        return predicted_text_output\n",
    "\n",
    "    def calculate_bleu(self, references, candidates):\n",
    "      score = 0\n",
    "      smoothie = SmoothingFunction().method4\n",
    "      for ref, cand in zip(references, candidates):\n",
    "        ref_tokens = nltk.word_tokenize(ref.lower())\n",
    "        cand_tokens = nltk.word_tokenize(cand.lower())\n",
    "        score += sentence_bleu([ref_tokens], cand_tokens, weights=(0.25, 0.25, 0.25, 0.25),\\\n",
    "                               smoothing_function=smoothie)\n",
    "\n",
    "      return round((score / len(candidates)), 3)\n",
    "        \n",
    "    def train(self):\n",
    "\n",
    "        for epochs in self.epochs_list:\n",
    "            history_list = []\n",
    "            for data_volume in self.train_data_volume:\n",
    "                self.model.set_weights(self.initial_weights)\n",
    "\n",
    "                indices = np.random.choice(range(len(self.train_image)), data_volume, replace=False)\n",
    "                x_train_sampled_image = self.train_image[indices]\n",
    "                x_train_sampled_sequences = self.train_sequences[indices]\n",
    "                y_train_sampled_label = self.train_label[indices]\n",
    "\n",
    "                custom_callback = self.CustomCallback(epochs)\n",
    "\n",
    "                history = self.model.fit(\\\n",
    "                [x_train_sampled_image, x_train_sampled_sequences], y_train_sampled_label,\\\n",
    "                    validation_data=([self.test_image, self.test_sequences], self.test_label),\\\n",
    "                    epochs=epochs, batch_size=32, verbose=0, callbacks=[custom_callback]\\\n",
    "                )\n",
    "                history_list.append(history)\n",
    "                predictions = self.model.predict([self.test_image, self.test_sequences])\n",
    "                candidates = self.convert_predictions_to_text(predictions)\n",
    "                references = self.convert_label_to_text(self.test_label)\n",
    "                bleu_score = self.calculate_bleu(references, candidates)\n",
    "                self.predictions_dict[(epochs, data_volume)] = predictions\n",
    "                self.predictions_text_dict[(epochs, data_volume)] = candidates\n",
    "                self.bleu_score_dict[(epochs, data_volume)] = bleu_score\n",
    "\n",
    "            self.history_dict[f'history_epochs_{epochs}'] = history_list\n",
    "\n",
    "        return self.history_dict, self.predictions_dict, self.predictions_text_dict, self.test_label, self.bleu_score_dict"
   ]
  },
  {
   "cell_type": "code",
   "execution_count": 17,
   "metadata": {
    "scrolled": true
   },
   "outputs": [
    {
     "name": "stdout",
     "output_type": "stream",
     "text": [
      "LSTM output shape:  (None, 39, 256)\n",
      "image feature shape:  (None, 39, 256)\n"
     ]
    },
    {
     "name": "stderr",
     "output_type": "stream",
     "text": [
      "WARNING: All log messages before absl::InitializeLog() is called are written to STDERR\n",
      "W0000 00:00:1706259574.929268   44910 op_level_cost_estimator.cc:699] Error in PredictCost() for the op: op: \"Softmax\" attr { key: \"T\" value { type: DT_FLOAT } } inputs { dtype: DT_FLOAT shape { unknown_rank: true } } device { type: \"GPU\" vendor: \"NVIDIA\" model: \"NVIDIA GeForce RTX 4060 Ti\" frequency: 2610 num_cores: 34 environment { key: \"architecture\" value: \"8.9\" } environment { key: \"cuda\" value: \"12020\" } environment { key: \"cudnn\" value: \"8904\" } num_registers: 65536 l1_cache_size: 24576 l2_cache_size: 33554432 shared_memory_size_per_multiprocessor: 102400 memory_size: 14171504640 bandwidth: 288032000 } outputs { dtype: DT_FLOAT shape { unknown_rank: true } }\n",
      "2024-01-26 17:59:37.669886: I external/local_xla/xla/stream_executor/cuda/cuda_dnn.cc:454] Loaded cuDNN version 8904\n",
      "2024-01-26 17:59:37.860916: W tensorflow/core/common_runtime/type_inference.cc:339] Type inference failed. This indicates an invalid graph that escaped type checking. Error message: INVALID_ARGUMENT: expected compatible input types, but input 1:\n",
      "type_id: TFT_OPTIONAL\n",
      "args {\n",
      "  type_id: TFT_PRODUCT\n",
      "  args {\n",
      "    type_id: TFT_TENSOR\n",
      "    args {\n",
      "      type_id: TFT_INT32\n",
      "    }\n",
      "  }\n",
      "}\n",
      " is neither a subtype nor a supertype of the combined inputs preceding it:\n",
      "type_id: TFT_OPTIONAL\n",
      "args {\n",
      "  type_id: TFT_PRODUCT\n",
      "  args {\n",
      "    type_id: TFT_TENSOR\n",
      "    args {\n",
      "      type_id: TFT_FLOAT\n",
      "    }\n",
      "  }\n",
      "}\n",
      "\n",
      "\tfor Tuple type infernce function 0\n",
      "\twhile inferring type of node 'cond_38/output/_24'\n",
      "2024-01-26 17:59:38.661138: I external/local_tsl/tsl/platform/default/subprocess.cc:304] Start cannot spawn child process: No such file or directory\n",
      "2024-01-26 17:59:41.842017: I external/local_xla/xla/service/service.cc:168] XLA service 0x457850d0 initialized for platform CUDA (this does not guarantee that XLA will be used). Devices:\n",
      "2024-01-26 17:59:41.842042: I external/local_xla/xla/service/service.cc:176]   StreamExecutor device (0): NVIDIA GeForce RTX 4060 Ti, Compute Capability 8.9\n",
      "2024-01-26 17:59:41.845420: I tensorflow/compiler/mlir/tensorflow/utils/dump_mlir_util.cc:269] disabling MLIR crash reproducer, set env var `MLIR_CRASH_REPRODUCER_DIRECTORY` to enable.\n",
      "WARNING: All log messages before absl::InitializeLog() is called are written to STDERR\n",
      "I0000 00:00:1706259581.903346   45034 device_compiler.h:186] Compiled cluster using XLA!  This line is logged at most once for the lifetime of the process.\n",
      "W0000 00:00:1706259587.911641   44910 op_level_cost_estimator.cc:699] Error in PredictCost() for the op: op: \"Softmax\" attr { key: \"T\" value { type: DT_FLOAT } } inputs { dtype: DT_FLOAT shape { unknown_rank: true } } device { type: \"GPU\" vendor: \"NVIDIA\" model: \"NVIDIA GeForce RTX 4060 Ti\" frequency: 2610 num_cores: 34 environment { key: \"architecture\" value: \"8.9\" } environment { key: \"cuda\" value: \"12020\" } environment { key: \"cudnn\" value: \"8904\" } num_registers: 65536 l1_cache_size: 24576 l2_cache_size: 33554432 shared_memory_size_per_multiprocessor: 102400 memory_size: 14171504640 bandwidth: 288032000 } outputs { dtype: DT_FLOAT shape { unknown_rank: true } }\n"
     ]
    },
    {
     "name": "stdout",
     "output_type": "stream",
     "text": [
      "Epoch 1/20 -  22.49 sec {'loss': 5.792423248291016, 'accuracy': 0.06699101626873016, 'val_loss': 4.983224391937256, 'val_accuracy': 0.06698951125144958}\n",
      "Epoch 20/20 -  1.62 sec {'loss': 1.8468356132507324, 'accuracy': 0.461826354265213, 'val_loss': 3.3523716926574707, 'val_accuracy': 0.44632768630981445}\n"
     ]
    },
    {
     "name": "stderr",
     "output_type": "stream",
     "text": [
      "W0000 00:00:1706259624.991868   44910 op_level_cost_estimator.cc:699] Error in PredictCost() for the op: op: \"Softmax\" attr { key: \"T\" value { type: DT_FLOAT } } inputs { dtype: DT_FLOAT shape { unknown_rank: true } } device { type: \"GPU\" vendor: \"NVIDIA\" model: \"NVIDIA GeForce RTX 4060 Ti\" frequency: 2610 num_cores: 34 environment { key: \"architecture\" value: \"8.9\" } environment { key: \"cuda\" value: \"12020\" } environment { key: \"cudnn\" value: \"8904\" } num_registers: 65536 l1_cache_size: 24576 l2_cache_size: 33554432 shared_memory_size_per_multiprocessor: 102400 memory_size: 14171504640 bandwidth: 288032000 } outputs { dtype: DT_FLOAT shape { unknown_rank: true } }\n"
     ]
    },
    {
     "name": "stdout",
     "output_type": "stream",
     "text": [
      "4/4 [==============================] - 3s 112ms/step\n",
      "Epoch 1/20 -  4.86 sec {'loss': 5.341752529144287, 'accuracy': 0.0649600625038147, 'val_loss': 4.7978315353393555, 'val_accuracy': 0.08555286377668381}\n",
      "Epoch 20/20 -  4.74 sec {'loss': 0.06896774470806122, 'accuracy': 0.9826773405075073, 'val_loss': 1.2967578172683716, 'val_accuracy': 0.8434221148490906}\n",
      "4/4 [==============================] - 1s 112ms/step\n",
      "Epoch 1/20 -  6.01 sec {'loss': 5.190459251403809, 'accuracy': 0.07231245189905167, 'val_loss': 4.670231819152832, 'val_accuracy': 0.08474576473236084}\n",
      "Epoch 20/20 -  5.93 sec {'loss': 0.551393985748291, 'accuracy': 0.8283836245536804, 'val_loss': 1.6116914749145508, 'val_accuracy': 0.7288135886192322}\n",
      "4/4 [==============================] - 1s 111ms/step\n",
      "Epoch 1/20 -  10.34 sec {'loss': 5.044387340545654, 'accuracy': 0.07375041395425797, 'val_loss': 4.598692417144775, 'val_accuracy': 0.0879741758108139}\n",
      "Epoch 20/20 -  7.92 sec {'loss': 0.06294649094343185, 'accuracy': 0.9824112057685852, 'val_loss': 0.9126327633857727, 'val_accuracy': 0.8740919828414917}\n",
      "4/4 [==============================] - 1s 112ms/step\n",
      "Epoch 1/20 -  9.10 sec {'loss': 4.962074279785156, 'accuracy': 0.0742434561252594, 'val_loss': 4.548973560333252, 'val_accuracy': 0.0879741758108139}\n",
      "Epoch 20/20 -  8.96 sec {'loss': 0.04835508018732071, 'accuracy': 0.9876909852027893, 'val_loss': 0.7125874757766724, 'val_accuracy': 0.8950766921043396}\n",
      "4/4 [==============================] - 1s 112ms/step\n",
      "Epoch 1/20 -  12.43 sec {'loss': 4.874370574951172, 'accuracy': 0.07767623662948608, 'val_loss': 4.530452728271484, 'val_accuracy': 0.0928167849779129}\n",
      "Epoch 20/20 -  10.55 sec {'loss': 0.03540415316820145, 'accuracy': 0.990494430065155, 'val_loss': 0.6713141202926636, 'val_accuracy': 0.9128329157829285}\n",
      "4/4 [==============================] - 0s 111ms/step\n",
      "Epoch 1/30 -  1.67 sec {'loss': 6.148942470550537, 'accuracy': 0.056966617703437805, 'val_loss': 5.298710823059082, 'val_accuracy': 0.0524616613984108}\n",
      "Epoch 30/30 -  1.58 sec {'loss': 2.9154491424560547, 'accuracy': 0.10921625792980194, 'val_loss': 5.268932342529297, 'val_accuracy': 0.09362389147281647}\n",
      "4/4 [==============================] - 0s 111ms/step\n",
      "Epoch 1/30 -  4.86 sec {'loss': 5.296648025512695, 'accuracy': 0.06640170514583588, 'val_loss': 4.754161357879639, 'val_accuracy': 0.08635997027158737}\n",
      "Epoch 30/30 -  4.72 sec {'loss': 0.1537027508020401, 'accuracy': 0.9551182389259338, 'val_loss': 1.3207696676254272, 'val_accuracy': 0.8030669689178467}\n",
      "4/4 [==============================] - 0s 111ms/step\n",
      "Epoch 1/30 -  5.93 sec {'loss': 5.173192024230957, 'accuracy': 0.07175132632255554, 'val_loss': 4.742197036743164, 'val_accuracy': 0.07506053149700165}\n",
      "Epoch 30/30 -  5.81 sec {'loss': 0.053075797855854034, 'accuracy': 0.9855095148086548, 'val_loss': 1.127264380455017, 'val_accuracy': 0.8474576473236084}\n",
      "4/4 [==============================] - 1s 111ms/step\n",
      "Epoch 1/30 -  8.08 sec {'loss': 5.026517391204834, 'accuracy': 0.07605025917291641, 'val_loss': 4.673569202423096, 'val_accuracy': 0.06537530571222305}\n",
      "Epoch 30/30 -  7.91 sec {'loss': 0.012782209552824497, 'accuracy': 0.9971218109130859, 'val_loss': 0.8302812576293945, 'val_accuracy': 0.8958837985992432}\n",
      "4/4 [==============================] - 0s 111ms/step\n",
      "Epoch 1/30 -  9.09 sec {'loss': 4.962623596191406, 'accuracy': 0.07511987537145615, 'val_loss': 4.562674522399902, 'val_accuracy': 0.08313155919313431}\n",
      "Epoch 30/30 -  8.92 sec {'loss': 0.012912796810269356, 'accuracy': 0.9968034029006958, 'val_loss': 0.7186726331710815, 'val_accuracy': 0.9047619104385376}\n",
      "4/4 [==============================] - 0s 111ms/step\n",
      "Epoch 1/30 -  10.74 sec {'loss': 4.9270172119140625, 'accuracy': 0.07641439884901047, 'val_loss': 4.501021385192871, 'val_accuracy': 0.08474576473236084}\n",
      "Epoch 30/30 -  10.56 sec {'loss': 0.009723602794110775, 'accuracy': 0.9974691867828369, 'val_loss': 0.6304386854171753, 'val_accuracy': 0.9209039807319641}\n",
      "4/4 [==============================] - 0s 111ms/step\n",
      "Epoch 1/40 -  1.68 sec {'loss': 6.15762186050415, 'accuracy': 0.0578119270503521, 'val_loss': 5.97643518447876, 'val_accuracy': 0.02259887009859085}\n",
      "Epoch 40/40 -  1.56 sec {'loss': 2.790947675704956, 'accuracy': 0.11086717993021011, 'val_loss': 5.159882068634033, 'val_accuracy': 0.07990314811468124}\n",
      "4/4 [==============================] - 0s 111ms/step\n",
      "Epoch 1/40 -  4.84 sec {'loss': 5.255362510681152, 'accuracy': 0.06754079461097717, 'val_loss': 4.811192989349365, 'val_accuracy': 0.06779661029577255}\n",
      "Epoch 40/40 -  4.80 sec {'loss': 0.013895067386329174, 'accuracy': 0.9966984391212463, 'val_loss': 1.089941143989563, 'val_accuracy': 0.8668280839920044}\n",
      "4/4 [==============================] - 1s 113ms/step\n",
      "Epoch 1/40 -  5.91 sec {'loss': 5.1899566650390625, 'accuracy': 0.07117410004138947, 'val_loss': 4.72152042388916, 'val_accuracy': 0.0879741758108139}\n",
      "Epoch 40/40 -  5.77 sec {'loss': 0.015077291056513786, 'accuracy': 0.9952757358551025, 'val_loss': 0.9721312522888184, 'val_accuracy': 0.8708636164665222}\n",
      "4/4 [==============================] - 0s 111ms/step\n",
      "Epoch 1/40 -  7.99 sec {'loss': 5.025473117828369, 'accuracy': 0.07482917606830597, 'val_loss': 4.614216327667236, 'val_accuracy': 0.09200968593358994}\n",
      "Epoch 40/40 -  7.91 sec {'loss': 0.019041448831558228, 'accuracy': 0.9949447512626648, 'val_loss': 0.849382221698761, 'val_accuracy': 0.8837772607803345}\n",
      "4/4 [==============================] - 0s 111ms/step\n",
      "Epoch 1/40 -  9.11 sec {'loss': 5.0480122566223145, 'accuracy': 0.07488773763179779, 'val_loss': 4.536017894744873, 'val_accuracy': 0.07586763799190521}\n",
      "Epoch 40/40 -  8.97 sec {'loss': 0.03522967919707298, 'accuracy': 0.9901984333992004, 'val_loss': 0.7881912589073181, 'val_accuracy': 0.9055690169334412}\n",
      "4/4 [==============================] - 0s 109ms/step\n",
      "Epoch 1/40 -  10.64 sec {'loss': 5.074023246765137, 'accuracy': 0.0768163800239563, 'val_loss': 4.489813327789307, 'val_accuracy': 0.08313155919313431}\n",
      "Epoch 40/40 -  10.53 sec {'loss': 0.022439900785684586, 'accuracy': 0.994003176689148, 'val_loss': 0.6065623164176941, 'val_accuracy': 0.9354317784309387}\n",
      "4/4 [==============================] - 0s 112ms/step\n"
     ]
    }
   ],
   "source": [
    "## model train loop build\n",
    "\"\"\"\n",
    "train_image\n",
    "train_sequences\n",
    "test_image\n",
    "test_sequences\n",
    "train_label\n",
    "test_label\n",
    "\"\"\"\n",
    "\n",
    "train_data_volume = [200, 800, 1000, 1400, 1600, 1900]\n",
    "epochs_list = [20, 30, 40]\n",
    "\n",
    "# train_data_volume = [1000]\n",
    "# epochs_list = [5]\n",
    "\n",
    "model = create_and_compile_model()\n",
    "trainer = ModelTrainer(model, train_image, train_sequences, train_label,\\\n",
    "                       test_image, test_sequences, test_label,\\\n",
    "                       epochs_list, train_data_volume, tokenizer)\n",
    "history_dict, predictions_dict, predictions_text_dict, test_label, bleu_score_dict = trainer.train()"
   ]
  },
  {
   "cell_type": "code",
   "execution_count": 18,
   "metadata": {},
   "outputs": [
    {
     "name": "stdout",
     "output_type": "stream",
     "text": [
      "{(20, 200): 0.14, (20, 800): 0.614, (20, 1000): 0.456, (20, 1400): 0.675, (20, 1600): 0.704, (20, 1900): 0.773, (30, 200): 0.011, (30, 800): 0.567, (30, 1000): 0.646, (30, 1400): 0.739, (30, 1600): 0.76, (30, 1900): 0.791, (40, 200): 0.009, (40, 800): 0.664, (40, 1000): 0.698, (40, 1400): 0.709, (40, 1600): 0.772, (40, 1900): 0.833}\n"
     ]
    }
   ],
   "source": [
    "print(bleu_score_dict)"
   ]
  },
  {
   "cell_type": "code",
   "execution_count": null,
   "metadata": {},
   "outputs": [],
   "source": [
    "label_text = convert_label_to_text(test_label)\n",
    "\n",
    "print(label_text)"
   ]
  },
  {
   "cell_type": "code",
   "execution_count": null,
   "metadata": {},
   "outputs": [],
   "source": [
    "print(predictions_text_dict)"
   ]
  },
  {
   "cell_type": "code",
   "execution_count": 20,
   "metadata": {},
   "outputs": [],
   "source": [
    "import h5py\n",
    "import numpy as np\n",
    "\n",
    "def save_predictions_to_hdf5(predictions_dict, filename):\n",
    "    with h5py.File(filename, 'w') as f:\n",
    "        for key, predictions in predictions_dict.items():\n",
    "            if not isinstance(predictions, np.ndarray):\n",
    "                predictions = np.array(predictions)\n",
    "\n",
    "            f.create_dataset(str(key), data=predictions)\n",
    "\n",
    "save_predictions_to_hdf5(predictions_dict, 'predictions.h5')"
   ]
  },
  {
   "cell_type": "code",
   "execution_count": null,
   "metadata": {
    "scrolled": true
   },
   "outputs": [],
   "source": [
    "def save_history_dict_to_hdf5(history_dict, filename):\n",
    "    with h5py.File(filename, 'w') as f:\n",
    "        for key, history_list in history_dict.items():\n",
    "            for i, history in enumerate(history_list):\n",
    "                for metric, values in history.history.items():\n",
    "                    dataset_name = f'{key}/{i}/{metric}'\n",
    "                    f.create_dataset(dataset_name, data=np.array(values))\n",
    "\n",
    "save_history_dict_to_hdf5(history_dict, 'history_data.h5')"
   ]
  },
  {
   "cell_type": "code",
   "execution_count": null,
   "metadata": {},
   "outputs": [],
   "source": [
    "def save_test_label_to_hdf5(test_label, filename):\n",
    "    with h5py.File(filename, 'w') as f:\n",
    "        if not isinstance(test_label, np.ndarray):\n",
    "            test_label = np.array(test_label)\n",
    "\n",
    "        f.create_dataset('test_label', data=test_label)\n",
    "\n",
    "save_test_label_to_hdf5(test_label, 'test_label.h5')"
   ]
  },
  {
   "cell_type": "code",
   "execution_count": 21,
   "metadata": {},
   "outputs": [],
   "source": [
    "def save_bleu_to_hdf5(bleu_score_dict, filename):\n",
    "    with h5py.File(filename, 'w') as f:\n",
    "        for key, bleu in bleu_score_dict.items():\n",
    "            if not isinstance(bleu, np.ndarray):\n",
    "                bleu = np.array(bleu)\n",
    "\n",
    "            f.create_dataset(str(key), data=bleu)\n",
    "\n",
    "save_bleu_to_hdf5(bleu_score_dict, 'bleu.h5')"
   ]
  },
  {
   "cell_type": "code",
   "execution_count": null,
   "metadata": {},
   "outputs": [],
   "source": [
    "import json\n",
    "\n",
    "converted_dict = {f'{key[0]}_{key[1]}': value for key, value in predictions_text_dict.items()}\n",
    "\n",
    "with open('predictions_text_dict.json', 'w') as file:\n",
    "    json.dump(converted_dict, file)"
   ]
  },
  {
   "cell_type": "code",
   "execution_count": null,
   "metadata": {},
   "outputs": [],
   "source": [
    "import json\n",
    "from keras.preprocessing.text import tokenizer_from_json\n",
    "\n",
    "tokenizer_json = tokenizer.to_json()\n",
    "with open('tokenizer.json', 'w', encoding='utf-8') as f:\n",
    "    f.write(json.dumps(tokenizer_json, ensure_ascii=False))\n",
    "    "
   ]
  },
  {
   "cell_type": "code",
   "execution_count": null,
   "metadata": {},
   "outputs": [],
   "source": [
    "history_dict"
   ]
  },
  {
   "cell_type": "code",
   "execution_count": null,
   "metadata": {
    "id": "1XlG2dSvoVtm"
   },
   "outputs": [],
   "source": [
    "## test data sequence generate\n",
    "\n",
    "def generate_all_sequences(model, test_images, start_sequence, end_token_id, max_sequence_length):\n",
    "\n",
    "  all_sequences = []\n",
    "  max_length = max_sequence_length + 1\n",
    "  for image_input in test_images:\n",
    "    image_input = np.expand_dims(image_input, axis=0)\n",
    "    input_seq = start_sequence\n",
    "    output_seq = []\n",
    "\n",
    "    for _ in range(max_length):\n",
    "      predictions = model.predict([image_input, np.array([input_seq])], verbose=0)\n",
    "      predicted_id = np.argmax(predictions[0, -1, :])\n",
    "\n",
    "      if predicted_id == end_token_id:\n",
    "        break\n",
    "\n",
    "      output_seq.append(predicted_id)\n",
    "      input_seq = input_seq + [predicted_id]\n",
    "\n",
    "    all_sequences.append(output_seq)\n",
    "\n",
    "  return output_seq\n"
   ]
  },
  {
   "cell_type": "code",
   "execution_count": null,
   "metadata": {
    "id": "tsLevVFJio00"
   },
   "outputs": [],
   "source": [
    "actual_text = convert_int_sequences_to_text(test_y_int)"
   ]
  },
  {
   "cell_type": "code",
   "execution_count": null,
   "metadata": {
    "colab": {
     "base_uri": "https://localhost:8080/"
    },
    "id": "LRE1tI_4e-tx",
    "outputId": "2754bdc1-5705-4a14-d342-61e2c8105a8b"
   },
   "outputs": [],
   "source": [
    "predicted_sequences = model_2.predict([test_image_1, test_sequences_1])"
   ]
  },
  {
   "cell_type": "code",
   "execution_count": null,
   "metadata": {
    "colab": {
     "base_uri": "https://localhost:8080/"
    },
    "id": "2Fcgivi0fFFe",
    "outputId": "6a394c26-ecd8-46c4-e27f-ee1a048a5315"
   },
   "outputs": [],
   "source": [
    "predicted_texts = convert_predicted_sequences_to_text(predicted_sequences)\n",
    "predicted_texts"
   ]
  },
  {
   "cell_type": "code",
   "execution_count": null,
   "metadata": {
    "colab": {
     "base_uri": "https://localhost:8080/",
     "height": 1000
    },
    "id": "YZFncEWs7A1U",
    "outputId": "81e44767-bb61-4ea2-e222-ab8b53fdee34"
   },
   "outputs": [],
   "source": [
    "for idx in range(10):\n",
    "  display_image_with_caption(test_image_1, predicted_texts, actual_text, idx)"
   ]
  },
  {
   "cell_type": "code",
   "execution_count": null,
   "metadata": {
    "id": "DQCvdTohab7P"
   },
   "outputs": [],
   "source": [
    "def plot_rouge_scores(rouge_scores):\n",
    "  labels = list(rouge_scores.keys())\n",
    "  recall = [rouge_scores[key]['r'] for key in labels]\n",
    "  precision = [rouge_scores[key]['p'] for key in labels]\n",
    "  f1_score = [rouge_scores[key]['f'] for key in labels]\n",
    "\n",
    "  x = range(len(labels))\n",
    "  width = 0.2\n",
    "\n",
    "  plt.bar(x, recall, width, label='Recall', align='center')\n",
    "  plt.bar([p + width for p in x], precision, width, label='Precision', align='center')\n",
    "  plt.bar([p + width*2 for p in x], f1_score, width, label='F1 Score', align='center')\n",
    "\n",
    "  plt.xlabel('rouge Metrics')\n",
    "  plt.ylabel('Scores')\n",
    "  plt.title('Rouge Scores')\n",
    "  plt.xticks([p + width for p in x], labels)\n",
    "  plt.legend()\n",
    "\n",
    "  plt.tight_layout()\n",
    "  plt.show()\n"
   ]
  },
  {
   "cell_type": "code",
   "execution_count": null,
   "metadata": {
    "colab": {
     "base_uri": "https://localhost:8080/",
     "height": 487
    },
    "id": "-i9qeatLbcp9",
    "outputId": "4484c291-4a8f-4018-b133-194c919b1542"
   },
   "outputs": [],
   "source": [
    "\"\"\"\n",
    "[index]\n",
    "train_data_volume\n",
    "epochs_list\n",
    "\n",
    "[def]\n",
    "calculate_bleu(references, candidates)\n",
    "calculate_rouge(references, candidates)\n",
    "convert_label_to_text(int_sequences)\n",
    "convert_predictions_to_text(predicted_sequences)\n",
    "\"\"\"\n",
    "\n",
    "import matplotlib.pyplot as plt\n",
    "\n",
    "def calculate_scores(history_dict, predictions_text_dict, train_data_volume):\n",
    "    acc_scores, loss_scores, val_acc_scores, val_loss_scores = {}, {}, {}, {}\n",
    "    # bleu_scores, rouge_scores = {}, {}\n",
    "\n",
    "    for epochs_key, histories in history_dict.items():\n",
    "        epochs = int(epochs_key.split('_')[-1])\n",
    "        for i, history in enumerate(histories):\n",
    "            data_volume = train_data_volume[i]       \n",
    "            acc_scores[(epochs, data_volume)] = history.history['accuracy'][-1]\n",
    "            loss_scores[(epochs, data_volume)] = history.history['loss'][-1]\n",
    "            val_acc_key = 'val_accuracy' if 'val_accuracy' in history.history else 'val_acc'\n",
    "            val_acc_scores[(epochs, data_volume)] = history.history[val_acc_key][-1]\n",
    "            val_loss_scores[(epochs, data_volume)] = history.history['val_loss'][-1]\n",
    "            \n",
    "    # references = label_text\n",
    "    #    for (epochs, data_volume), predictions in predictions_text_dict.items():\n",
    "    #        candidates = predictions\n",
    "    #        bleu_scores[(epochs, data_volume)] = calculate_bleu(references, candidates)\n",
    "    #        rouge_scores[(epochs, data_volume)] = calculate_rouge(references, candidates)\n",
    "\n",
    "    return acc_scores, loss_scores, val_acc_scores, val_loss_scores\n",
    "\n",
    "def plot_scores(scores, title):\n",
    "    plt.figure(figsize=(12,6))\n",
    "    for key, value in scores.items():\n",
    "        plt.plot(key[0], key[1], 'o-', label=f'{key[1]} data points')\n",
    "        plt.text(key[0], key[1], f'{key[1]}', ha='center', va='bottom')\n",
    "\n",
    "    plt.xlabel('Epochs')\n",
    "    plt.ylabel('Scores')\n",
    "    plt.title(title)\n",
    "    plt.legend()\n",
    "    plt.show()"
   ]
  },
  {
   "cell_type": "code",
   "execution_count": null,
   "metadata": {},
   "outputs": [],
   "source": [
    "acc_scores, loss_scores,\\\n",
    "val_acc_scores, val_loss_scores = calculate_scores(history_dict, predictions_text_dict, train_data_volume)"
   ]
  },
  {
   "cell_type": "code",
   "execution_count": null,
   "metadata": {
    "scrolled": true
   },
   "outputs": [],
   "source": [
    "score_data = []\n",
    "\n",
    "for key in acc_scores.keys():\n",
    "    epochs, data_volume = key\n",
    "    acc = acc_scores[key]\n",
    "    loss = loss_scores[key]\n",
    "    val_acc = val_acc_scores[key]\n",
    "    val_loss = val_loss_scores[key]\n",
    "\n",
    "    score_data.append([epochs, data_volume, acc, loss, val_acc, val_loss])\n",
    "\n",
    "df_metrics_scores = pd.DataFrame(score_data, columns=['epochs', 'data_volume', 'acc', 'loss', 'val_acc', 'val_loss'])"
   ]
  },
  {
   "cell_type": "code",
   "execution_count": null,
   "metadata": {},
   "outputs": [],
   "source": [
    "df_metrics_scores.head()"
   ]
  },
  {
   "cell_type": "code",
   "execution_count": 22,
   "metadata": {},
   "outputs": [],
   "source": [
    "bleu_score_dict2 = {f'{key[0]}_{key[1]}': value for key, value in bleu_score_dict.items()}"
   ]
  },
  {
   "cell_type": "code",
   "execution_count": 24,
   "metadata": {},
   "outputs": [],
   "source": [
    "epoch_loop = []\n",
    "data_loop = []\n",
    "bleu = []\n",
    "\n",
    "for key, value in bleu_score_dict2.items():\n",
    "    params = key.split('_')\n",
    "    epoch = params[0]\n",
    "    data_volume = params[1]\n",
    "    score = value\n",
    "\n",
    "    epoch_loop.append(epoch)\n",
    "    data_loop.append(data_volume)\n",
    "    bleu.append(score)\n",
    "    "
   ]
  },
  {
   "cell_type": "code",
   "execution_count": 29,
   "metadata": {},
   "outputs": [
    {
     "data": {
      "text/html": [
       "<div>\n",
       "<style scoped>\n",
       "    .dataframe tbody tr th:only-of-type {\n",
       "        vertical-align: middle;\n",
       "    }\n",
       "\n",
       "    .dataframe tbody tr th {\n",
       "        vertical-align: top;\n",
       "    }\n",
       "\n",
       "    .dataframe thead th {\n",
       "        text-align: right;\n",
       "    }\n",
       "</style>\n",
       "<table border=\"1\" class=\"dataframe\">\n",
       "  <thead>\n",
       "    <tr style=\"text-align: right;\">\n",
       "      <th></th>\n",
       "      <th>epochs</th>\n",
       "      <th>data_volume</th>\n",
       "      <th>bleu_score</th>\n",
       "    </tr>\n",
       "  </thead>\n",
       "  <tbody>\n",
       "    <tr>\n",
       "      <th>0</th>\n",
       "      <td>20</td>\n",
       "      <td>200</td>\n",
       "      <td>0.140</td>\n",
       "    </tr>\n",
       "    <tr>\n",
       "      <th>1</th>\n",
       "      <td>20</td>\n",
       "      <td>800</td>\n",
       "      <td>0.614</td>\n",
       "    </tr>\n",
       "    <tr>\n",
       "      <th>2</th>\n",
       "      <td>20</td>\n",
       "      <td>1000</td>\n",
       "      <td>0.456</td>\n",
       "    </tr>\n",
       "    <tr>\n",
       "      <th>3</th>\n",
       "      <td>20</td>\n",
       "      <td>1400</td>\n",
       "      <td>0.675</td>\n",
       "    </tr>\n",
       "    <tr>\n",
       "      <th>4</th>\n",
       "      <td>20</td>\n",
       "      <td>1600</td>\n",
       "      <td>0.704</td>\n",
       "    </tr>\n",
       "  </tbody>\n",
       "</table>\n",
       "</div>"
      ],
      "text/plain": [
       "  epochs data_volume  bleu_score\n",
       "0     20         200       0.140\n",
       "1     20         800       0.614\n",
       "2     20        1000       0.456\n",
       "3     20        1400       0.675\n",
       "4     20        1600       0.704"
      ]
     },
     "execution_count": 29,
     "metadata": {},
     "output_type": "execute_result"
    }
   ],
   "source": [
    "df_bleu_score = pd.DataFrame({'epochs' : epoch_loop, 'data_volume' : data_loop, 'bleu_score' : bleu})\n",
    "df_bleu_score.head()"
   ]
  },
  {
   "cell_type": "code",
   "execution_count": null,
   "metadata": {
    "scrolled": true
   },
   "outputs": [],
   "source": [
    "import matplotlib.pyplot as plt\n",
    "\n",
    "epochs_20_scores = df_metrics_scores[df_metrics_scores['epochs'] == 20]\n",
    "epochs_30_scores = df_metrics_scores[df_metrics_scores['epochs'] == 30]\n",
    "epochs_40_scores = df_metrics_scores[df_metrics_scores['epochs'] == 40]\n",
    "data_volume_list = df_metrics_scores['data_volume'].unique()\n",
    "\n",
    "fig, axes = plt.subplots(nrows=2, ncols=2, figsize=(12,8))\n",
    "\n",
    "axes[0, 0].plot(data_volume_list, epochs_20_scores['acc'], label='acc_20', marker='o')\n",
    "axes[0, 0].plot(data_volume_list, epochs_30_scores['acc'], label='acc_30', marker='o')\n",
    "axes[0, 0].plot(data_volume_list, epochs_40_scores['acc'], label='acc_40', marker='o')\n",
    "axes[0, 0].set_title('Training Accuracy')\n",
    "axes[0, 0].set_xlabel('Data volume')\n",
    "axes[0, 0].set_ylabel('Scores')\n",
    "axes[0, 0].set_ylim(0, 1)\n",
    "axes[0, 0].legend(loc='center right')\n",
    "\n",
    "axes[0, 1].plot(data_volume_list, epochs_20_scores['val_acc'], label='val_acc_20', marker='o')\n",
    "axes[0, 1].plot(data_volume_list, epochs_30_scores['val_acc'], label='val_acc_30', marker='o')\n",
    "axes[0, 1].plot(data_volume_list, epochs_40_scores['val_acc'], label='val_acc_40', marker='o')\n",
    "axes[0, 1].set_title('Validation Accuracy')\n",
    "axes[0, 1].set_xlabel('Data volume')\n",
    "axes[0, 1].set_ylabel('Scores')\n",
    "axes[0, 1].set_ylim(0, 1)\n",
    "axes[0, 1].legend(loc='center right')\n",
    "\n",
    "axes[1, 0].plot(data_volume_list, epochs_20_scores['loss'], label='loss_20', marker='o')\n",
    "axes[1, 0].plot(data_volume_list, epochs_30_scores['loss'], label='loss_30', marker='o')\n",
    "axes[1, 0].plot(data_volume_list, epochs_40_scores['loss'], label='loss_40', marker='o')\n",
    "axes[1, 0].set_title('Training Loss')\n",
    "axes[1, 0].set_xlabel('Data volume')\n",
    "axes[1, 0].set_ylabel('Scores')\n",
    "axes[1, 0].set_ylim(0, 4)\n",
    "axes[1, 0].legend(loc='center right')\n",
    "\n",
    "axes[1, 1].plot(data_volume_list, epochs_20_scores['val_loss'], label='val_loss_20', marker='o')\n",
    "axes[1, 1].plot(data_volume_list, epochs_30_scores['val_loss'], label='val_loss_30', marker='o')\n",
    "axes[1, 1].plot(data_volume_list, epochs_40_scores['val_loss'], label='val_loss_40', marker='o')\n",
    "axes[1, 1].set_title('Validation Loss')\n",
    "axes[1, 1].set_xlabel('Data volume')\n",
    "axes[1, 1].set_ylabel('Scores')\n",
    "axes[1, 1].set_ylim(0, 6)\n",
    "axes[1, 1].legend(loc='center right')\n",
    "\n",
    "plt.tight_layout()\n",
    "plt.savefig('team_3_image_captioning_metrics_scores.jpg', format='jpg', dpi=300)\n",
    "plt.show()\n"
   ]
  },
  {
   "cell_type": "code",
   "execution_count": 41,
   "metadata": {},
   "outputs": [
    {
     "data": {
      "image/png": "[encoded data removed]",
      "text/plain": [
       "<Figure size 600x400 with 1 Axes>"
      ]
     },
     "metadata": {},
     "output_type": "display_data"
    }
   ],
   "source": [
    "import matplotlib.pyplot as plt\n",
    "\n",
    "epochs_20_bleu = df_bleu_score[df_bleu_score['epochs'] == '20']\n",
    "epochs_30_bleu = df_bleu_score[df_bleu_score['epochs'] == '30']\n",
    "epochs_40_bleu = df_bleu_score[df_bleu_score['epochs'] == '40']\n",
    "data_index = df_bleu_score['data_volume'].unique()\n",
    "\n",
    "plt.figure(figsize=(6, 4))\n",
    "plt.plot(data_index, epochs_20_bleu['bleu_score'], label='epochs_20', marker='o')\n",
    "plt.plot(data_index, epochs_30_bleu['bleu_score'], label='epochs_30', marker='o')\n",
    "plt.plot(data_index, epochs_40_bleu['bleu_score'], label='epochs_40', marker='o')\n",
    "plt.title('BLEU Score')\n",
    "plt.xlabel('Data volume')\n",
    "plt.ylabel('Scores')\n",
    "plt.ylim(0, 1)\n",
    "plt.legend()\n",
    "plt.tight_layout()\n",
    "plt.savefig('team_3_image_captioning_bleu_scores.jpg', format='jpg', dpi=300)\n",
    "plt.show()"
   ]
  },
  {
   "cell_type": "code",
   "execution_count": 38,
   "metadata": {},
   "outputs": [
    {
     "data": {
      "text/html": [
       "<div>\n",
       "<style scoped>\n",
       "    .dataframe tbody tr th:only-of-type {\n",
       "        vertical-align: middle;\n",
       "    }\n",
       "\n",
       "    .dataframe tbody tr th {\n",
       "        vertical-align: top;\n",
       "    }\n",
       "\n",
       "    .dataframe thead th {\n",
       "        text-align: right;\n",
       "    }\n",
       "</style>\n",
       "<table border=\"1\" class=\"dataframe\">\n",
       "  <thead>\n",
       "    <tr style=\"text-align: right;\">\n",
       "      <th></th>\n",
       "      <th>epochs</th>\n",
       "      <th>data_volume</th>\n",
       "      <th>bleu_score</th>\n",
       "    </tr>\n",
       "  </thead>\n",
       "  <tbody>\n",
       "    <tr>\n",
       "      <th>0</th>\n",
       "      <td>20</td>\n",
       "      <td>200</td>\n",
       "      <td>0.140</td>\n",
       "    </tr>\n",
       "    <tr>\n",
       "      <th>1</th>\n",
       "      <td>20</td>\n",
       "      <td>800</td>\n",
       "      <td>0.614</td>\n",
       "    </tr>\n",
       "    <tr>\n",
       "      <th>2</th>\n",
       "      <td>20</td>\n",
       "      <td>1000</td>\n",
       "      <td>0.456</td>\n",
       "    </tr>\n",
       "    <tr>\n",
       "      <th>3</th>\n",
       "      <td>20</td>\n",
       "      <td>1400</td>\n",
       "      <td>0.675</td>\n",
       "    </tr>\n",
       "    <tr>\n",
       "      <th>4</th>\n",
       "      <td>20</td>\n",
       "      <td>1600</td>\n",
       "      <td>0.704</td>\n",
       "    </tr>\n",
       "    <tr>\n",
       "      <th>5</th>\n",
       "      <td>20</td>\n",
       "      <td>1900</td>\n",
       "      <td>0.773</td>\n",
       "    </tr>\n",
       "  </tbody>\n",
       "</table>\n",
       "</div>"
      ],
      "text/plain": [
       "  epochs data_volume  bleu_score\n",
       "0     20         200       0.140\n",
       "1     20         800       0.614\n",
       "2     20        1000       0.456\n",
       "3     20        1400       0.675\n",
       "4     20        1600       0.704\n",
       "5     20        1900       0.773"
      ]
     },
     "execution_count": 38,
     "metadata": {},
     "output_type": "execute_result"
    }
   ],
   "source": [
    "df_bleu_score[df_bleu_score['epochs'] == '20']"
   ]
  }
 ],
 "metadata": {
  "accelerator": "GPU",
  "colab": {
   "gpuType": "T4",
   "machine_shape": "hm",
   "provenance": []
  },
  "kernelspec": {
   "display_name": "Python 3 (ipykernel)",
   "language": "python",
   "name": "python3"
  },
  "language_info": {
   "codemirror_mode": {
    "name": "ipython",
    "version": 3
   },
   "file_extension": ".py",
   "mimetype": "text/x-python",
   "name": "python",
   "nbconvert_exporter": "python",
   "pygments_lexer": "ipython3",
   "version": "3.10.11"
  }
 },
 "nbformat": 4,
 "nbformat_minor": 4
}
