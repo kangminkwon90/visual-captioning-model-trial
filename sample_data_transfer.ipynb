{
 "cells": [
  {
   "cell_type": "code",
   "execution_count": 1,
   "id": "2ca0893d",
   "metadata": {},
   "outputs": [],
   "source": [
    "import pandas as pd\n",
    "import os\n",
    "import shutil"
   ]
  },
  {
   "cell_type": "code",
   "execution_count": 2,
   "id": "8930c218",
   "metadata": {},
   "outputs": [],
   "source": [
    "df = pd.read_csv('./train_sample_2/train_sample_2000.csv', encoding='utf-8')"
   ]
  },
  {
   "cell_type": "code",
   "execution_count": 3,
   "id": "8bd8bb62",
   "metadata": {},
   "outputs": [
    {
     "name": "stdout",
     "output_type": "stream",
     "text": [
      "<class 'pandas.core.frame.DataFrame'>\n",
      "RangeIndex: 2002 entries, 0 to 2001\n",
      "Data columns (total 6 columns):\n",
      " #   Column       Non-Null Count  Dtype \n",
      "---  ------       --------------  ----- \n",
      " 0   id           2002 non-null   int64 \n",
      " 1   height       2002 non-null   int64 \n",
      " 2   width        2002 non-null   int64 \n",
      " 3   file_name    2002 non-null   object\n",
      " 4   category     2002 non-null   object\n",
      " 5   sentence_en  2002 non-null   object\n",
      "dtypes: int64(3), object(3)\n",
      "memory usage: 94.0+ KB\n"
     ]
    }
   ],
   "source": [
    "df.info()"
   ]
  },
  {
   "cell_type": "code",
   "execution_count": 4,
   "id": "24572ac5",
   "metadata": {},
   "outputs": [],
   "source": [
    "import pandas as pd\n",
    "import os\n",
    "import shutil\n",
    "\n",
    "src_dir = './sample_image_3000'\n",
    "dst_dir = './train_sample_2/image'\n",
    "\n",
    "if not os.path.exists(dst_dir):\n",
    "    os.mkdirs(dst_dir)\n",
    "\n",
    "for file_name in df['file_name']:\n",
    "    src_file_path = os.path.join(src_dir, file_name)\n",
    "    dst_file_path = os.path.join(dst_dir, file_name)\n",
    "    \n",
    "    if os.path.exists(src_file_path):\n",
    "        shutil.copy(src_file_path, dst_file_path)"
   ]
  },
  {
   "cell_type": "code",
   "execution_count": null,
   "id": "8dc421de",
   "metadata": {},
   "outputs": [],
   "source": []
  },
  {
   "cell_type": "code",
   "execution_count": null,
   "id": "a1f9985d",
   "metadata": {},
   "outputs": [],
   "source": []
  },
  {
   "cell_type": "code",
   "execution_count": null,
   "id": "6596b147",
   "metadata": {},
   "outputs": [],
   "source": []
  }
 ],
 "metadata": {
  "kernelspec": {
   "display_name": "Python 3 (ipykernel)",
   "language": "python",
   "name": "python3"
  },
  "language_info": {
   "codemirror_mode": {
    "name": "ipython",
    "version": 3
   },
   "file_extension": ".py",
   "mimetype": "text/x-python",
   "name": "python",
   "nbconvert_exporter": "python",
   "pygments_lexer": "ipython3",
   "version": "3.11.5"
  }
 },
 "nbformat": 4,
 "nbformat_minor": 5
}
