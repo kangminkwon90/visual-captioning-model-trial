{
 "cells": [
  {
   "cell_type": "code",
   "execution_count": 1,
   "id": "9e570580",
   "metadata": {},
   "outputs": [],
   "source": [
    "import pandas as pd\n",
    "import numpy as np\n",
    "import os\n",
    "import json"
   ]
  },
  {
   "cell_type": "code",
   "execution_count": 2,
   "id": "b4907e7a",
   "metadata": {},
   "outputs": [],
   "source": [
    "# 대상 폴더에서 데이터프레임 불러오는 반복문 함수\n",
    "    ## df_1,2,3 이렇게 반복 변수에 순차자정\n",
    "    \n",
    "def load_csv_files(folder_path):\n",
    "    data = {}\n",
    "    counter = 1\n",
    "    \n",
    "    try:\n",
    "        for file in os.listdir(folder_path):\n",
    "            if file.endswith(\".csv\"):\n",
    "                file_path = os.path.join(folder_path, file)\n",
    "                df = pd.read_csv(file_path)\n",
    "                data[f'df_{counter}'] = df\n",
    "                counter += 1\n",
    "                \n",
    "        return data\n",
    "    except Exception as e:\n",
    "        print(f\"Error: {e}\")\n",
    "        return {}"
   ]
  },
  {
   "cell_type": "code",
   "execution_count": 3,
   "id": "06c760e5",
   "metadata": {
    "scrolled": true
   },
   "outputs": [
    {
     "name": "stdout",
     "output_type": "stream",
     "text": [
      "{'df_1':               video_name  width  height  frame_rate  duration  total_frame  \\\n",
      "0  D3_DA_0527_000042.mp4   1920    1080          30     180.0       5400.0   \n",
      "\n",
      "       film_method filmed_date domain_id   place  ... f1_consis_avg  \\\n",
      "0  filmed_directly  2022-06-22        DA  indoor  ...             1   \n",
      "\n",
      "   annotated_date version  revision_history           seg_annotator_id  \\\n",
      "0      2022-05-27       1               NaN  [132, 341, 548, 947, 768]   \n",
      "\n",
      "            seg_confirmer_id distributor          describe_ko  \\\n",
      "0  [515, 300, 679, 730, 148]  selectstar  여자가 물을 마시며 컴퓨터를 한다.   \n",
      "\n",
      "                             describe_en  \\\n",
      "0  The woman drinks water and computers.   \n",
      "\n",
      "                                           sentences  \n",
      "0  [{'timestamps': ['00:00.00000', '00:04.00000']...  \n",
      "\n",
      "[1 rows x 21 columns], 'df_2':               video_name  width  height  frame_rate  duration  total_frame  \\\n",
      "0  D3_DA_0601_000001.mp4   1920    1080          30     300.0       9000.0   \n",
      "\n",
      "       film_method filmed_date domain_id    place  ... f1_consis_avg  \\\n",
      "0  filmed_directly  2022-08-04        DA  outdoor  ...             1   \n",
      "\n",
      "   annotated_date version  revision_history           seg_annotator_id  \\\n",
      "0      2022-06-01       1               NaN  [739, 596, 925, 873, 551]   \n",
      "\n",
      "            seg_confirmer_id distributor           describe_ko  \\\n",
      "0  [599, 227, 826, 259, 395]  selectstar  여자가 물병을 가지고 앉아 대화한다.   \n",
      "\n",
      "                              describe_en  \\\n",
      "0  The woman sits with a bottle of water.   \n",
      "\n",
      "                                           sentences  \n",
      "0  [{'timestamps': ['00:00.00000', '00:04.00000']...  \n",
      "\n",
      "[1 rows x 21 columns], 'df_3':               video_name  width  height  frame_rate  duration  total_frame  \\\n",
      "0  D3_DA_0603_000001.mp4   1920    1080          30     180.0       5400.0   \n",
      "\n",
      "       film_method filmed_date domain_id    place  ... f1_consis_avg  \\\n",
      "0  filmed_directly  2022-06-03        DA  outdoor  ...             1   \n",
      "\n",
      "   annotated_date version  revision_history           seg_annotator_id  \\\n",
      "0      2022-08-02       1               NaN  [108, 830, 194, 457, 967]   \n",
      "\n",
      "            seg_confirmer_id distributor           describe_ko  \\\n",
      "0  [271, 117, 940, 128, 542]  selectstar  여자가 의자에 누워 스마트폰을 본다.   \n",
      "\n",
      "                                       describe_en  \\\n",
      "0  A woman lies on a chair and looks at her phone.   \n",
      "\n",
      "                                           sentences  \n",
      "0  [{'timestamps': ['00:00.00000', '00:09.00000']...  \n",
      "\n",
      "[1 rows x 21 columns], 'df_4':               video_name  width  height  frame_rate  duration  total_frame  \\\n",
      "0  D3_DA_0609_000001.mp4   1920    1080          30     300.0       9000.0   \n",
      "\n",
      "       film_method filmed_date domain_id   place  ... f1_consis_avg  \\\n",
      "0  filmed_directly  2022-06-09        DA  indoor  ...             1   \n",
      "\n",
      "   annotated_date version  revision_history         seg_annotator_id  \\\n",
      "0      2022-08-01       1               NaN  [278, 863, 705, 8, 697]   \n",
      "\n",
      "            seg_confirmer_id distributor  describe_ko  \\\n",
      "0  [205, 425, 391, 780, 746]  selectstar  여자가 이를 닦는다.   \n",
      "\n",
      "                  describe_en  \\\n",
      "0  A woman brushes her teeth.   \n",
      "\n",
      "                                           sentences  \n",
      "0  [{'timestamps': ['00:00.00000', '00:38.00000']...  \n",
      "\n",
      "[1 rows x 21 columns], 'df_5':               video_name  width  height  frame_rate  duration  total_frame  \\\n",
      "0  D3_DA_0610_000001.mp4   1920    1080          30     180.0       5400.0   \n",
      "\n",
      "       film_method filmed_date domain_id    place  ... f1_consis_avg  \\\n",
      "0  filmed_directly  2022-06-10        DA  outdoor  ...             1   \n",
      "\n",
      "   annotated_date version  revision_history           seg_annotator_id  \\\n",
      "0      2022-08-03       1               NaN  [580, 291, 948, 909, 527]   \n",
      "\n",
      "            seg_confirmer_id distributor       describe_ko  \\\n",
      "0  [663, 609, 261, 799, 408]  selectstar  남자가 물병을 살펴보고 있다.   \n",
      "\n",
      "                          describe_en  \\\n",
      "0  A man is examining a water bottle.   \n",
      "\n",
      "                                           sentences  \n",
      "0  [{'timestamps': ['00:00.00000', '00:03.00000']...  \n",
      "\n",
      "[1 rows x 21 columns]}\n"
     ]
    }
   ],
   "source": [
    "folder_path = './sample_5'\n",
    "data = load_csv_files(folder_path)\n",
    "print(data)"
   ]
  },
  {
   "cell_type": "code",
   "execution_count": 4,
   "id": "069fb522",
   "metadata": {
    "scrolled": true
   },
   "outputs": [
    {
     "data": {
      "text/html": [
       "<div>\n",
       "<style scoped>\n",
       "    .dataframe tbody tr th:only-of-type {\n",
       "        vertical-align: middle;\n",
       "    }\n",
       "\n",
       "    .dataframe tbody tr th {\n",
       "        vertical-align: top;\n",
       "    }\n",
       "\n",
       "    .dataframe thead th {\n",
       "        text-align: right;\n",
       "    }\n",
       "</style>\n",
       "<table border=\"1\" class=\"dataframe\">\n",
       "  <thead>\n",
       "    <tr style=\"text-align: right;\">\n",
       "      <th></th>\n",
       "      <th>video_name</th>\n",
       "      <th>width</th>\n",
       "      <th>height</th>\n",
       "      <th>frame_rate</th>\n",
       "      <th>duration</th>\n",
       "      <th>total_frame</th>\n",
       "      <th>film_method</th>\n",
       "      <th>filmed_date</th>\n",
       "      <th>domain_id</th>\n",
       "      <th>place</th>\n",
       "      <th>...</th>\n",
       "      <th>f1_consis_avg</th>\n",
       "      <th>annotated_date</th>\n",
       "      <th>version</th>\n",
       "      <th>revision_history</th>\n",
       "      <th>seg_annotator_id</th>\n",
       "      <th>seg_confirmer_id</th>\n",
       "      <th>distributor</th>\n",
       "      <th>describe_ko</th>\n",
       "      <th>describe_en</th>\n",
       "      <th>sentences</th>\n",
       "    </tr>\n",
       "  </thead>\n",
       "  <tbody>\n",
       "    <tr>\n",
       "      <th>0</th>\n",
       "      <td>D3_DA_0603_000001.mp4</td>\n",
       "      <td>1920</td>\n",
       "      <td>1080</td>\n",
       "      <td>30</td>\n",
       "      <td>180.0</td>\n",
       "      <td>5400.0</td>\n",
       "      <td>filmed_directly</td>\n",
       "      <td>2022-06-03</td>\n",
       "      <td>DA</td>\n",
       "      <td>outdoor</td>\n",
       "      <td>...</td>\n",
       "      <td>1</td>\n",
       "      <td>2022-08-02</td>\n",
       "      <td>1</td>\n",
       "      <td>NaN</td>\n",
       "      <td>[108, 830, 194, 457, 967]</td>\n",
       "      <td>[271, 117, 940, 128, 542]</td>\n",
       "      <td>selectstar</td>\n",
       "      <td>여자가 의자에 누워 스마트폰을 본다.</td>\n",
       "      <td>A woman lies on a chair and looks at her phone.</td>\n",
       "      <td>[{'timestamps': ['00:00.00000', '00:09.00000']...</td>\n",
       "    </tr>\n",
       "  </tbody>\n",
       "</table>\n",
       "<p>1 rows × 21 columns</p>\n",
       "</div>"
      ],
      "text/plain": [
       "              video_name  width  height  frame_rate  duration  total_frame  \\\n",
       "0  D3_DA_0603_000001.mp4   1920    1080          30     180.0       5400.0   \n",
       "\n",
       "       film_method filmed_date domain_id    place  ... f1_consis_avg  \\\n",
       "0  filmed_directly  2022-06-03        DA  outdoor  ...             1   \n",
       "\n",
       "   annotated_date version  revision_history           seg_annotator_id  \\\n",
       "0      2022-08-02       1               NaN  [108, 830, 194, 457, 967]   \n",
       "\n",
       "            seg_confirmer_id distributor           describe_ko  \\\n",
       "0  [271, 117, 940, 128, 542]  selectstar  여자가 의자에 누워 스마트폰을 본다.   \n",
       "\n",
       "                                       describe_en  \\\n",
       "0  A woman lies on a chair and looks at her phone.   \n",
       "\n",
       "                                           sentences  \n",
       "0  [{'timestamps': ['00:00.00000', '00:09.00000']...  \n",
       "\n",
       "[1 rows x 21 columns]"
      ]
     },
     "execution_count": 4,
     "metadata": {},
     "output_type": "execute_result"
    }
   ],
   "source": [
    "data['df_3'].head()"
   ]
  },
  {
   "cell_type": "code",
   "execution_count": 5,
   "id": "a79bef43",
   "metadata": {},
   "outputs": [
    {
     "data": {
      "text/plain": [
       "5"
      ]
     },
     "execution_count": 5,
     "metadata": {},
     "output_type": "execute_result"
    }
   ],
   "source": [
    "len(data)"
   ]
  },
  {
   "cell_type": "code",
   "execution_count": 6,
   "id": "f1d607d1",
   "metadata": {
    "scrolled": true
   },
   "outputs": [
    {
     "data": {
      "text/plain": [
       "dict_keys(['df_1', 'df_2', 'df_3', 'df_4', 'df_5'])"
      ]
     },
     "execution_count": 6,
     "metadata": {},
     "output_type": "execute_result"
    }
   ],
   "source": [
    "data.keys()"
   ]
  },
  {
   "cell_type": "code",
   "execution_count": 18,
   "id": "5808fdc3",
   "metadata": {
    "scrolled": true
   },
   "outputs": [
    {
     "data": {
      "text/plain": [
       "Index(['video_name', 'width', 'height', 'frame_rate', 'duration',\n",
       "       'total_frame', 'film_method', 'filmed_date', 'domain_id', 'place',\n",
       "       'f1_consis', 'f1_consis_avg', 'annotated_date', 'version',\n",
       "       'revision_history', 'seg_annotator_id', 'seg_confirmer_id',\n",
       "       'distributor', 'describe_ko', 'describe_en', 'sentences'],\n",
       "      dtype='object')"
      ]
     },
     "execution_count": 18,
     "metadata": {},
     "output_type": "execute_result"
    }
   ],
   "source": [
    "data['df_1'].columns"
   ]
  },
  {
   "cell_type": "code",
   "execution_count": 38,
   "id": "dba0716a",
   "metadata": {
    "scrolled": true
   },
   "outputs": [
    {
     "name": "stdout",
     "output_type": "stream",
     "text": [
      "df_1:\n",
      "df_2:\n",
      "df_3:\n",
      "df_4:\n",
      "df_5:\n"
     ]
    }
   ],
   "source": [
    "## 불러온 데이터프레임에서 필요한 컬럼만 추출하는 반복문\n",
    "\n",
    "df_sel = {}\n",
    "for key, df in data.items():\n",
    "    df_sel[key] = df[['video_name', 'describe_en', 'sentences']].copy()\n",
    "    \n",
    "for key, df in df_sel.items():\n",
    "    print(f\"{key}:\")"
   ]
  },
  {
   "cell_type": "code",
   "execution_count": 39,
   "id": "639b85cd",
   "metadata": {},
   "outputs": [
    {
     "data": {
      "text/html": [
       "<div>\n",
       "<style scoped>\n",
       "    .dataframe tbody tr th:only-of-type {\n",
       "        vertical-align: middle;\n",
       "    }\n",
       "\n",
       "    .dataframe tbody tr th {\n",
       "        vertical-align: top;\n",
       "    }\n",
       "\n",
       "    .dataframe thead th {\n",
       "        text-align: right;\n",
       "    }\n",
       "</style>\n",
       "<table border=\"1\" class=\"dataframe\">\n",
       "  <thead>\n",
       "    <tr style=\"text-align: right;\">\n",
       "      <th></th>\n",
       "      <th>video_name</th>\n",
       "      <th>describe_en</th>\n",
       "      <th>sentences</th>\n",
       "    </tr>\n",
       "  </thead>\n",
       "  <tbody>\n",
       "    <tr>\n",
       "      <th>0</th>\n",
       "      <td>D3_DA_0527_000042.mp4</td>\n",
       "      <td>The woman drinks water and computers.</td>\n",
       "      <td>[{'timestamps': ['00:00.00000', '00:04.00000']...</td>\n",
       "    </tr>\n",
       "  </tbody>\n",
       "</table>\n",
       "</div>"
      ],
      "text/plain": [
       "              video_name                            describe_en  \\\n",
       "0  D3_DA_0527_000042.mp4  The woman drinks water and computers.   \n",
       "\n",
       "                                           sentences  \n",
       "0  [{'timestamps': ['00:00.00000', '00:04.00000']...  "
      ]
     },
     "execution_count": 39,
     "metadata": {},
     "output_type": "execute_result"
    }
   ],
   "source": [
    "df_sel['df_1']"
   ]
  },
  {
   "cell_type": "code",
   "execution_count": null,
   "id": "013f6b84",
   "metadata": {},
   "outputs": [],
   "source": [
    "# 전처리 작업\n",
    "    ## 모든 전처리 코드는 반복문 또는 함수로 생성하기(각각 df에 반복적용 해야 하니까)"
   ]
  },
  {
   "cell_type": "code",
   "execution_count": 42,
   "id": "894ddc77",
   "metadata": {},
   "outputs": [
    {
     "data": {
      "text/plain": [
       "dict_keys(['df_1', 'df_2', 'df_3', 'df_4', 'df_5'])"
      ]
     },
     "execution_count": 42,
     "metadata": {},
     "output_type": "execute_result"
    }
   ],
   "source": [
    "df_sel.keys()"
   ]
  },
  {
   "cell_type": "code",
   "execution_count": 43,
   "id": "d2103112",
   "metadata": {},
   "outputs": [
    {
     "data": {
      "text/plain": [
       "\"[{'timestamps': ['00:00.00000', '00:04.00000'], 'sentences_ko': '여자가 냉장고 앞으로 걸어온다.', 'sentences_en': 'The woman walks in front of the refrigerator.'}, {'timestamps': ['00:04.00000', '00:12.00000'], 'sentences_ko': '여자가 냉장고에서 물을 꺼낸다.', 'sentences_en': 'The woman removes the water from the refrigerator.'}, {'timestamps': ['00:12.00000', '00:27.00000'], 'sentences_ko': '여자가 텀블러에 물을 붓는다.', 'sentences_en': 'The woman pours water into the tumbler.'}, {'timestamps': ['00:27.00000', '00:34.00000'], 'sentences_ko': '여자가 텀블러 뚜껑을 닫는다.', 'sentences_en': 'The woman closes the tumbler lid.'}, {'timestamps': ['00:34.00000', '00:40.00000'], 'sentences_ko': '여자가 텀블러와 물을 들고 자리로 이동한다.', 'sentences_en': 'The woman goes to the seat with a tumbler and water.'}, {'timestamps': ['00:40.00000', '00:47.00000'], 'sentences_ko': '여자가 자리에 앉는다.', 'sentences_en': 'The woman sits in place.'}, {'timestamps': ['00:47.00000', '00:52.00000'], 'sentences_ko': '여자가 컴퓨터를 본다.', 'sentences_en': 'The woman sees the computer.'}]\""
      ]
     },
     "execution_count": 43,
     "metadata": {},
     "output_type": "execute_result"
    }
   ],
   "source": [
    "df_sel['df_1']['sentences'][0]"
   ]
  },
  {
   "cell_type": "code",
   "execution_count": 86,
   "id": "724f18b5",
   "metadata": {},
   "outputs": [],
   "source": [
    "## 개별 데이터프레임 전처리(문자정규화, 컬럼데이터 추출) 함수\n",
    "\n",
    "def data_split(df):\n",
    "    \n",
    "    new_df = pd.DataFrame(columns=['video_name', 'describe_en', 'data'])\n",
    "    row_to_add = []\n",
    "    \n",
    "    for index, row in df.iterrows():\n",
    "        sentences_data = eval(row['sentences'])\n",
    "        for data in sentences_data:\n",
    "            new_row = {'video_name': row['video_name'],\\\n",
    "                       'describe_en': row['describe_en'], 'data': data}\n",
    "            row_to_add.append(new_row)\n",
    "            \n",
    "    new_df = pd.concat([new_df, pd.DataFrame(row_to_add)], ignore_index=True)\n",
    "        \n",
    "    new_df['time_start'] = None\n",
    "    new_df['time_end'] = None\n",
    "    new_df['sentences_en'] = None\n",
    "\n",
    "    for index, row in new_df.iterrows():\n",
    "        data = row['data']\n",
    "        new_df.at[index, 'time_start'] = data['timestamps'][0]\n",
    "        new_df.at[index, 'time_end'] = data['timestamps'][1]\n",
    "        new_df.at[index, 'sentences_en'] = data['sentences_en']\n",
    "        \n",
    "    new_df.drop('data', axis=1, inplace=True)\n",
    "    new_df['describe_en'] = new_df['describe_en'].str.lower().str.replace('[^a-z0-9\\s]', '', regex=True)\n",
    "    new_df['sentences_en'] = new_df['sentences_en'].str.lower().str.replace('[^a-z0-9\\s]', '', regex=True)\n",
    "    \n",
    "    return new_df\n",
    "    "
   ]
  },
  {
   "cell_type": "code",
   "execution_count": 91,
   "id": "89508ad9",
   "metadata": {
    "scrolled": true
   },
   "outputs": [
    {
     "name": "stdout",
     "output_type": "stream",
     "text": [
      "df_1:\n",
      "              video_name                           describe_en   time_start  \\\n",
      "0  D3_DA_0527_000042.mp4  the woman drinks water and computers  00:00.00000   \n",
      "1  D3_DA_0527_000042.mp4  the woman drinks water and computers  00:04.00000   \n",
      "2  D3_DA_0527_000042.mp4  the woman drinks water and computers  00:12.00000   \n",
      "3  D3_DA_0527_000042.mp4  the woman drinks water and computers  00:27.00000   \n",
      "4  D3_DA_0527_000042.mp4  the woman drinks water and computers  00:34.00000   \n",
      "\n",
      "      time_end                                       sentences_en  \n",
      "0  00:04.00000       the woman walks in front of the refrigerator  \n",
      "1  00:12.00000  the woman removes the water from the refrigerator  \n",
      "2  00:27.00000             the woman pours water into the tumbler  \n",
      "3  00:34.00000                   the woman closes the tumbler lid  \n",
      "4  00:40.00000  the woman goes to the seat with a tumbler and ...   \n",
      "\n",
      "df_2:\n",
      "              video_name                            describe_en   time_start  \\\n",
      "0  D3_DA_0601_000001.mp4  the woman sits with a bottle of water  00:00.00000   \n",
      "1  D3_DA_0601_000001.mp4  the woman sits with a bottle of water  00:04.00000   \n",
      "2  D3_DA_0601_000001.mp4  the woman sits with a bottle of water  00:30.00000   \n",
      "3  D3_DA_0601_000001.mp4  the woman sits with a bottle of water  00:46.00000   \n",
      "4  D3_DA_0601_000001.mp4  the woman sits with a bottle of water  00:59.00000   \n",
      "\n",
      "      time_end                           sentences_en  \n",
      "0  00:04.00000            the woman sits on the fence  \n",
      "1  00:30.00000  the woman sits on the fence and talks  \n",
      "2  00:46.00000    the woman is holding a water bottle  \n",
      "3  00:58.00000                   the woman is talking  \n",
      "4  01:20.00000                 the woman drinks water   \n",
      "\n",
      "df_3:\n",
      "              video_name                                     describe_en  \\\n",
      "0  D3_DA_0603_000001.mp4  a woman lies on a chair and looks at her phone   \n",
      "1  D3_DA_0603_000001.mp4  a woman lies on a chair and looks at her phone   \n",
      "2  D3_DA_0603_000001.mp4  a woman lies on a chair and looks at her phone   \n",
      "3  D3_DA_0603_000001.mp4  a woman lies on a chair and looks at her phone   \n",
      "4  D3_DA_0603_000001.mp4  a woman lies on a chair and looks at her phone   \n",
      "\n",
      "    time_start     time_end                sentences_en  \n",
      "0  00:00.00000  00:09.00000  a woman looks at her phone  \n",
      "1  00:09.00000  00:49.00000       a woman is stretching  \n",
      "2  00:49.00000  01:57.00000     a woman lies on a chair  \n",
      "3  01:57.00000  02:39.00000  a woman looks at her phone  \n",
      "4  02:39.00000  03:00.00000     a woman holds dumbbells   \n",
      "\n",
      "df_4:\n",
      "              video_name                describe_en   time_start     time_end  \\\n",
      "0  D3_DA_0609_000001.mp4  a woman brushes her teeth  00:00.00000  00:38.00000   \n",
      "1  D3_DA_0609_000001.mp4  a woman brushes her teeth  00:38.00000  03:00.00000   \n",
      "2  D3_DA_0609_000001.mp4  a woman brushes her teeth  03:00.00000  03:30.00000   \n",
      "3  D3_DA_0609_000001.mp4  a woman brushes her teeth  03:30.00000  05:00.00000   \n",
      "\n",
      "                          sentences_en  \n",
      "0             a woman prepares to wash  \n",
      "1            a woman brushes her teeth  \n",
      "2  a woman rinses her mouth with water  \n",
      "3            a woman brushes her teeth   \n",
      "\n",
      "df_5:\n",
      "              video_name                        describe_en   time_start  \\\n",
      "0  D3_DA_0610_000001.mp4  a man is examining a water bottle  00:00.00000   \n",
      "1  D3_DA_0610_000001.mp4  a man is examining a water bottle  00:03.00000   \n",
      "2  D3_DA_0610_000001.mp4  a man is examining a water bottle  00:20.00000   \n",
      "3  D3_DA_0610_000001.mp4  a man is examining a water bottle  00:36.00000   \n",
      "4  D3_DA_0610_000001.mp4  a man is examining a water bottle  01:05.00000   \n",
      "\n",
      "      time_end                   sentences_en  \n",
      "0  00:03.00000                a man is moving  \n",
      "1  00:20.00000  a man examines a water bottle  \n",
      "2  00:36.00000             a man drinks water  \n",
      "3  01:05.00000  a man examines a water bottle  \n",
      "4  01:16.00000             a man drinks water   \n",
      "\n"
     ]
    }
   ],
   "source": [
    "## 전처리 함수 반복실행\n",
    "\n",
    "key_list = list(df_sel.keys())\n",
    "\n",
    "df_prep = {}\n",
    "\n",
    "for key in key_list:\n",
    "    df_prep[key] = data_split(df_sel[key])\n",
    "    \n",
    "for key in df_prep:\n",
    "    print(f\"{key}:\")\n",
    "    print(df_prep[key].head(), \"\\n\")"
   ]
  },
  {
   "cell_type": "code",
   "execution_count": 92,
   "id": "99101bfb",
   "metadata": {
    "scrolled": true
   },
   "outputs": [
    {
     "data": {
      "text/plain": [
       "dict_keys(['df_1', 'df_2', 'df_3', 'df_4', 'df_5'])"
      ]
     },
     "execution_count": 92,
     "metadata": {},
     "output_type": "execute_result"
    }
   ],
   "source": [
    "df_prep.keys()"
   ]
  },
  {
   "cell_type": "code",
   "execution_count": 93,
   "id": "2b09d369",
   "metadata": {
    "scrolled": true
   },
   "outputs": [
    {
     "data": {
      "text/html": [
       "<div>\n",
       "<style scoped>\n",
       "    .dataframe tbody tr th:only-of-type {\n",
       "        vertical-align: middle;\n",
       "    }\n",
       "\n",
       "    .dataframe tbody tr th {\n",
       "        vertical-align: top;\n",
       "    }\n",
       "\n",
       "    .dataframe thead th {\n",
       "        text-align: right;\n",
       "    }\n",
       "</style>\n",
       "<table border=\"1\" class=\"dataframe\">\n",
       "  <thead>\n",
       "    <tr style=\"text-align: right;\">\n",
       "      <th></th>\n",
       "      <th>video_name</th>\n",
       "      <th>describe_en</th>\n",
       "      <th>time_start</th>\n",
       "      <th>time_end</th>\n",
       "      <th>sentences_en</th>\n",
       "    </tr>\n",
       "  </thead>\n",
       "  <tbody>\n",
       "    <tr>\n",
       "      <th>0</th>\n",
       "      <td>D3_DA_0527_000042.mp4</td>\n",
       "      <td>the woman drinks water and computers</td>\n",
       "      <td>00:00.00000</td>\n",
       "      <td>00:04.00000</td>\n",
       "      <td>the woman walks in front of the refrigerator</td>\n",
       "    </tr>\n",
       "    <tr>\n",
       "      <th>1</th>\n",
       "      <td>D3_DA_0527_000042.mp4</td>\n",
       "      <td>the woman drinks water and computers</td>\n",
       "      <td>00:04.00000</td>\n",
       "      <td>00:12.00000</td>\n",
       "      <td>the woman removes the water from the refrigerator</td>\n",
       "    </tr>\n",
       "    <tr>\n",
       "      <th>2</th>\n",
       "      <td>D3_DA_0527_000042.mp4</td>\n",
       "      <td>the woman drinks water and computers</td>\n",
       "      <td>00:12.00000</td>\n",
       "      <td>00:27.00000</td>\n",
       "      <td>the woman pours water into the tumbler</td>\n",
       "    </tr>\n",
       "    <tr>\n",
       "      <th>3</th>\n",
       "      <td>D3_DA_0527_000042.mp4</td>\n",
       "      <td>the woman drinks water and computers</td>\n",
       "      <td>00:27.00000</td>\n",
       "      <td>00:34.00000</td>\n",
       "      <td>the woman closes the tumbler lid</td>\n",
       "    </tr>\n",
       "    <tr>\n",
       "      <th>4</th>\n",
       "      <td>D3_DA_0527_000042.mp4</td>\n",
       "      <td>the woman drinks water and computers</td>\n",
       "      <td>00:34.00000</td>\n",
       "      <td>00:40.00000</td>\n",
       "      <td>the woman goes to the seat with a tumbler and ...</td>\n",
       "    </tr>\n",
       "  </tbody>\n",
       "</table>\n",
       "</div>"
      ],
      "text/plain": [
       "              video_name                           describe_en   time_start  \\\n",
       "0  D3_DA_0527_000042.mp4  the woman drinks water and computers  00:00.00000   \n",
       "1  D3_DA_0527_000042.mp4  the woman drinks water and computers  00:04.00000   \n",
       "2  D3_DA_0527_000042.mp4  the woman drinks water and computers  00:12.00000   \n",
       "3  D3_DA_0527_000042.mp4  the woman drinks water and computers  00:27.00000   \n",
       "4  D3_DA_0527_000042.mp4  the woman drinks water and computers  00:34.00000   \n",
       "\n",
       "      time_end                                       sentences_en  \n",
       "0  00:04.00000       the woman walks in front of the refrigerator  \n",
       "1  00:12.00000  the woman removes the water from the refrigerator  \n",
       "2  00:27.00000             the woman pours water into the tumbler  \n",
       "3  00:34.00000                   the woman closes the tumbler lid  \n",
       "4  00:40.00000  the woman goes to the seat with a tumbler and ...  "
      ]
     },
     "execution_count": 93,
     "metadata": {},
     "output_type": "execute_result"
    }
   ],
   "source": [
    "df_prep['df_1'].head()"
   ]
  },
  {
   "cell_type": "code",
   "execution_count": 108,
   "id": "e4d7e573",
   "metadata": {},
   "outputs": [],
   "source": [
    "## 전처리 완료한 데이터프레임 및 메인데이터프레임(각 비디오 파일명을 id 컬럼값으로하는) csv파일 저장\n",
    "\n",
    "def label_id_to_csv(df_dic, output_dir):\n",
    "    id_list = []\n",
    "    if not os.path.exists(output_dir):\n",
    "        os.makedirs(output_dir)\n",
    "\n",
    "    for key, df in df_dic.items():\n",
    "        if not df.empty and 'video_name' in df.columns and len(df['video_name']) > 0:\n",
    "            file_name = df['video_name'].iloc[0].replace('.mp4', '')\n",
    "            output_path = os.path.join(output_dir, f'{file_name}.csv')\n",
    "            df.to_csv(output_path, encoding='utf-8', index=False)\n",
    "            id_list.append(file_name)\n",
    "        else:\n",
    "            print(f\"no data or 'video_name' column in dataframe for key: {key}\")\n",
    "    \n",
    "    df_main = pd.DataFrame({'id': id_list})\n",
    "    output_main = os.path.join(output_dir, 'df_main.csv')\n",
    "    df_main.to_csv(output_main, encoding='utf-8', index=False)\n",
    "    \n",
    "    for file_name in os.listdir(output_dir):\n",
    "        print(file_name)\n",
    "    \n",
    "    return df_main"
   ]
  },
  {
   "cell_type": "code",
   "execution_count": 109,
   "id": "a54a44e9",
   "metadata": {},
   "outputs": [
    {
     "name": "stdout",
     "output_type": "stream",
     "text": [
      "D3_DA_0527_000042.csv\n",
      "D3_DA_0601_000001.csv\n",
      "D3_DA_0603_000001.csv\n",
      "D3_DA_0609_000001.csv\n",
      "D3_DA_0610_000001.csv\n",
      "df_main.csv\n"
     ]
    }
   ],
   "source": [
    "output_dir = './preprocessed_label_sample'\n",
    "main_id = label_id_to_csv(df_prep, output_dir)"
   ]
  },
  {
   "cell_type": "code",
   "execution_count": 110,
   "id": "55a1c7aa",
   "metadata": {
    "scrolled": true
   },
   "outputs": [
    {
     "data": {
      "text/html": [
       "<div>\n",
       "<style scoped>\n",
       "    .dataframe tbody tr th:only-of-type {\n",
       "        vertical-align: middle;\n",
       "    }\n",
       "\n",
       "    .dataframe tbody tr th {\n",
       "        vertical-align: top;\n",
       "    }\n",
       "\n",
       "    .dataframe thead th {\n",
       "        text-align: right;\n",
       "    }\n",
       "</style>\n",
       "<table border=\"1\" class=\"dataframe\">\n",
       "  <thead>\n",
       "    <tr style=\"text-align: right;\">\n",
       "      <th></th>\n",
       "      <th>id</th>\n",
       "    </tr>\n",
       "  </thead>\n",
       "  <tbody>\n",
       "    <tr>\n",
       "      <th>0</th>\n",
       "      <td>D3_DA_0527_000042</td>\n",
       "    </tr>\n",
       "    <tr>\n",
       "      <th>1</th>\n",
       "      <td>D3_DA_0601_000001</td>\n",
       "    </tr>\n",
       "    <tr>\n",
       "      <th>2</th>\n",
       "      <td>D3_DA_0603_000001</td>\n",
       "    </tr>\n",
       "    <tr>\n",
       "      <th>3</th>\n",
       "      <td>D3_DA_0609_000001</td>\n",
       "    </tr>\n",
       "    <tr>\n",
       "      <th>4</th>\n",
       "      <td>D3_DA_0610_000001</td>\n",
       "    </tr>\n",
       "  </tbody>\n",
       "</table>\n",
       "</div>"
      ],
      "text/plain": [
       "                  id\n",
       "0  D3_DA_0527_000042\n",
       "1  D3_DA_0601_000001\n",
       "2  D3_DA_0603_000001\n",
       "3  D3_DA_0609_000001\n",
       "4  D3_DA_0610_000001"
      ]
     },
     "execution_count": 110,
     "metadata": {},
     "output_type": "execute_result"
    }
   ],
   "source": [
    "main_id.head()"
   ]
  },
  {
   "cell_type": "code",
   "execution_count": null,
   "id": "6a7377ab",
   "metadata": {},
   "outputs": [],
   "source": [
    "## sentences_en 문장에서 키워드 추출\n",
    "\n",
    "    ## 단계\n",
    "        # 토큰화\n",
    "        # 불용어 제거\n",
    "        # 품사 태깅\n",
    "        # 태깅 결과에서 명사, 동사, 형용사만 'desc_kwd' 컬럼에 저장\n",
    "        "
   ]
  },
  {
   "cell_type": "code",
   "execution_count": 8,
   "id": "ecabb47f-3764-448f-83d8-3c2dc5ad0e97",
   "metadata": {
    "scrolled": true
   },
   "outputs": [
    {
     "name": "stdout",
     "output_type": "stream",
     "text": [
      "Collecting nltk\n",
      "  Downloading nltk-3.8.1-py3-none-any.whl (1.5 MB)\n",
      "     ---------------------------------------- 0.0/1.5 MB ? eta -:--:--\n",
      "     - -------------------------------------- 0.1/1.5 MB 1.7 MB/s eta 0:00:01\n",
      "     ------------ --------------------------- 0.5/1.5 MB 5.8 MB/s eta 0:00:01\n",
      "     ----------------------- ---------------- 0.9/1.5 MB 7.0 MB/s eta 0:00:01\n",
      "     --------------------------------- ------ 1.3/1.5 MB 8.1 MB/s eta 0:00:01\n",
      "     ---------------------------------------- 1.5/1.5 MB 8.0 MB/s eta 0:00:00\n",
      "Collecting click (from nltk)\n",
      "  Downloading click-8.1.7-py3-none-any.whl.metadata (3.0 kB)\n",
      "Collecting joblib (from nltk)\n",
      "  Downloading joblib-1.3.2-py3-none-any.whl.metadata (5.4 kB)\n",
      "Collecting regex>=2021.8.3 (from nltk)\n",
      "  Downloading regex-2023.10.3-cp310-cp310-win_amd64.whl.metadata (41 kB)\n",
      "     ---------------------------------------- 0.0/42.0 kB ? eta -:--:--\n",
      "     ---------------------------------------- 42.0/42.0 kB ? eta 0:00:00\n",
      "Collecting tqdm (from nltk)\n",
      "  Downloading tqdm-4.66.1-py3-none-any.whl.metadata (57 kB)\n",
      "     ---------------------------------------- 0.0/57.6 kB ? eta -:--:--\n",
      "     ---------------------------------------- 57.6/57.6 kB ? eta 0:00:00\n",
      "Requirement already satisfied: colorama in c:\\users\\kkm_ai_study90\\anaconda3\\envs\\team3\\lib\\site-packages (from click->nltk) (0.4.6)\n",
      "Downloading regex-2023.10.3-cp310-cp310-win_amd64.whl (269 kB)\n",
      "   ---------------------------------------- 0.0/269.6 kB ? eta -:--:--\n",
      "   ---------------------------------------- 269.6/269.6 kB 8.4 MB/s eta 0:00:00\n",
      "Downloading click-8.1.7-py3-none-any.whl (97 kB)\n",
      "   ---------------------------------------- 0.0/97.9 kB ? eta -:--:--\n",
      "   ---------------------------------------- 97.9/97.9 kB 5.8 MB/s eta 0:00:00\n",
      "Downloading joblib-1.3.2-py3-none-any.whl (302 kB)\n",
      "   ---------------------------------------- 0.0/302.2 kB ? eta -:--:--\n",
      "   ---------------------------------------- 302.2/302.2 kB 9.1 MB/s eta 0:00:00\n",
      "Downloading tqdm-4.66.1-py3-none-any.whl (78 kB)\n",
      "   ---------------------------------------- 0.0/78.3 kB ? eta -:--:--\n",
      "   ---------------------------------------- 78.3/78.3 kB ? eta 0:00:00\n",
      "Installing collected packages: tqdm, regex, joblib, click, nltk\n",
      "Successfully installed click-8.1.7 joblib-1.3.2 nltk-3.8.1 regex-2023.10.3 tqdm-4.66.1\n"
     ]
    }
   ],
   "source": [
    "!pip install nltk"
   ]
  },
  {
   "cell_type": "code",
   "execution_count": 9,
   "id": "b8564c2d",
   "metadata": {},
   "outputs": [
    {
     "name": "stderr",
     "output_type": "stream",
     "text": [
      "[nltk_data] Downloading package punkt to\n",
      "[nltk_data]     C:\\Users\\KKM_AI_STUDY90\\AppData\\Roaming\\nltk_data...\n",
      "[nltk_data]   Unzipping tokenizers\\punkt.zip.\n",
      "[nltk_data] Downloading package stopwords to\n",
      "[nltk_data]     C:\\Users\\KKM_AI_STUDY90\\AppData\\Roaming\\nltk_data...\n",
      "[nltk_data]   Unzipping corpora\\stopwords.zip.\n",
      "[nltk_data] Downloading package averaged_perceptron_tagger to\n",
      "[nltk_data]     C:\\Users\\KKM_AI_STUDY90\\AppData\\Roaming\\nltk_data...\n",
      "[nltk_data]   Unzipping taggers\\averaged_perceptron_tagger.zip.\n"
     ]
    },
    {
     "data": {
      "text/plain": [
       "True"
      ]
     },
     "execution_count": 9,
     "metadata": {},
     "output_type": "execute_result"
    }
   ],
   "source": [
    "import nltk\n",
    "nltk.download('punkt')\n",
    "nltk.download('stopwords')\n",
    "from nltk import word_tokenize\n",
    "from nltk.corpus import stopwords\n",
    "from nltk import pos_tag\n",
    "nltk.download('averaged_perceptron_tagger')"
   ]
  },
  {
   "cell_type": "code",
   "execution_count": 56,
   "id": "cb04545e",
   "metadata": {},
   "outputs": [
    {
     "data": {
      "text/html": [
       "<div>\n",
       "<style scoped>\n",
       "    .dataframe tbody tr th:only-of-type {\n",
       "        vertical-align: middle;\n",
       "    }\n",
       "\n",
       "    .dataframe tbody tr th {\n",
       "        vertical-align: top;\n",
       "    }\n",
       "\n",
       "    .dataframe thead th {\n",
       "        text-align: right;\n",
       "    }\n",
       "</style>\n",
       "<table border=\"1\" class=\"dataframe\">\n",
       "  <thead>\n",
       "    <tr style=\"text-align: right;\">\n",
       "      <th></th>\n",
       "      <th>video_name</th>\n",
       "      <th>describe_en</th>\n",
       "      <th>time_start</th>\n",
       "      <th>time_end</th>\n",
       "      <th>sentences_en</th>\n",
       "    </tr>\n",
       "  </thead>\n",
       "  <tbody>\n",
       "    <tr>\n",
       "      <th>0</th>\n",
       "      <td>D3_DA_0527_000042.mp4</td>\n",
       "      <td>the woman drinks water and computers</td>\n",
       "      <td>00:00.00000</td>\n",
       "      <td>00:04.00000</td>\n",
       "      <td>the woman walks in front of the refrigerator</td>\n",
       "    </tr>\n",
       "  </tbody>\n",
       "</table>\n",
       "</div>"
      ],
      "text/plain": [
       "              video_name                           describe_en   time_start  \\\n",
       "0  D3_DA_0527_000042.mp4  the woman drinks water and computers  00:00.00000   \n",
       "\n",
       "      time_end                                  sentences_en  \n",
       "0  00:04.00000  the woman walks in front of the refrigerator  "
      ]
     },
     "execution_count": 56,
     "metadata": {},
     "output_type": "execute_result"
    }
   ],
   "source": [
    "## basic form test(one csv file apply)\n",
    "\n",
    "df = pd.read_csv('D3_DA_0527_000042.csv', encoding='utf-8')\n",
    "df.head(1)"
   ]
  },
  {
   "cell_type": "code",
   "execution_count": 6,
   "id": "c8372d50",
   "metadata": {},
   "outputs": [],
   "source": [
    "df['desc_token'] = df['sentences_en'].apply(word_tokenize)"
   ]
  },
  {
   "cell_type": "code",
   "execution_count": 11,
   "id": "54b913e5",
   "metadata": {},
   "outputs": [],
   "source": [
    "stop_words = set(stopwords.words('english'))\n",
    "\n",
    "def remove_stopwords(tokens):\n",
    "    return [word for word in tokens if word not in stop_words]"
   ]
  },
  {
   "cell_type": "code",
   "execution_count": 12,
   "id": "6c9d6763",
   "metadata": {},
   "outputs": [],
   "source": [
    "df['desc_token'] = df['desc_token'].apply(remove_stopwords)"
   ]
  },
  {
   "cell_type": "code",
   "execution_count": 13,
   "id": "1f0f94d8",
   "metadata": {
    "scrolled": true
   },
   "outputs": [
    {
     "data": {
      "text/plain": [
       "0      [woman, walks, front, refrigerator]\n",
       "1    [woman, removes, water, refrigerator]\n",
       "2           [woman, pours, water, tumbler]\n",
       "3            [woman, closes, tumbler, lid]\n",
       "4      [woman, goes, seat, tumbler, water]\n",
       "5                     [woman, sits, place]\n",
       "6                  [woman, sees, computer]\n",
       "Name: desc_token, dtype: object"
      ]
     },
     "execution_count": 13,
     "metadata": {},
     "output_type": "execute_result"
    }
   ],
   "source": [
    "df['desc_token']"
   ]
  },
  {
   "cell_type": "code",
   "execution_count": 21,
   "id": "c2c396cc",
   "metadata": {},
   "outputs": [],
   "source": [
    "def extract_kwd(tokens):\n",
    "    tagged_tokens = pos_tag(tokens)\n",
    "    return [word for word, tag in tagged_tokens if tag.startswith('NN') or tag.startswith('VB') or tag.startswith('JJ')]"
   ]
  },
  {
   "cell_type": "code",
   "execution_count": 22,
   "id": "d3651a72",
   "metadata": {},
   "outputs": [],
   "source": [
    "df['desc_kwd'] = df['desc_token'].apply(extract_kwd)"
   ]
  },
  {
   "cell_type": "code",
   "execution_count": 23,
   "id": "e70b671f",
   "metadata": {},
   "outputs": [
    {
     "data": {
      "text/plain": [
       "0      [woman, walks, front, refrigerator]\n",
       "1    [woman, removes, water, refrigerator]\n",
       "2           [woman, pours, water, tumbler]\n",
       "3            [woman, closes, tumbler, lid]\n",
       "4      [woman, goes, seat, tumbler, water]\n",
       "5                     [woman, sits, place]\n",
       "6                  [woman, sees, computer]\n",
       "Name: desc_kwd, dtype: object"
      ]
     },
     "execution_count": 23,
     "metadata": {},
     "output_type": "execute_result"
    }
   ],
   "source": [
    "df['desc_kwd']"
   ]
  },
  {
   "cell_type": "code",
   "execution_count": 75,
   "id": "c89c941c",
   "metadata": {
    "scrolled": true
   },
   "outputs": [
    {
     "name": "stderr",
     "output_type": "stream",
     "text": [
      "[nltk_data] Downloading package punkt to\n",
      "[nltk_data]     C:\\Users\\KGM_STC_AI\\AppData\\Roaming\\nltk_data...\n",
      "[nltk_data]   Package punkt is already up-to-date!\n",
      "[nltk_data] Downloading package stopwords to\n",
      "[nltk_data]     C:\\Users\\KGM_STC_AI\\AppData\\Roaming\\nltk_data...\n",
      "[nltk_data]   Package stopwords is already up-to-date!\n",
      "[nltk_data] Downloading package averaged_perceptron_tagger to\n",
      "[nltk_data]     C:\\Users\\KGM_STC_AI\\AppData\\Roaming\\nltk_data...\n",
      "[nltk_data]   Package averaged_perceptron_tagger is already up-to-\n",
      "[nltk_data]       date!\n"
     ]
    }
   ],
   "source": [
    "## 함수로 통합(토큰화, 불용어제거, 품사추출)\n",
    "\n",
    "import pandas as pd\n",
    "import nltk\n",
    "from nltk.tokenize import word_tokenize\n",
    "from nltk import pos_tag\n",
    "from nltk.corpus import stopwords\n",
    "nltk.download('punkt')\n",
    "nltk.download('stopwords')\n",
    "nltk.download('averaged_perceptron_tagger')\n",
    "\n",
    "stop_words = set(stopwords.words('english'))\n",
    "\n",
    "def sentence_keywords_extract(df):\n",
    "    \n",
    "    column = df['sentences_en']\n",
    "    processed_column = []   \n",
    "    tag_list = ['NN', 'VB', 'JJ']\n",
    "    \n",
    "    for i in range(len(column)):\n",
    "        text = column[i]\n",
    "        tokens = word_tokenize(text)\n",
    "        \n",
    "        tokens_no_stopwords = []\n",
    "        for token in tokens:\n",
    "            if token not in stop_words:\n",
    "                tokens_no_stopwords.append(token)\n",
    "                \n",
    "        processed_tokens = []\n",
    "        for word, tag in pos_tag(tokens_no_stopwords):\n",
    "            if any(tag.startswith(t) for t in tag_list):\n",
    "                processed_tokens.append(word)\n",
    "        \n",
    "        processed_column.append(processed_tokens)\n",
    "        keywords = processed_tokens\n",
    "    \n",
    "    df['sentence_kwd'] = processed_column\n",
    "    \n",
    "    return df\n",
    "    "
   ]
  },
  {
   "cell_type": "code",
   "execution_count": 76,
   "id": "15678b81",
   "metadata": {},
   "outputs": [],
   "source": [
    "df_check = sentence_keywords_extract(df)"
   ]
  },
  {
   "cell_type": "code",
   "execution_count": 77,
   "id": "bc8ad27b",
   "metadata": {
    "scrolled": true
   },
   "outputs": [
    {
     "data": {
      "text/html": [
       "<div>\n",
       "<style scoped>\n",
       "    .dataframe tbody tr th:only-of-type {\n",
       "        vertical-align: middle;\n",
       "    }\n",
       "\n",
       "    .dataframe tbody tr th {\n",
       "        vertical-align: top;\n",
       "    }\n",
       "\n",
       "    .dataframe thead th {\n",
       "        text-align: right;\n",
       "    }\n",
       "</style>\n",
       "<table border=\"1\" class=\"dataframe\">\n",
       "  <thead>\n",
       "    <tr style=\"text-align: right;\">\n",
       "      <th></th>\n",
       "      <th>video_name</th>\n",
       "      <th>describe_en</th>\n",
       "      <th>time_start</th>\n",
       "      <th>time_end</th>\n",
       "      <th>sentences_en</th>\n",
       "      <th>sentence_kwd</th>\n",
       "    </tr>\n",
       "  </thead>\n",
       "  <tbody>\n",
       "    <tr>\n",
       "      <th>0</th>\n",
       "      <td>D3_DA_0527_000042.mp4</td>\n",
       "      <td>the woman drinks water and computers</td>\n",
       "      <td>00:00.00000</td>\n",
       "      <td>00:04.00000</td>\n",
       "      <td>the woman walks in front of the refrigerator</td>\n",
       "      <td>[woman, walks, front, refrigerator]</td>\n",
       "    </tr>\n",
       "    <tr>\n",
       "      <th>1</th>\n",
       "      <td>D3_DA_0527_000042.mp4</td>\n",
       "      <td>the woman drinks water and computers</td>\n",
       "      <td>00:04.00000</td>\n",
       "      <td>00:12.00000</td>\n",
       "      <td>the woman removes the water from the refrigerator</td>\n",
       "      <td>[woman, removes, water, refrigerator]</td>\n",
       "    </tr>\n",
       "    <tr>\n",
       "      <th>2</th>\n",
       "      <td>D3_DA_0527_000042.mp4</td>\n",
       "      <td>the woman drinks water and computers</td>\n",
       "      <td>00:12.00000</td>\n",
       "      <td>00:27.00000</td>\n",
       "      <td>the woman pours water into the tumbler</td>\n",
       "      <td>[woman, pours, water, tumbler]</td>\n",
       "    </tr>\n",
       "    <tr>\n",
       "      <th>3</th>\n",
       "      <td>D3_DA_0527_000042.mp4</td>\n",
       "      <td>the woman drinks water and computers</td>\n",
       "      <td>00:27.00000</td>\n",
       "      <td>00:34.00000</td>\n",
       "      <td>the woman closes the tumbler lid</td>\n",
       "      <td>[woman, closes, tumbler, lid]</td>\n",
       "    </tr>\n",
       "    <tr>\n",
       "      <th>4</th>\n",
       "      <td>D3_DA_0527_000042.mp4</td>\n",
       "      <td>the woman drinks water and computers</td>\n",
       "      <td>00:34.00000</td>\n",
       "      <td>00:40.00000</td>\n",
       "      <td>the woman goes to the seat with a tumbler and ...</td>\n",
       "      <td>[woman, goes, seat, tumbler, water]</td>\n",
       "    </tr>\n",
       "  </tbody>\n",
       "</table>\n",
       "</div>"
      ],
      "text/plain": [
       "              video_name                           describe_en   time_start  \\\n",
       "0  D3_DA_0527_000042.mp4  the woman drinks water and computers  00:00.00000   \n",
       "1  D3_DA_0527_000042.mp4  the woman drinks water and computers  00:04.00000   \n",
       "2  D3_DA_0527_000042.mp4  the woman drinks water and computers  00:12.00000   \n",
       "3  D3_DA_0527_000042.mp4  the woman drinks water and computers  00:27.00000   \n",
       "4  D3_DA_0527_000042.mp4  the woman drinks water and computers  00:34.00000   \n",
       "\n",
       "      time_end                                       sentences_en  \\\n",
       "0  00:04.00000       the woman walks in front of the refrigerator   \n",
       "1  00:12.00000  the woman removes the water from the refrigerator   \n",
       "2  00:27.00000             the woman pours water into the tumbler   \n",
       "3  00:34.00000                   the woman closes the tumbler lid   \n",
       "4  00:40.00000  the woman goes to the seat with a tumbler and ...   \n",
       "\n",
       "                            sentence_kwd  \n",
       "0    [woman, walks, front, refrigerator]  \n",
       "1  [woman, removes, water, refrigerator]  \n",
       "2         [woman, pours, water, tumbler]  \n",
       "3          [woman, closes, tumbler, lid]  \n",
       "4    [woman, goes, seat, tumbler, water]  "
      ]
     },
     "execution_count": 77,
     "metadata": {},
     "output_type": "execute_result"
    }
   ],
   "source": [
    "df_check.head()"
   ]
  },
  {
   "cell_type": "code",
   "execution_count": 41,
   "id": "ceecdd75",
   "metadata": {},
   "outputs": [],
   "source": [
    "## 샘플데이터에 일괄 적용\n",
    "\n",
    "def load_csv_files(folder_path):\n",
    "    data = {}\n",
    "    counter = 1\n",
    "    \n",
    "    try:\n",
    "        for file in os.listdir(folder_path):\n",
    "            if file.endswith(\".csv\"):\n",
    "                file_path = os.path.join(folder_path, file)\n",
    "                df = pd.read_csv(file_path)\n",
    "                data[f'df_{counter}'] = df\n",
    "                counter += 1\n",
    "                \n",
    "        return data\n",
    "    except Exception as e:\n",
    "        print(f\"Error: {e}\")\n",
    "        return {}"
   ]
  },
  {
   "cell_type": "code",
   "execution_count": 10,
   "id": "b117f429",
   "metadata": {},
   "outputs": [],
   "source": [
    "def extract_columns(df, col_list):\n",
    "    extracted_df = df[col_list].copy()\n",
    "    return extracted_df"
   ]
  },
  {
   "cell_type": "code",
   "execution_count": 11,
   "id": "51550abd",
   "metadata": {},
   "outputs": [],
   "source": [
    "def data_split(df):\n",
    "    \n",
    "    new_df = pd.DataFrame(columns=['video_name', 'describe_en', 'data'])\n",
    "    row_to_add = []\n",
    "    \n",
    "    for index, row in df.iterrows():\n",
    "        sentences_data = eval(row['sentences'])\n",
    "        for data in sentences_data:\n",
    "            new_row = {'video_name': row['video_name'],\\\n",
    "                       'describe_en': row['describe_en'], 'data': data}\n",
    "            row_to_add.append(new_row)\n",
    "            \n",
    "    new_df = pd.concat([new_df, pd.DataFrame(row_to_add)], ignore_index=True)\n",
    "        \n",
    "    new_df['time_start'] = None\n",
    "    new_df['time_end'] = None\n",
    "    new_df['sentences_en'] = None\n",
    "\n",
    "    for index, row in new_df.iterrows():\n",
    "        data = row['data']\n",
    "        new_df.at[index, 'time_start'] = data['timestamps'][0]\n",
    "        new_df.at[index, 'time_end'] = data['timestamps'][1]\n",
    "        new_df.at[index, 'sentences_en'] = data['sentences_en']\n",
    "        \n",
    "    new_df.drop('data', axis=1, inplace=True)\n",
    "    new_df['describe_en'] = new_df['describe_en'].str.lower().str.replace('[^a-z0-9\\s]', '', regex=True)\n",
    "    new_df['sentences_en'] = new_df['sentences_en'].str.lower().str.replace('[^a-z0-9\\s]', '', regex=True)\n",
    "    \n",
    "    return new_df"
   ]
  },
  {
   "cell_type": "code",
   "execution_count": 15,
   "id": "31e58684",
   "metadata": {},
   "outputs": [
    {
     "name": "stderr",
     "output_type": "stream",
     "text": [
      "[nltk_data] Downloading package punkt to\n",
      "[nltk_data]     C:\\Users\\KKM_AI_STUDY90\\AppData\\Roaming\\nltk_data...\n",
      "[nltk_data]   Package punkt is already up-to-date!\n",
      "[nltk_data] Downloading package stopwords to\n",
      "[nltk_data]     C:\\Users\\KKM_AI_STUDY90\\AppData\\Roaming\\nltk_data...\n",
      "[nltk_data]   Package stopwords is already up-to-date!\n",
      "[nltk_data] Downloading package averaged_perceptron_tagger to\n",
      "[nltk_data]     C:\\Users\\KKM_AI_STUDY90\\AppData\\Roaming\\nltk_data...\n",
      "[nltk_data]   Package averaged_perceptron_tagger is already up-to-\n",
      "[nltk_data]       date!\n"
     ]
    }
   ],
   "source": [
    "import pandas as pd\n",
    "import nltk\n",
    "from nltk.tokenize import word_tokenize\n",
    "from nltk import pos_tag\n",
    "from nltk.corpus import stopwords\n",
    "nltk.download('punkt')\n",
    "nltk.download('stopwords')\n",
    "nltk.download('averaged_perceptron_tagger')\n",
    "\n",
    "stop_words = set(stopwords.words('english'))\n",
    "\n",
    "def sentence_keywords_extract(df):\n",
    "    \n",
    "    column = df['sentences_en']\n",
    "    processed_column = []   \n",
    "    tag_list = ['NN', 'VB', 'JJ']\n",
    "    \n",
    "    for i in range(len(column)):\n",
    "        text = column[i]\n",
    "        tokens = word_tokenize(text)\n",
    "        \n",
    "        tokens_no_stopwords = []\n",
    "        for token in tokens:\n",
    "            if token not in stop_words:\n",
    "                tokens_no_stopwords.append(token)\n",
    "                \n",
    "        processed_tokens = []\n",
    "        for word, tag in pos_tag(tokens_no_stopwords):\n",
    "            if any(tag.startswith(t) for t in tag_list):\n",
    "                processed_tokens.append(word)\n",
    "        \n",
    "        processed_column.append(processed_tokens)\n",
    "    \n",
    "    df['sentence_kwd'] = processed_column\n",
    "    \n",
    "    return df"
   ]
  },
  {
   "cell_type": "code",
   "execution_count": 20,
   "id": "c8d67f59",
   "metadata": {},
   "outputs": [],
   "source": [
    "def label_id_to_csv(df_dic, output_dir):\n",
    "    id_list = []\n",
    "    if not os.path.exists(output_dir):\n",
    "        os.makedirs(output_dir)\n",
    "\n",
    "    for key, df in df_dic.items():\n",
    "        if not df.empty and 'video_name' in df.columns and len(df['video_name']) > 0:\n",
    "            file_name = df['video_name'].iloc[0].replace('.mp4', '')\n",
    "            output_path = os.path.join(output_dir, f'{file_name}.csv')\n",
    "            df.to_csv(output_path, encoding='utf-8', index=False)\n",
    "            id_list.append(file_name)\n",
    "        else:\n",
    "            print(f\"no data or 'video_name' column in dataframe for key: {key}\")\n",
    "    \n",
    "    df_main = pd.DataFrame({'id': id_list})\n",
    "    output_main = os.path.join(output_dir, 'df_main.csv')\n",
    "    df_main.to_csv(output_main, encoding='utf-8', index=False)\n",
    "    \n",
    "    for file_name in os.listdir(output_dir):\n",
    "        print(file_name)\n",
    "    \n",
    "    return df_main"
   ]
  },
  {
   "cell_type": "code",
   "execution_count": 16,
   "id": "6cc78f8d",
   "metadata": {},
   "outputs": [],
   "source": [
    "## 전처리 일괄\n",
    "    ## 데이터 로드: load_csv_files(folder_path)\n",
    "    ## 컬럼 추출: extract_columns(df, col_list)\n",
    "    ## 정규화 및 컬럼데이터 분리:data_split(df)\n",
    "    ## 키워드 추출: sentences_keywords_extract(column)\n",
    "    ## csv 파일 생성(label, main): label_id_to_csv(df_dic, output_dir)\n",
    "\n",
    "## 데이터 로드\n",
    "folder_path = './sample_5'\n",
    "data = load_csv_files(folder_path)\n",
    "\n",
    "## 데이터프레임 전처리\n",
    "### 컬럼 추출\n",
    "col_list = ['video_name', 'describe_en', 'sentences']\n",
    "\n",
    "df_sel = {}\n",
    "for key, df in data.items():\n",
    "    df_sel[key] = extract_columns(df, col_list)\n",
    "    \n",
    "### 정규화 및 컬럼데이터 분리\n",
    "df_split = {}\n",
    "for key, df in df_sel.items():\n",
    "    df_split[key] = data_split(df)\n",
    "    \n",
    "### 키워드 추출\n",
    "df_prep = {}\n",
    "for key, df in df_split.items():\n",
    "    df_prep[key] = sentence_keywords_extract(df)"
   ]
  },
  {
   "cell_type": "code",
   "execution_count": 17,
   "id": "4cf397f1",
   "metadata": {},
   "outputs": [
    {
     "name": "stdout",
     "output_type": "stream",
     "text": [
      "dict_keys(['df_1', 'df_2', 'df_3', 'df_4', 'df_5'])\n",
      "31\n"
     ]
    }
   ],
   "source": [
    "## 결과 확인\n",
    "print(df_prep.keys())\n",
    "a = len(df_prep['df_1'])\n",
    "b = len(df_prep['df_2'])\n",
    "c = len(df_prep['df_3'])\n",
    "d = len(df_prep['df_4'])\n",
    "e = len(df_prep['df_5'])\n",
    "print(a+b+c+d+e)\n",
    "\n"
   ]
  },
  {
   "cell_type": "code",
   "execution_count": 23,
   "id": "a17dc14b",
   "metadata": {
    "scrolled": true
   },
   "outputs": [
    {
     "name": "stdout",
     "output_type": "stream",
     "text": [
      "D3_DA_0527_000042.csv\n",
      "D3_DA_0601_000001.csv\n",
      "D3_DA_0603_000001.csv\n",
      "D3_DA_0609_000001.csv\n",
      "D3_DA_0610_000001.csv\n",
      "df_main.csv\n"
     ]
    }
   ],
   "source": [
    "## 전처리 데이터프레임 csv 파일 저장\n",
    "output_dir = './sample_label_preprocessed'\n",
    "main_id = label_id_to_csv(df_prep, output_dir)"
   ]
  },
  {
   "cell_type": "code",
   "execution_count": 24,
   "id": "c2e9d25b",
   "metadata": {
    "scrolled": true
   },
   "outputs": [],
   "source": [
    "main_df = pd.read_csv('./sample_label_preprocessed/df_main.csv', encoding='utf-8')"
   ]
  },
  {
   "cell_type": "code",
   "execution_count": 25,
   "id": "308c3df0",
   "metadata": {},
   "outputs": [
    {
     "data": {
      "text/html": [
       "<div>\n",
       "<style scoped>\n",
       "    .dataframe tbody tr th:only-of-type {\n",
       "        vertical-align: middle;\n",
       "    }\n",
       "\n",
       "    .dataframe tbody tr th {\n",
       "        vertical-align: top;\n",
       "    }\n",
       "\n",
       "    .dataframe thead th {\n",
       "        text-align: right;\n",
       "    }\n",
       "</style>\n",
       "<table border=\"1\" class=\"dataframe\">\n",
       "  <thead>\n",
       "    <tr style=\"text-align: right;\">\n",
       "      <th></th>\n",
       "      <th>id</th>\n",
       "    </tr>\n",
       "  </thead>\n",
       "  <tbody>\n",
       "    <tr>\n",
       "      <th>0</th>\n",
       "      <td>D3_DA_0527_000042</td>\n",
       "    </tr>\n",
       "    <tr>\n",
       "      <th>1</th>\n",
       "      <td>D3_DA_0601_000001</td>\n",
       "    </tr>\n",
       "    <tr>\n",
       "      <th>2</th>\n",
       "      <td>D3_DA_0603_000001</td>\n",
       "    </tr>\n",
       "    <tr>\n",
       "      <th>3</th>\n",
       "      <td>D3_DA_0609_000001</td>\n",
       "    </tr>\n",
       "    <tr>\n",
       "      <th>4</th>\n",
       "      <td>D3_DA_0610_000001</td>\n",
       "    </tr>\n",
       "  </tbody>\n",
       "</table>\n",
       "</div>"
      ],
      "text/plain": [
       "                  id\n",
       "0  D3_DA_0527_000042\n",
       "1  D3_DA_0601_000001\n",
       "2  D3_DA_0603_000001\n",
       "3  D3_DA_0609_000001\n",
       "4  D3_DA_0610_000001"
      ]
     },
     "execution_count": 25,
     "metadata": {},
     "output_type": "execute_result"
    }
   ],
   "source": [
    "main_df.head()"
   ]
  }
 ],
 "metadata": {
  "kernelspec": {
   "display_name": "Python 3 (ipykernel)",
   "language": "python",
   "name": "python3"
  },
  "language_info": {
   "codemirror_mode": {
    "name": "ipython",
    "version": 3
   },
   "file_extension": ".py",
   "mimetype": "text/x-python",
   "name": "python",
   "nbconvert_exporter": "python",
   "pygments_lexer": "ipython3",
   "version": "3.11.5"
  }
 },
 "nbformat": 4,
 "nbformat_minor": 5
}
